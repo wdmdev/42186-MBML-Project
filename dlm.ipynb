{
 "cells": [
  {
   "cell_type": "markdown",
   "metadata": {},
   "source": [
    "# Dynamic Linear Model"
   ]
  },
  {
   "cell_type": "code",
   "execution_count": 16,
   "metadata": {},
   "outputs": [],
   "source": [
    "import os\n",
    "import math\n",
    "\n",
    "import torch\n",
    "import pyro\n",
    "import pyro.distributions as dist\n",
    "from pyro.infer.autoguide import AutoDelta\n",
    "from pyro.optim import Adam\n",
    "from pyro.infer import SVI, Trace_ELBO, config_enumerate\n",
    "from pyro.contrib.tracking.extended_kalman_filter import EKFState\n",
    "from pyro.contrib.tracking.distributions import EKFDistribution\n",
    "from pyro.contrib.tracking.dynamic_models import NcvContinuous\n",
    "from pyro.contrib.tracking.measurements import PositionMeasurement\n",
    "import pyro.poutine as poutine\n",
    "from pyro.contrib.forecast import ForecastingModel, Forecaster, eval_crps\n",
    "from pyro.infer.reparam import LocScaleReparam\n",
    "from pyro.ops.stats import quantile\n",
    "\n",
    "from main import get_energy_data, get_weather_data\n",
    "import pandas as pd\n",
    "import matplotlib.pyplot as plt\n",
    "\n",
    "pyro.set_rng_seed(20200928)\n",
    "torch.manual_seed(20200101)\n",
    "\n",
    "pd.set_option('display.max_rows', 500)\n",
    "\n"
   ]
  },
  {
   "cell_type": "markdown",
   "metadata": {},
   "source": [
    "## Data"
   ]
  },
  {
   "cell_type": "code",
   "execution_count": 44,
   "metadata": {},
   "outputs": [
    {
     "name": "stdout",
     "output_type": "stream",
     "text": [
      "Number of observations: 178181\n",
      "Number of training observations: 160363\n",
      "Number of test observations: 17818\n"
     ]
    }
   ],
   "source": [
    "df = pd.read_csv(\"preprocessed_data/df.csv\")#.iloc[:1000]\n",
    "df[\"time_str\"] = [d.split(\"+\")[0] for d in df[\"time_str\"]]\n",
    "df[\"time_str\"] = pd.to_datetime(df[\"time_str\"], infer_datetime_format=True)#'%Y-%m-%d %H:%M:%S.%f') # 2015-01-01 10:00:00+00:00\n",
    "dfW = get_weather_data(df)\n",
    "dfE = get_energy_data(df)\n",
    "\n",
    "X_W = torch.from_numpy(dfW.values).float()\n",
    "X_E = torch.from_numpy(dfE.values).float()\n",
    "\n",
    "obs = torch.from_numpy(df[\"price actual\"].values).float()\n",
    "\n",
    "# translate to pyro forecasting language\n",
    "y = obs.unsqueeze(-1)\n",
    "covariates = X_E\n",
    "\n",
    "# define constants\n",
    "n, p = X_E.shape\n",
    "\n",
    "# start, train end, test end\n",
    "T0 = 0\n",
    "T1 = n - n//10 # 10 % test data\n",
    "T2 = n\n",
    "\n",
    "print(\"Number of observations:\", n)\n",
    "print(\"Number of training observations:\", T1 - T0)\n",
    "print(\"Number of test observations:\", T2 - T1)"
   ]
  },
  {
   "cell_type": "code",
   "execution_count": 7,
   "metadata": {},
   "outputs": [
    {
     "data": {
      "text/plain": [
       "(torch.Size([1000, 11]),\n",
       " torch.Size([1000, 10]),\n",
       " torch.Size([1000, 1]),\n",
       " torch.Size([1000]))"
      ]
     },
     "execution_count": 7,
     "metadata": {},
     "output_type": "execute_result"
    }
   ],
   "source": [
    "# covariates = torch.cat(\n",
    "#     [torch.ones(n, 1), torch.randn(n, p) * 0.1],\n",
    "#     dim=-1\n",
    "# )\n",
    "# beta0 = torch.empty(n, 1).normal_(0, 0.1).cumsum(0)\n",
    "# betas_p = torch.empty(n, p).normal_(0, 0.02).cumsum(0)\n",
    "# betas = torch.cat([beta0, betas_p], dim=-1)\n",
    "# y = ((covariates * betas).sum(-1) + 0.1 * torch.randn(n)).unsqueeze(-1)\n",
    "\n",
    "# covariates.shape, X_E.shape, y.shape, obs.shape"
   ]
  },
  {
   "cell_type": "markdown",
   "metadata": {},
   "source": [
    "## Model"
   ]
  },
  {
   "cell_type": "code",
   "execution_count": 4,
   "metadata": {},
   "outputs": [],
   "source": [
    "class VanillaDLM(ForecastingModel):\n",
    "    def model(self, zero_data, covariates):\n",
    "        data_dim = zero_data.size(-1)\n",
    "        feature_dim = covariates.size(-1)\n",
    "\n",
    "        drift_scale = pyro.sample(\"drift_scale\", dist.LogNormal(-10, 10).expand([feature_dim]).to_event(1))\n",
    "        with self.time_plate:\n",
    "            with poutine.reparam(config={\"drift\": LocScaleReparam()}):\n",
    "                drift = pyro.sample(\"drift\", dist.Normal(torch.zeros(covariates.size()), drift_scale).to_event(1))\n",
    "\n",
    "        weight = drift.cumsum(-2)  # A Brownian motion.\n",
    "        # record in model_trace\n",
    "        pyro.deterministic(\"weight\", weight)\n",
    "\n",
    "        prediction = (weight * covariates).sum(-1, keepdim=True)\n",
    "        assert prediction.shape[-2:] == zero_data.shape\n",
    "        # record in model_trace\n",
    "        pyro.deterministic(\"prediction\", prediction)\n",
    "\n",
    "        scale = pyro.sample(\"noise_scale\", dist.LogNormal(-5, 10).expand([1]).to_event(1))\n",
    "        noise_dist = dist.Normal(0, scale)\n",
    "\n",
    "        self.predict(noise_dist, prediction)"
   ]
  },
  {
   "cell_type": "markdown",
   "metadata": {},
   "source": [
    "## Inference"
   ]
  },
  {
   "cell_type": "code",
   "execution_count": 45,
   "metadata": {},
   "outputs": [
    {
     "name": "stderr",
     "output_type": "stream",
     "text": [
      "INFO \t step    0 loss = 1.21954e+11\n",
      "INFO \t step  100 loss = 14.8221\n",
      "INFO \t step  200 loss = 7.18281\n",
      "INFO \t step  300 loss = 5.2426\n",
      "INFO \t step  400 loss = 4.93827\n",
      "INFO \t step  500 loss = 4.83755\n",
      "INFO \t step  600 loss = 4.83248\n",
      "INFO \t step  700 loss = 4.3766\n",
      "INFO \t step  800 loss = 4.42503\n",
      "INFO \t step  900 loss = 4.39437\n"
     ]
    },
    {
     "name": "stdout",
     "output_type": "stream",
     "text": [
      "CPU times: total: 28min 23s\n",
      "Wall time: 4min 45s\n"
     ]
    }
   ],
   "source": [
    "%%time\n",
    "pyro.set_rng_seed(1)\n",
    "pyro.clear_param_store()\n",
    "model = VanillaDLM()\n",
    "forecaster = Forecaster(\n",
    "    model,\n",
    "    y[:T1],\n",
    "    covariates[:T1],\n",
    "    learning_rate=0.1,\n",
    "    learning_rate_decay=0.05,\n",
    "    num_steps=1000,\n",
    ")"
   ]
  },
  {
   "cell_type": "code",
   "execution_count": 46,
   "metadata": {},
   "outputs": [],
   "source": [
    "pyro.set_rng_seed(1)\n",
    "# record all latent variables in a trace\n",
    "with poutine.trace() as tr:\n",
    "    forecaster(y[:T1], covariates, num_samples=100)\n",
    "\n",
    "# extract the values from the recorded trace\n",
    "posterior_samples = {\n",
    "    name: site[\"value\"]\n",
    "    for name, site in tr.trace.nodes.items()\n",
    "    if site[\"type\"] == \"sample\"\n",
    "}\n",
    "\n",
    "# posterior_samples[\"prediction\"].shape\n"
   ]
  },
  {
   "cell_type": "markdown",
   "metadata": {},
   "source": [
    "## Analyze posterior samples"
   ]
  },
  {
   "cell_type": "code",
   "execution_count": 15,
   "metadata": {},
   "outputs": [
    {
     "data": {
      "text/plain": [
       "dict_keys(['particles', 'time', 'drift_scale', 'drift_decentered', 'drift', 'weight', 'prediction', 'noise_scale', 'residual'])"
      ]
     },
     "execution_count": 15,
     "metadata": {},
     "output_type": "execute_result"
    }
   ],
   "source": [
    "posterior_samples.keys()"
   ]
  },
  {
   "cell_type": "code",
   "execution_count": 47,
   "metadata": {},
   "outputs": [],
   "source": [
    "# extract percentiles of the posterior samples\n",
    "pred_p10, pred_p50, pred_p90 = quantile(posterior_samples['prediction'], (0.1, 0.5, 0.9)).squeeze(-1)"
   ]
  },
  {
   "cell_type": "code",
   "execution_count": 50,
   "metadata": {},
   "outputs": [
    {
     "data": {
      "image/png": "[encoded data removed]",
      "text/plain": [
       "<Figure size 720x360 with 1 Axes>"
      ]
     },
     "metadata": {
      "needs_background": "light"
     },
     "output_type": "display_data"
    }
   ],
   "source": [
    "fig, ax = plt.subplots(1, 1, figsize=(10, 5))\n",
    "\n",
    "dates = df.time_str.values\n",
    "\n",
    "ax.plot(dates, y, label=\"observed\", alpha= .4)\n",
    "ax.plot(dates[:T1], pred_p50[:T1], label=\"train prediction\", alpha = .4)\n",
    "ax.plot(dates[T1:], pred_p50[T1:], label=\"test prediction\", alpha = .4)\n",
    "ax.legend()\n",
    "\n",
    "plt.setp(ax.get_xticklabels(), rotation = 45)\n",
    "\n",
    "plt.show()"
   ]
  }
 ],
 "metadata": {
  "interpreter": {
   "hash": "dce29682316a73f3dbf4a78d3a346bd34e7f1893b4db7c16187fa8dc60916ec6"
  },
  "kernelspec": {
   "display_name": "Python 3.8.5 ('MBML-env': venv)",
   "language": "python",
   "name": "python3"
  },
  "language_info": {
   "codemirror_mode": {
    "name": "ipython",
    "version": 3
   },
   "file_extension": ".py",
   "mimetype": "text/x-python",
   "name": "python",
   "nbconvert_exporter": "python",
   "pygments_lexer": "ipython3",
   "version": "3.8.5"
  },
  "orig_nbformat": 4
 },
 "nbformat": 4,
 "nbformat_minor": 2
}
