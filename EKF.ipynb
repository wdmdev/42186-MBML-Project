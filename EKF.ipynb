{
 "cells": [
  {
   "cell_type": "markdown",
   "metadata": {},
   "source": [
    "# Extended Kalman Filter\n",
    "\n",
    "Here we try to apply the [pyro tutorial](https://pyro.ai/examples/ekf.html) on EKF on our data.\n",
    "\n"
   ]
  },
  {
   "cell_type": "code",
   "execution_count": 2,
   "metadata": {},
   "outputs": [],
   "source": [
    "import os\n",
    "import math\n",
    "\n",
    "import torch\n",
    "import pyro\n",
    "import pyro.distributions as dist\n",
    "from pyro.infer.autoguide import AutoDelta\n",
    "from pyro.optim import Adam\n",
    "from pyro.infer import SVI, Trace_ELBO, config_enumerate\n",
    "from pyro.contrib.tracking.extended_kalman_filter import EKFState\n",
    "from pyro.contrib.tracking.distributions import EKFDistribution\n",
    "from pyro.contrib.tracking.dynamic_models import NcvContinuous\n",
    "from pyro.contrib.tracking.measurements import PositionMeasurement"
   ]
  },
  {
   "cell_type": "markdown",
   "metadata": {},
   "source": [
    "## Test that the tutorial works"
   ]
  },
  {
   "cell_type": "code",
   "execution_count": 7,
   "metadata": {},
   "outputs": [],
   "source": [
    "dt = 1e-2\n",
    "num_frames = 10\n",
    "dim = 4\n",
    "\n",
    "# Continuous model\n",
    "ncv = NcvContinuous(dim, 2.0)\n",
    "\n",
    "# Truth trajectory\n",
    "xs_truth = torch.zeros(num_frames, dim)\n",
    "# initial direction\n",
    "theta0_truth = 0.0\n",
    "# initial state\n",
    "with torch.no_grad():\n",
    "    xs_truth[0, :] = torch.tensor([0.0, 0.0,  math.cos(theta0_truth), math.sin(theta0_truth)])\n",
    "    for frame_num in range(1, num_frames):\n",
    "        # sample independent process noise\n",
    "        dx = pyro.sample('process_noise_{}'.format(frame_num), ncv.process_noise_dist(dt))\n",
    "        xs_truth[frame_num, :] = ncv(xs_truth[frame_num-1, :], dt=dt) + dx"
   ]
  },
  {
   "cell_type": "code",
   "execution_count": 8,
   "metadata": {},
   "outputs": [
    {
     "data": {
      "text/plain": [
       "(torch.Size([10, 4]), torch.Size([10, 2]))"
      ]
     },
     "execution_count": 8,
     "metadata": {},
     "output_type": "execute_result"
    }
   ],
   "source": [
    "# Measurements\n",
    "measurements = []\n",
    "mean = torch.zeros(2)\n",
    "# no correlations\n",
    "cov = 1e-5 * torch.eye(2)\n",
    "with torch.no_grad():\n",
    "    # sample independent measurement noise\n",
    "    dzs = pyro.sample('dzs', dist.MultivariateNormal(mean, cov).expand((num_frames,)))\n",
    "    # compute measurement means\n",
    "    zs = xs_truth[:, :2] + dzs\n",
    "\n",
    "xs_truth.shape, zs.shape"
   ]
  },
  {
   "cell_type": "code",
   "execution_count": 9,
   "metadata": {},
   "outputs": [],
   "source": [
    "def model(data):\n",
    "    # a HalfNormal can be used here as well\n",
    "    R = pyro.sample('pv_cov', dist.HalfCauchy(2e-6)) * torch.eye(4)\n",
    "    Q = pyro.sample('measurement_cov', dist.HalfCauchy(1e-6)) * torch.eye(2)\n",
    "    # observe the measurements\n",
    "    print(data.shape, xs_truth[0].shape, R.shape, Q.shape)\n",
    "    pyro.sample('track_{}'.format(i), EKFDistribution(xs_truth[0], R, ncv,\n",
    "                                                      Q, time_steps=num_frames),\n",
    "                obs=data)\n",
    "\n",
    "guide = AutoDelta(model)  # MAP estimation"
   ]
  },
  {
   "cell_type": "code",
   "execution_count": 15,
   "metadata": {},
   "outputs": [
    {
     "data": {
      "text/plain": [
       "tensor([[0.4963, 0.7682],\n",
       "        [0.0885, 0.1320],\n",
       "        [0.3074, 0.6341],\n",
       "        [0.4901, 0.8964],\n",
       "        [0.4556, 0.6323],\n",
       "        [0.3489, 0.4017],\n",
       "        [0.0223, 0.1689],\n",
       "        [0.2939, 0.5185],\n",
       "        [0.6977, 0.8000],\n",
       "        [0.1610, 0.2823],\n",
       "        [0.4963, 0.7682],\n",
       "        [0.0885, 0.1320],\n",
       "        [0.3074, 0.6341],\n",
       "        [0.4901, 0.8964],\n",
       "        [0.4556, 0.6323],\n",
       "        [0.3489, 0.4017],\n",
       "        [0.0223, 0.1689],\n",
       "        [0.2939, 0.5185],\n",
       "        [0.6977, 0.8000],\n",
       "        [0.1610, 0.2823]])"
      ]
     },
     "execution_count": 15,
     "metadata": {},
     "output_type": "execute_result"
    }
   ],
   "source": [
    "torch.concat((zs, zs))"
   ]
  },
  {
   "cell_type": "code",
   "execution_count": 16,
   "metadata": {},
   "outputs": [
    {
     "name": "stdout",
     "output_type": "stream",
     "text": [
      "torch.Size([20, 2]) torch.Size([4]) torch.Size([4, 4]) torch.Size([2, 2])\n"
     ]
    },
    {
     "ename": "AssertionError",
     "evalue": "value shape: torch.Size([20, 2]), event_shape: (10, 2)",
     "output_type": "error",
     "traceback": [
      "\u001b[1;31m---------------------------------------------------------------------------\u001b[0m",
      "\u001b[1;31mAssertionError\u001b[0m                            Traceback (most recent call last)",
      "\u001b[1;32mc:\\Users\\lukas\\Git\\Studie\\42186-MBML-Project\\EKF.ipynb Cell 8'\u001b[0m in \u001b[0;36m<module>\u001b[1;34m\u001b[0m\n\u001b[0;32m      <a href='vscode-notebook-cell:/c%3A/Users/lukas/Git/Studie/42186-MBML-Project/EKF.ipynb#ch0000006?line=8'>9</a>\u001b[0m smoke_test \u001b[39m=\u001b[39m \u001b[39mFalse\u001b[39;00m\n\u001b[0;32m     <a href='vscode-notebook-cell:/c%3A/Users/lukas/Git/Studie/42186-MBML-Project/EKF.ipynb#ch0000006?line=9'>10</a>\u001b[0m \u001b[39mfor\u001b[39;00m i \u001b[39min\u001b[39;00m \u001b[39mrange\u001b[39m(\u001b[39m250\u001b[39m \u001b[39mif\u001b[39;00m \u001b[39mnot\u001b[39;00m smoke_test \u001b[39melse\u001b[39;00m \u001b[39m2\u001b[39m):\n\u001b[1;32m---> <a href='vscode-notebook-cell:/c%3A/Users/lukas/Git/Studie/42186-MBML-Project/EKF.ipynb#ch0000006?line=10'>11</a>\u001b[0m     loss \u001b[39m=\u001b[39m svi\u001b[39m.\u001b[39;49mstep(torch\u001b[39m.\u001b[39;49mconcat((zs, zs)))\n\u001b[0;32m     <a href='vscode-notebook-cell:/c%3A/Users/lukas/Git/Studie/42186-MBML-Project/EKF.ipynb#ch0000006?line=11'>12</a>\u001b[0m     \u001b[39mif\u001b[39;00m \u001b[39mnot\u001b[39;00m i \u001b[39m%\u001b[39m \u001b[39m10\u001b[39m:\n\u001b[0;32m     <a href='vscode-notebook-cell:/c%3A/Users/lukas/Git/Studie/42186-MBML-Project/EKF.ipynb#ch0000006?line=12'>13</a>\u001b[0m         \u001b[39mprint\u001b[39m(\u001b[39m'\u001b[39m\u001b[39mloss: \u001b[39m\u001b[39m'\u001b[39m, loss)\n",
      "File \u001b[1;32mc:\\Users\\lukas\\Git\\Studie\\42186-MBML-Project\\MBML-env\\lib\\site-packages\\pyro\\infer\\svi.py:145\u001b[0m, in \u001b[0;36mSVI.step\u001b[1;34m(self, *args, **kwargs)\u001b[0m\n\u001b[0;32m    <a href='file:///c%3A/Users/lukas/Git/Studie/42186-MBML-Project/MBML-env/lib/site-packages/pyro/infer/svi.py?line=142'>143</a>\u001b[0m \u001b[39m# get loss and compute gradients\u001b[39;00m\n\u001b[0;32m    <a href='file:///c%3A/Users/lukas/Git/Studie/42186-MBML-Project/MBML-env/lib/site-packages/pyro/infer/svi.py?line=143'>144</a>\u001b[0m \u001b[39mwith\u001b[39;00m poutine\u001b[39m.\u001b[39mtrace(param_only\u001b[39m=\u001b[39m\u001b[39mTrue\u001b[39;00m) \u001b[39mas\u001b[39;00m param_capture:\n\u001b[1;32m--> <a href='file:///c%3A/Users/lukas/Git/Studie/42186-MBML-Project/MBML-env/lib/site-packages/pyro/infer/svi.py?line=144'>145</a>\u001b[0m     loss \u001b[39m=\u001b[39m \u001b[39mself\u001b[39;49m\u001b[39m.\u001b[39;49mloss_and_grads(\u001b[39mself\u001b[39;49m\u001b[39m.\u001b[39;49mmodel, \u001b[39mself\u001b[39;49m\u001b[39m.\u001b[39;49mguide, \u001b[39m*\u001b[39;49margs, \u001b[39m*\u001b[39;49m\u001b[39m*\u001b[39;49mkwargs)\n\u001b[0;32m    <a href='file:///c%3A/Users/lukas/Git/Studie/42186-MBML-Project/MBML-env/lib/site-packages/pyro/infer/svi.py?line=146'>147</a>\u001b[0m params \u001b[39m=\u001b[39m \u001b[39mset\u001b[39m(\n\u001b[0;32m    <a href='file:///c%3A/Users/lukas/Git/Studie/42186-MBML-Project/MBML-env/lib/site-packages/pyro/infer/svi.py?line=147'>148</a>\u001b[0m     site[\u001b[39m\"\u001b[39m\u001b[39mvalue\u001b[39m\u001b[39m\"\u001b[39m]\u001b[39m.\u001b[39munconstrained() \u001b[39mfor\u001b[39;00m site \u001b[39min\u001b[39;00m param_capture\u001b[39m.\u001b[39mtrace\u001b[39m.\u001b[39mnodes\u001b[39m.\u001b[39mvalues()\n\u001b[0;32m    <a href='file:///c%3A/Users/lukas/Git/Studie/42186-MBML-Project/MBML-env/lib/site-packages/pyro/infer/svi.py?line=148'>149</a>\u001b[0m )\n\u001b[0;32m    <a href='file:///c%3A/Users/lukas/Git/Studie/42186-MBML-Project/MBML-env/lib/site-packages/pyro/infer/svi.py?line=150'>151</a>\u001b[0m \u001b[39m# actually perform gradient steps\u001b[39;00m\n\u001b[0;32m    <a href='file:///c%3A/Users/lukas/Git/Studie/42186-MBML-Project/MBML-env/lib/site-packages/pyro/infer/svi.py?line=151'>152</a>\u001b[0m \u001b[39m# torch.optim objects gets instantiated for any params that haven't been seen yet\u001b[39;00m\n",
      "File \u001b[1;32mc:\\Users\\lukas\\Git\\Studie\\42186-MBML-Project\\MBML-env\\lib\\site-packages\\pyro\\infer\\trace_elbo.py:140\u001b[0m, in \u001b[0;36mTrace_ELBO.loss_and_grads\u001b[1;34m(self, model, guide, *args, **kwargs)\u001b[0m\n\u001b[0;32m    <a href='file:///c%3A/Users/lukas/Git/Studie/42186-MBML-Project/MBML-env/lib/site-packages/pyro/infer/trace_elbo.py?line=137'>138</a>\u001b[0m loss \u001b[39m=\u001b[39m \u001b[39m0.0\u001b[39m\n\u001b[0;32m    <a href='file:///c%3A/Users/lukas/Git/Studie/42186-MBML-Project/MBML-env/lib/site-packages/pyro/infer/trace_elbo.py?line=138'>139</a>\u001b[0m \u001b[39m# grab a trace from the generator\u001b[39;00m\n\u001b[1;32m--> <a href='file:///c%3A/Users/lukas/Git/Studie/42186-MBML-Project/MBML-env/lib/site-packages/pyro/infer/trace_elbo.py?line=139'>140</a>\u001b[0m \u001b[39mfor\u001b[39;00m model_trace, guide_trace \u001b[39min\u001b[39;00m \u001b[39mself\u001b[39m\u001b[39m.\u001b[39m_get_traces(model, guide, args, kwargs):\n\u001b[0;32m    <a href='file:///c%3A/Users/lukas/Git/Studie/42186-MBML-Project/MBML-env/lib/site-packages/pyro/infer/trace_elbo.py?line=140'>141</a>\u001b[0m     loss_particle, surrogate_loss_particle \u001b[39m=\u001b[39m \u001b[39mself\u001b[39m\u001b[39m.\u001b[39m_differentiable_loss_particle(\n\u001b[0;32m    <a href='file:///c%3A/Users/lukas/Git/Studie/42186-MBML-Project/MBML-env/lib/site-packages/pyro/infer/trace_elbo.py?line=141'>142</a>\u001b[0m         model_trace, guide_trace\n\u001b[0;32m    <a href='file:///c%3A/Users/lukas/Git/Studie/42186-MBML-Project/MBML-env/lib/site-packages/pyro/infer/trace_elbo.py?line=142'>143</a>\u001b[0m     )\n\u001b[0;32m    <a href='file:///c%3A/Users/lukas/Git/Studie/42186-MBML-Project/MBML-env/lib/site-packages/pyro/infer/trace_elbo.py?line=143'>144</a>\u001b[0m     loss \u001b[39m+\u001b[39m\u001b[39m=\u001b[39m loss_particle \u001b[39m/\u001b[39m \u001b[39mself\u001b[39m\u001b[39m.\u001b[39mnum_particles\n",
      "File \u001b[1;32mc:\\Users\\lukas\\Git\\Studie\\42186-MBML-Project\\MBML-env\\lib\\site-packages\\pyro\\infer\\elbo.py:182\u001b[0m, in \u001b[0;36mELBO._get_traces\u001b[1;34m(self, model, guide, args, kwargs)\u001b[0m\n\u001b[0;32m    <a href='file:///c%3A/Users/lukas/Git/Studie/42186-MBML-Project/MBML-env/lib/site-packages/pyro/infer/elbo.py?line=179'>180</a>\u001b[0m \u001b[39melse\u001b[39;00m:\n\u001b[0;32m    <a href='file:///c%3A/Users/lukas/Git/Studie/42186-MBML-Project/MBML-env/lib/site-packages/pyro/infer/elbo.py?line=180'>181</a>\u001b[0m     \u001b[39mfor\u001b[39;00m i \u001b[39min\u001b[39;00m \u001b[39mrange\u001b[39m(\u001b[39mself\u001b[39m\u001b[39m.\u001b[39mnum_particles):\n\u001b[1;32m--> <a href='file:///c%3A/Users/lukas/Git/Studie/42186-MBML-Project/MBML-env/lib/site-packages/pyro/infer/elbo.py?line=181'>182</a>\u001b[0m         \u001b[39myield\u001b[39;00m \u001b[39mself\u001b[39;49m\u001b[39m.\u001b[39;49m_get_trace(model, guide, args, kwargs)\n",
      "File \u001b[1;32mc:\\Users\\lukas\\Git\\Studie\\42186-MBML-Project\\MBML-env\\lib\\site-packages\\pyro\\infer\\trace_elbo.py:57\u001b[0m, in \u001b[0;36mTrace_ELBO._get_trace\u001b[1;34m(self, model, guide, args, kwargs)\u001b[0m\n\u001b[0;32m     <a href='file:///c%3A/Users/lukas/Git/Studie/42186-MBML-Project/MBML-env/lib/site-packages/pyro/infer/trace_elbo.py?line=51'>52</a>\u001b[0m \u001b[39mdef\u001b[39;00m \u001b[39m_get_trace\u001b[39m(\u001b[39mself\u001b[39m, model, guide, args, kwargs):\n\u001b[0;32m     <a href='file:///c%3A/Users/lukas/Git/Studie/42186-MBML-Project/MBML-env/lib/site-packages/pyro/infer/trace_elbo.py?line=52'>53</a>\u001b[0m     \u001b[39m\"\"\"\u001b[39;00m\n\u001b[0;32m     <a href='file:///c%3A/Users/lukas/Git/Studie/42186-MBML-Project/MBML-env/lib/site-packages/pyro/infer/trace_elbo.py?line=53'>54</a>\u001b[0m \u001b[39m    Returns a single trace from the guide, and the model that is run\u001b[39;00m\n\u001b[0;32m     <a href='file:///c%3A/Users/lukas/Git/Studie/42186-MBML-Project/MBML-env/lib/site-packages/pyro/infer/trace_elbo.py?line=54'>55</a>\u001b[0m \u001b[39m    against it.\u001b[39;00m\n\u001b[0;32m     <a href='file:///c%3A/Users/lukas/Git/Studie/42186-MBML-Project/MBML-env/lib/site-packages/pyro/infer/trace_elbo.py?line=55'>56</a>\u001b[0m \u001b[39m    \"\"\"\u001b[39;00m\n\u001b[1;32m---> <a href='file:///c%3A/Users/lukas/Git/Studie/42186-MBML-Project/MBML-env/lib/site-packages/pyro/infer/trace_elbo.py?line=56'>57</a>\u001b[0m     model_trace, guide_trace \u001b[39m=\u001b[39m get_importance_trace(\n\u001b[0;32m     <a href='file:///c%3A/Users/lukas/Git/Studie/42186-MBML-Project/MBML-env/lib/site-packages/pyro/infer/trace_elbo.py?line=57'>58</a>\u001b[0m         \u001b[39m\"\u001b[39;49m\u001b[39mflat\u001b[39;49m\u001b[39m\"\u001b[39;49m, \u001b[39mself\u001b[39;49m\u001b[39m.\u001b[39;49mmax_plate_nesting, model, guide, args, kwargs\n\u001b[0;32m     <a href='file:///c%3A/Users/lukas/Git/Studie/42186-MBML-Project/MBML-env/lib/site-packages/pyro/infer/trace_elbo.py?line=58'>59</a>\u001b[0m     )\n\u001b[0;32m     <a href='file:///c%3A/Users/lukas/Git/Studie/42186-MBML-Project/MBML-env/lib/site-packages/pyro/infer/trace_elbo.py?line=59'>60</a>\u001b[0m     \u001b[39mif\u001b[39;00m is_validation_enabled():\n\u001b[0;32m     <a href='file:///c%3A/Users/lukas/Git/Studie/42186-MBML-Project/MBML-env/lib/site-packages/pyro/infer/trace_elbo.py?line=60'>61</a>\u001b[0m         check_if_enumerated(guide_trace)\n",
      "File \u001b[1;32mc:\\Users\\lukas\\Git\\Studie\\42186-MBML-Project\\MBML-env\\lib\\site-packages\\pyro\\infer\\enum.py:75\u001b[0m, in \u001b[0;36mget_importance_trace\u001b[1;34m(graph_type, max_plate_nesting, model, guide, args, kwargs, detach)\u001b[0m\n\u001b[0;32m     <a href='file:///c%3A/Users/lukas/Git/Studie/42186-MBML-Project/MBML-env/lib/site-packages/pyro/infer/enum.py?line=71'>72</a>\u001b[0m guide_trace \u001b[39m=\u001b[39m prune_subsample_sites(guide_trace)\n\u001b[0;32m     <a href='file:///c%3A/Users/lukas/Git/Studie/42186-MBML-Project/MBML-env/lib/site-packages/pyro/infer/enum.py?line=72'>73</a>\u001b[0m model_trace \u001b[39m=\u001b[39m prune_subsample_sites(model_trace)\n\u001b[1;32m---> <a href='file:///c%3A/Users/lukas/Git/Studie/42186-MBML-Project/MBML-env/lib/site-packages/pyro/infer/enum.py?line=74'>75</a>\u001b[0m model_trace\u001b[39m.\u001b[39;49mcompute_log_prob()\n\u001b[0;32m     <a href='file:///c%3A/Users/lukas/Git/Studie/42186-MBML-Project/MBML-env/lib/site-packages/pyro/infer/enum.py?line=75'>76</a>\u001b[0m guide_trace\u001b[39m.\u001b[39mcompute_score_parts()\n\u001b[0;32m     <a href='file:///c%3A/Users/lukas/Git/Studie/42186-MBML-Project/MBML-env/lib/site-packages/pyro/infer/enum.py?line=76'>77</a>\u001b[0m \u001b[39mif\u001b[39;00m is_validation_enabled():\n",
      "File \u001b[1;32mc:\\Users\\lukas\\Git\\Studie\\42186-MBML-Project\\MBML-env\\lib\\site-packages\\pyro\\poutine\\trace_struct.py:230\u001b[0m, in \u001b[0;36mTrace.compute_log_prob\u001b[1;34m(self, site_filter)\u001b[0m\n\u001b[0;32m    <a href='file:///c%3A/Users/lukas/Git/Studie/42186-MBML-Project/MBML-env/lib/site-packages/pyro/poutine/trace_struct.py?line=227'>228</a>\u001b[0m \u001b[39mif\u001b[39;00m \u001b[39m\"\u001b[39m\u001b[39mlog_prob\u001b[39m\u001b[39m\"\u001b[39m \u001b[39mnot\u001b[39;00m \u001b[39min\u001b[39;00m site:\n\u001b[0;32m    <a href='file:///c%3A/Users/lukas/Git/Studie/42186-MBML-Project/MBML-env/lib/site-packages/pyro/poutine/trace_struct.py?line=228'>229</a>\u001b[0m     \u001b[39mtry\u001b[39;00m:\n\u001b[1;32m--> <a href='file:///c%3A/Users/lukas/Git/Studie/42186-MBML-Project/MBML-env/lib/site-packages/pyro/poutine/trace_struct.py?line=229'>230</a>\u001b[0m         log_p \u001b[39m=\u001b[39m site[\u001b[39m\"\u001b[39;49m\u001b[39mfn\u001b[39;49m\u001b[39m\"\u001b[39;49m]\u001b[39m.\u001b[39;49mlog_prob(\n\u001b[0;32m    <a href='file:///c%3A/Users/lukas/Git/Studie/42186-MBML-Project/MBML-env/lib/site-packages/pyro/poutine/trace_struct.py?line=230'>231</a>\u001b[0m             site[\u001b[39m\"\u001b[39;49m\u001b[39mvalue\u001b[39;49m\u001b[39m\"\u001b[39;49m], \u001b[39m*\u001b[39;49msite[\u001b[39m\"\u001b[39;49m\u001b[39margs\u001b[39;49m\u001b[39m\"\u001b[39;49m], \u001b[39m*\u001b[39;49m\u001b[39m*\u001b[39;49msite[\u001b[39m\"\u001b[39;49m\u001b[39mkwargs\u001b[39;49m\u001b[39m\"\u001b[39;49m]\n\u001b[0;32m    <a href='file:///c%3A/Users/lukas/Git/Studie/42186-MBML-Project/MBML-env/lib/site-packages/pyro/poutine/trace_struct.py?line=231'>232</a>\u001b[0m         )\n\u001b[0;32m    <a href='file:///c%3A/Users/lukas/Git/Studie/42186-MBML-Project/MBML-env/lib/site-packages/pyro/poutine/trace_struct.py?line=232'>233</a>\u001b[0m     \u001b[39mexcept\u001b[39;00m \u001b[39mValueError\u001b[39;00m \u001b[39mas\u001b[39;00m e:\n\u001b[0;32m    <a href='file:///c%3A/Users/lukas/Git/Studie/42186-MBML-Project/MBML-env/lib/site-packages/pyro/poutine/trace_struct.py?line=233'>234</a>\u001b[0m         _, exc_value, traceback \u001b[39m=\u001b[39m sys\u001b[39m.\u001b[39mexc_info()\n",
      "File \u001b[1;32mc:\\Users\\lukas\\Git\\Studie\\42186-MBML-Project\\MBML-env\\lib\\site-packages\\pyro\\contrib\\tracking\\distributions.py:91\u001b[0m, in \u001b[0;36mEKFDistribution.log_prob\u001b[1;34m(self, value)\u001b[0m\n\u001b[0;32m     <a href='file:///c%3A/Users/lukas/Git/Studie/42186-MBML-Project/MBML-env/lib/site-packages/pyro/contrib/tracking/distributions.py?line=88'>89</a>\u001b[0m state \u001b[39m=\u001b[39m EKFState(\u001b[39mself\u001b[39m\u001b[39m.\u001b[39mdynamic_model, \u001b[39mself\u001b[39m\u001b[39m.\u001b[39mx0, \u001b[39mself\u001b[39m\u001b[39m.\u001b[39mP0, time\u001b[39m=\u001b[39m\u001b[39m0.0\u001b[39m)\n\u001b[0;32m     <a href='file:///c%3A/Users/lukas/Git/Studie/42186-MBML-Project/MBML-env/lib/site-packages/pyro/contrib/tracking/distributions.py?line=89'>90</a>\u001b[0m result \u001b[39m=\u001b[39m \u001b[39m0.0\u001b[39m\n\u001b[1;32m---> <a href='file:///c%3A/Users/lukas/Git/Studie/42186-MBML-Project/MBML-env/lib/site-packages/pyro/contrib/tracking/distributions.py?line=90'>91</a>\u001b[0m \u001b[39massert\u001b[39;00m value\u001b[39m.\u001b[39mshape \u001b[39m==\u001b[39m \u001b[39mself\u001b[39m\u001b[39m.\u001b[39mevent_shape, \u001b[39mf\u001b[39m\u001b[39m\"\u001b[39m\u001b[39mvalue shape: \u001b[39m\u001b[39m{\u001b[39;00mvalue\u001b[39m.\u001b[39mshape\u001b[39m}\u001b[39;00m\u001b[39m, event_shape: \u001b[39m\u001b[39m{\u001b[39;00m\u001b[39mself\u001b[39m\u001b[39m.\u001b[39mevent_shape\u001b[39m}\u001b[39;00m\u001b[39m\"\u001b[39m\n\u001b[0;32m     <a href='file:///c%3A/Users/lukas/Git/Studie/42186-MBML-Project/MBML-env/lib/site-packages/pyro/contrib/tracking/distributions.py?line=91'>92</a>\u001b[0m zero \u001b[39m=\u001b[39m torch\u001b[39m.\u001b[39mzeros(\u001b[39mself\u001b[39m\u001b[39m.\u001b[39mevent_shape[\u001b[39m-\u001b[39m\u001b[39m1\u001b[39m], dtype\u001b[39m=\u001b[39mvalue\u001b[39m.\u001b[39mdtype, device\u001b[39m=\u001b[39mvalue\u001b[39m.\u001b[39mdevice)\n\u001b[0;32m     <a href='file:///c%3A/Users/lukas/Git/Studie/42186-MBML-Project/MBML-env/lib/site-packages/pyro/contrib/tracking/distributions.py?line=92'>93</a>\u001b[0m \u001b[39mfor\u001b[39;00m i, measurement_mean \u001b[39min\u001b[39;00m \u001b[39menumerate\u001b[39m(value):\n",
      "\u001b[1;31mAssertionError\u001b[0m: value shape: torch.Size([20, 2]), event_shape: (10, 2)"
     ]
    }
   ],
   "source": [
    "optim = pyro.optim.Adam({'lr': 2e-2})\n",
    "svi = SVI(model, guide, optim, loss=Trace_ELBO(retain_graph=True))\n",
    "\n",
    "pyro.set_rng_seed(0)\n",
    "pyro.clear_param_store()\n",
    "\n",
    "zs = torch.rand_like(zs)\n",
    "\n",
    "smoke_test = False\n",
    "for i in range(250 if not smoke_test else 2):\n",
    "    loss = svi.step(torch.concat((zs, zs)))\n",
    "    if not i % 10:\n",
    "        print('loss: ', loss)"
   ]
  },
  {
   "cell_type": "code",
   "execution_count": 6,
   "metadata": {},
   "outputs": [],
   "source": [
    "# retrieve states for visualization\n",
    "R = guide()['pv_cov'] * torch.eye(4)\n",
    "Q = guide()['measurement_cov'] * torch.eye(2)\n",
    "ekf_dist = EKFDistribution(xs_truth[0], R, ncv, Q, time_steps=num_frames)\n",
    "states= ekf_dist.filter_states(zs)"
   ]
  },
  {
   "cell_type": "code",
   "execution_count": 8,
   "metadata": {},
   "outputs": [
    {
     "data": {
      "text/plain": [
       "[tensor([-0.0029,  0.0037,  1.0000,  0.0000], grad_fn=<SubBackward0>),\n",
       " tensor([ 0.0066, -0.0015, -0.4857, -0.0077], grad_fn=<SubBackward0>),\n",
       " tensor([0.0229, 0.0005, 0.1597, 0.0048], grad_fn=<SubBackward0>),\n",
       " tensor([ 0.0308,  0.0021, -0.0330,  0.0008], grad_fn=<SubBackward0>),\n",
       " tensor([ 4.3259e-02, -3.6855e-05,  2.4640e-02, -2.9565e-03],\n",
       "        grad_fn=<SubBackward0>),\n",
       " tensor([0.0497, 0.0012, 0.0016, 0.0024], grad_fn=<SubBackward0>),\n",
       " tensor([0.0563, 0.0073, 0.0079, 0.0071], grad_fn=<SubBackward0>),\n",
       " tensor([ 0.0686,  0.0074,  0.0134, -0.0018], grad_fn=<SubBackward0>),\n",
       " tensor([ 0.0770,  0.0024,  0.0071, -0.0058], grad_fn=<SubBackward0>),\n",
       " tensor([ 0.0840, -0.0044,  0.0070, -0.0072], grad_fn=<SubBackward0>)]"
      ]
     },
     "execution_count": 8,
     "metadata": {},
     "output_type": "execute_result"
    }
   ],
   "source": [
    "[s.mean for s in states]"
   ]
  },
  {
   "cell_type": "markdown",
   "metadata": {},
   "source": [
    "## Try with own data"
   ]
  },
  {
   "cell_type": "markdown",
   "metadata": {},
   "source": [
    "### Data"
   ]
  },
  {
   "cell_type": "code",
   "execution_count": 3,
   "metadata": {},
   "outputs": [],
   "source": [
    "from main import get_energy_data, get_weather_data\n",
    "import pandas as pd\n",
    "\n",
    "df = pd.read_csv(\"preprocessed_data/df.csv\").iloc[:1000]\n",
    "df[\"time_str\"] = [d.split(\"+\")[0] for d in df[\"time_str\"]]\n",
    "df[\"time_str\"] = pd.to_datetime(df[\"time_str\"], infer_datetime_format=True)#'%Y-%m-%d %H:%M:%S.%f') # 2015-01-01 10:00:00+00:00\n",
    "dfW = get_weather_data(df)\n",
    "dfE = get_energy_data(df)\n",
    "\n",
    "X_W = torch.from_numpy(dfW.values).float()\n",
    "X_E = torch.from_numpy(dfE.values).float()\n",
    "\n",
    "obs = torch.from_numpy(df[\"price actual\"].values).float()"
   ]
  },
  {
   "cell_type": "markdown",
   "metadata": {},
   "source": [
    "### Model"
   ]
  },
  {
   "cell_type": "code",
   "execution_count": 40,
   "metadata": {},
   "outputs": [],
   "source": [
    "h_dim = 10\n",
    "h_dim = X_E.shape[1]\n",
    "dyn_model = NcvContinuous(h_dim, 2.0)\n",
    "T = 10\n",
    "\n",
    "def model(obs = None):\n",
    "    # a HalfNormal can be used here as well\n",
    "    R = pyro.sample('pv_cov', dist.HalfCauchy(2e-6)) * torch.eye(h_dim)\n",
    "    Q = pyro.sample('measurement_cov', dist.HalfCauchy(1e-6)) * torch.eye(1)\n",
    "\n",
    "    # h0 = pyro.sample(f'h0', dist.Normal(torch.zeros(h_dim), torch.ones(h_dim)))\n",
    "    print(obs.shape, X_E[0].shape, R.shape, Q.shape)\n",
    "    # observe the measurements\n",
    "    y = pyro.sample('track_{}'.format(i), EKFDistribution(X_E[0], R, dyn_model,\n",
    "                                                      Q, time_steps=T),\n",
    "                obs=obs)\n",
    "\n",
    "    return y\n",
    "\n",
    "guide = AutoDelta(model)  # MAP estimation"
   ]
  },
  {
   "cell_type": "markdown",
   "metadata": {},
   "source": [
    "### Inference"
   ]
  },
  {
   "cell_type": "code",
   "execution_count": 41,
   "metadata": {},
   "outputs": [
    {
     "name": "stdout",
     "output_type": "stream",
     "text": [
      "torch.Size([10]) torch.Size([11]) torch.Size([11, 11]) torch.Size([1, 1])\n"
     ]
    },
    {
     "ename": "AssertionError",
     "evalue": "position and velocity vectors must be the same dimension",
     "output_type": "error",
     "traceback": [
      "\u001b[1;31m---------------------------------------------------------------------------\u001b[0m",
      "\u001b[1;31mAssertionError\u001b[0m                            Traceback (most recent call last)",
      "\u001b[1;32mc:\\Users\\lukas\\Git\\Studie\\42186-MBML-Project\\EKF.ipynb Cell 17'\u001b[0m in \u001b[0;36m<module>\u001b[1;34m\u001b[0m\n\u001b[0;32m      <a href='vscode-notebook-cell:/c%3A/Users/lukas/Git/Studie/42186-MBML-Project/EKF.ipynb#ch0000015?line=6'>7</a>\u001b[0m x \u001b[39m=\u001b[39m torch\u001b[39m.\u001b[39mhstack((obs[:T], obs[:T], obs[:T], obs[:T], obs[:T]))\u001b[39m.\u001b[39mreshape(T, \u001b[39m5\u001b[39m)\n\u001b[0;32m      <a href='vscode-notebook-cell:/c%3A/Users/lukas/Git/Studie/42186-MBML-Project/EKF.ipynb#ch0000015?line=8'>9</a>\u001b[0m \u001b[39mfor\u001b[39;00m i \u001b[39min\u001b[39;00m \u001b[39mrange\u001b[39m(\u001b[39m10\u001b[39m):\n\u001b[1;32m---> <a href='vscode-notebook-cell:/c%3A/Users/lukas/Git/Studie/42186-MBML-Project/EKF.ipynb#ch0000015?line=9'>10</a>\u001b[0m     loss \u001b[39m=\u001b[39m svi\u001b[39m.\u001b[39;49mstep(obs[:T])\n\u001b[0;32m     <a href='vscode-notebook-cell:/c%3A/Users/lukas/Git/Studie/42186-MBML-Project/EKF.ipynb#ch0000015?line=10'>11</a>\u001b[0m     \u001b[39mif\u001b[39;00m \u001b[39mnot\u001b[39;00m i \u001b[39m%\u001b[39m \u001b[39m10\u001b[39m:\n\u001b[0;32m     <a href='vscode-notebook-cell:/c%3A/Users/lukas/Git/Studie/42186-MBML-Project/EKF.ipynb#ch0000015?line=11'>12</a>\u001b[0m         \u001b[39mprint\u001b[39m(\u001b[39m'\u001b[39m\u001b[39mloss: \u001b[39m\u001b[39m'\u001b[39m, loss)\n",
      "File \u001b[1;32mc:\\Users\\lukas\\Git\\Studie\\42186-MBML-Project\\MBML-env\\lib\\site-packages\\pyro\\infer\\svi.py:145\u001b[0m, in \u001b[0;36mSVI.step\u001b[1;34m(self, *args, **kwargs)\u001b[0m\n\u001b[0;32m    <a href='file:///c%3A/Users/lukas/Git/Studie/42186-MBML-Project/MBML-env/lib/site-packages/pyro/infer/svi.py?line=142'>143</a>\u001b[0m \u001b[39m# get loss and compute gradients\u001b[39;00m\n\u001b[0;32m    <a href='file:///c%3A/Users/lukas/Git/Studie/42186-MBML-Project/MBML-env/lib/site-packages/pyro/infer/svi.py?line=143'>144</a>\u001b[0m \u001b[39mwith\u001b[39;00m poutine\u001b[39m.\u001b[39mtrace(param_only\u001b[39m=\u001b[39m\u001b[39mTrue\u001b[39;00m) \u001b[39mas\u001b[39;00m param_capture:\n\u001b[1;32m--> <a href='file:///c%3A/Users/lukas/Git/Studie/42186-MBML-Project/MBML-env/lib/site-packages/pyro/infer/svi.py?line=144'>145</a>\u001b[0m     loss \u001b[39m=\u001b[39m \u001b[39mself\u001b[39;49m\u001b[39m.\u001b[39;49mloss_and_grads(\u001b[39mself\u001b[39;49m\u001b[39m.\u001b[39;49mmodel, \u001b[39mself\u001b[39;49m\u001b[39m.\u001b[39;49mguide, \u001b[39m*\u001b[39;49margs, \u001b[39m*\u001b[39;49m\u001b[39m*\u001b[39;49mkwargs)\n\u001b[0;32m    <a href='file:///c%3A/Users/lukas/Git/Studie/42186-MBML-Project/MBML-env/lib/site-packages/pyro/infer/svi.py?line=146'>147</a>\u001b[0m params \u001b[39m=\u001b[39m \u001b[39mset\u001b[39m(\n\u001b[0;32m    <a href='file:///c%3A/Users/lukas/Git/Studie/42186-MBML-Project/MBML-env/lib/site-packages/pyro/infer/svi.py?line=147'>148</a>\u001b[0m     site[\u001b[39m\"\u001b[39m\u001b[39mvalue\u001b[39m\u001b[39m\"\u001b[39m]\u001b[39m.\u001b[39munconstrained() \u001b[39mfor\u001b[39;00m site \u001b[39min\u001b[39;00m param_capture\u001b[39m.\u001b[39mtrace\u001b[39m.\u001b[39mnodes\u001b[39m.\u001b[39mvalues()\n\u001b[0;32m    <a href='file:///c%3A/Users/lukas/Git/Studie/42186-MBML-Project/MBML-env/lib/site-packages/pyro/infer/svi.py?line=148'>149</a>\u001b[0m )\n\u001b[0;32m    <a href='file:///c%3A/Users/lukas/Git/Studie/42186-MBML-Project/MBML-env/lib/site-packages/pyro/infer/svi.py?line=150'>151</a>\u001b[0m \u001b[39m# actually perform gradient steps\u001b[39;00m\n\u001b[0;32m    <a href='file:///c%3A/Users/lukas/Git/Studie/42186-MBML-Project/MBML-env/lib/site-packages/pyro/infer/svi.py?line=151'>152</a>\u001b[0m \u001b[39m# torch.optim objects gets instantiated for any params that haven't been seen yet\u001b[39;00m\n",
      "File \u001b[1;32mc:\\Users\\lukas\\Git\\Studie\\42186-MBML-Project\\MBML-env\\lib\\site-packages\\pyro\\infer\\trace_elbo.py:140\u001b[0m, in \u001b[0;36mTrace_ELBO.loss_and_grads\u001b[1;34m(self, model, guide, *args, **kwargs)\u001b[0m\n\u001b[0;32m    <a href='file:///c%3A/Users/lukas/Git/Studie/42186-MBML-Project/MBML-env/lib/site-packages/pyro/infer/trace_elbo.py?line=137'>138</a>\u001b[0m loss \u001b[39m=\u001b[39m \u001b[39m0.0\u001b[39m\n\u001b[0;32m    <a href='file:///c%3A/Users/lukas/Git/Studie/42186-MBML-Project/MBML-env/lib/site-packages/pyro/infer/trace_elbo.py?line=138'>139</a>\u001b[0m \u001b[39m# grab a trace from the generator\u001b[39;00m\n\u001b[1;32m--> <a href='file:///c%3A/Users/lukas/Git/Studie/42186-MBML-Project/MBML-env/lib/site-packages/pyro/infer/trace_elbo.py?line=139'>140</a>\u001b[0m \u001b[39mfor\u001b[39;00m model_trace, guide_trace \u001b[39min\u001b[39;00m \u001b[39mself\u001b[39m\u001b[39m.\u001b[39m_get_traces(model, guide, args, kwargs):\n\u001b[0;32m    <a href='file:///c%3A/Users/lukas/Git/Studie/42186-MBML-Project/MBML-env/lib/site-packages/pyro/infer/trace_elbo.py?line=140'>141</a>\u001b[0m     loss_particle, surrogate_loss_particle \u001b[39m=\u001b[39m \u001b[39mself\u001b[39m\u001b[39m.\u001b[39m_differentiable_loss_particle(\n\u001b[0;32m    <a href='file:///c%3A/Users/lukas/Git/Studie/42186-MBML-Project/MBML-env/lib/site-packages/pyro/infer/trace_elbo.py?line=141'>142</a>\u001b[0m         model_trace, guide_trace\n\u001b[0;32m    <a href='file:///c%3A/Users/lukas/Git/Studie/42186-MBML-Project/MBML-env/lib/site-packages/pyro/infer/trace_elbo.py?line=142'>143</a>\u001b[0m     )\n\u001b[0;32m    <a href='file:///c%3A/Users/lukas/Git/Studie/42186-MBML-Project/MBML-env/lib/site-packages/pyro/infer/trace_elbo.py?line=143'>144</a>\u001b[0m     loss \u001b[39m+\u001b[39m\u001b[39m=\u001b[39m loss_particle \u001b[39m/\u001b[39m \u001b[39mself\u001b[39m\u001b[39m.\u001b[39mnum_particles\n",
      "File \u001b[1;32mc:\\Users\\lukas\\Git\\Studie\\42186-MBML-Project\\MBML-env\\lib\\site-packages\\pyro\\infer\\elbo.py:182\u001b[0m, in \u001b[0;36mELBO._get_traces\u001b[1;34m(self, model, guide, args, kwargs)\u001b[0m\n\u001b[0;32m    <a href='file:///c%3A/Users/lukas/Git/Studie/42186-MBML-Project/MBML-env/lib/site-packages/pyro/infer/elbo.py?line=179'>180</a>\u001b[0m \u001b[39melse\u001b[39;00m:\n\u001b[0;32m    <a href='file:///c%3A/Users/lukas/Git/Studie/42186-MBML-Project/MBML-env/lib/site-packages/pyro/infer/elbo.py?line=180'>181</a>\u001b[0m     \u001b[39mfor\u001b[39;00m i \u001b[39min\u001b[39;00m \u001b[39mrange\u001b[39m(\u001b[39mself\u001b[39m\u001b[39m.\u001b[39mnum_particles):\n\u001b[1;32m--> <a href='file:///c%3A/Users/lukas/Git/Studie/42186-MBML-Project/MBML-env/lib/site-packages/pyro/infer/elbo.py?line=181'>182</a>\u001b[0m         \u001b[39myield\u001b[39;00m \u001b[39mself\u001b[39;49m\u001b[39m.\u001b[39;49m_get_trace(model, guide, args, kwargs)\n",
      "File \u001b[1;32mc:\\Users\\lukas\\Git\\Studie\\42186-MBML-Project\\MBML-env\\lib\\site-packages\\pyro\\infer\\trace_elbo.py:57\u001b[0m, in \u001b[0;36mTrace_ELBO._get_trace\u001b[1;34m(self, model, guide, args, kwargs)\u001b[0m\n\u001b[0;32m     <a href='file:///c%3A/Users/lukas/Git/Studie/42186-MBML-Project/MBML-env/lib/site-packages/pyro/infer/trace_elbo.py?line=51'>52</a>\u001b[0m \u001b[39mdef\u001b[39;00m \u001b[39m_get_trace\u001b[39m(\u001b[39mself\u001b[39m, model, guide, args, kwargs):\n\u001b[0;32m     <a href='file:///c%3A/Users/lukas/Git/Studie/42186-MBML-Project/MBML-env/lib/site-packages/pyro/infer/trace_elbo.py?line=52'>53</a>\u001b[0m     \u001b[39m\"\"\"\u001b[39;00m\n\u001b[0;32m     <a href='file:///c%3A/Users/lukas/Git/Studie/42186-MBML-Project/MBML-env/lib/site-packages/pyro/infer/trace_elbo.py?line=53'>54</a>\u001b[0m \u001b[39m    Returns a single trace from the guide, and the model that is run\u001b[39;00m\n\u001b[0;32m     <a href='file:///c%3A/Users/lukas/Git/Studie/42186-MBML-Project/MBML-env/lib/site-packages/pyro/infer/trace_elbo.py?line=54'>55</a>\u001b[0m \u001b[39m    against it.\u001b[39;00m\n\u001b[0;32m     <a href='file:///c%3A/Users/lukas/Git/Studie/42186-MBML-Project/MBML-env/lib/site-packages/pyro/infer/trace_elbo.py?line=55'>56</a>\u001b[0m \u001b[39m    \"\"\"\u001b[39;00m\n\u001b[1;32m---> <a href='file:///c%3A/Users/lukas/Git/Studie/42186-MBML-Project/MBML-env/lib/site-packages/pyro/infer/trace_elbo.py?line=56'>57</a>\u001b[0m     model_trace, guide_trace \u001b[39m=\u001b[39m get_importance_trace(\n\u001b[0;32m     <a href='file:///c%3A/Users/lukas/Git/Studie/42186-MBML-Project/MBML-env/lib/site-packages/pyro/infer/trace_elbo.py?line=57'>58</a>\u001b[0m         \u001b[39m\"\u001b[39;49m\u001b[39mflat\u001b[39;49m\u001b[39m\"\u001b[39;49m, \u001b[39mself\u001b[39;49m\u001b[39m.\u001b[39;49mmax_plate_nesting, model, guide, args, kwargs\n\u001b[0;32m     <a href='file:///c%3A/Users/lukas/Git/Studie/42186-MBML-Project/MBML-env/lib/site-packages/pyro/infer/trace_elbo.py?line=58'>59</a>\u001b[0m     )\n\u001b[0;32m     <a href='file:///c%3A/Users/lukas/Git/Studie/42186-MBML-Project/MBML-env/lib/site-packages/pyro/infer/trace_elbo.py?line=59'>60</a>\u001b[0m     \u001b[39mif\u001b[39;00m is_validation_enabled():\n\u001b[0;32m     <a href='file:///c%3A/Users/lukas/Git/Studie/42186-MBML-Project/MBML-env/lib/site-packages/pyro/infer/trace_elbo.py?line=60'>61</a>\u001b[0m         check_if_enumerated(guide_trace)\n",
      "File \u001b[1;32mc:\\Users\\lukas\\Git\\Studie\\42186-MBML-Project\\MBML-env\\lib\\site-packages\\pyro\\infer\\enum.py:60\u001b[0m, in \u001b[0;36mget_importance_trace\u001b[1;34m(graph_type, max_plate_nesting, model, guide, args, kwargs, detach)\u001b[0m\n\u001b[0;32m     <a href='file:///c%3A/Users/lukas/Git/Studie/42186-MBML-Project/MBML-env/lib/site-packages/pyro/infer/enum.py?line=57'>58</a>\u001b[0m     model_trace, guide_trace \u001b[39m=\u001b[39m unwrapped_guide\u001b[39m.\u001b[39mget_traces()\n\u001b[0;32m     <a href='file:///c%3A/Users/lukas/Git/Studie/42186-MBML-Project/MBML-env/lib/site-packages/pyro/infer/enum.py?line=58'>59</a>\u001b[0m \u001b[39melse\u001b[39;00m:\n\u001b[1;32m---> <a href='file:///c%3A/Users/lukas/Git/Studie/42186-MBML-Project/MBML-env/lib/site-packages/pyro/infer/enum.py?line=59'>60</a>\u001b[0m     guide_trace \u001b[39m=\u001b[39m poutine\u001b[39m.\u001b[39;49mtrace(guide, graph_type\u001b[39m=\u001b[39;49mgraph_type)\u001b[39m.\u001b[39;49mget_trace(\n\u001b[0;32m     <a href='file:///c%3A/Users/lukas/Git/Studie/42186-MBML-Project/MBML-env/lib/site-packages/pyro/infer/enum.py?line=60'>61</a>\u001b[0m         \u001b[39m*\u001b[39;49margs, \u001b[39m*\u001b[39;49m\u001b[39m*\u001b[39;49mkwargs\n\u001b[0;32m     <a href='file:///c%3A/Users/lukas/Git/Studie/42186-MBML-Project/MBML-env/lib/site-packages/pyro/infer/enum.py?line=61'>62</a>\u001b[0m     )\n\u001b[0;32m     <a href='file:///c%3A/Users/lukas/Git/Studie/42186-MBML-Project/MBML-env/lib/site-packages/pyro/infer/enum.py?line=62'>63</a>\u001b[0m     \u001b[39mif\u001b[39;00m detach:\n\u001b[0;32m     <a href='file:///c%3A/Users/lukas/Git/Studie/42186-MBML-Project/MBML-env/lib/site-packages/pyro/infer/enum.py?line=63'>64</a>\u001b[0m         guide_trace\u001b[39m.\u001b[39mdetach_()\n",
      "File \u001b[1;32mc:\\Users\\lukas\\Git\\Studie\\42186-MBML-Project\\MBML-env\\lib\\site-packages\\pyro\\poutine\\trace_messenger.py:198\u001b[0m, in \u001b[0;36mTraceHandler.get_trace\u001b[1;34m(self, *args, **kwargs)\u001b[0m\n\u001b[0;32m    <a href='file:///c%3A/Users/lukas/Git/Studie/42186-MBML-Project/MBML-env/lib/site-packages/pyro/poutine/trace_messenger.py?line=189'>190</a>\u001b[0m \u001b[39mdef\u001b[39;00m \u001b[39mget_trace\u001b[39m(\u001b[39mself\u001b[39m, \u001b[39m*\u001b[39margs, \u001b[39m*\u001b[39m\u001b[39m*\u001b[39mkwargs):\n\u001b[0;32m    <a href='file:///c%3A/Users/lukas/Git/Studie/42186-MBML-Project/MBML-env/lib/site-packages/pyro/poutine/trace_messenger.py?line=190'>191</a>\u001b[0m     \u001b[39m\"\"\"\u001b[39;00m\n\u001b[0;32m    <a href='file:///c%3A/Users/lukas/Git/Studie/42186-MBML-Project/MBML-env/lib/site-packages/pyro/poutine/trace_messenger.py?line=191'>192</a>\u001b[0m \u001b[39m    :returns: data structure\u001b[39;00m\n\u001b[0;32m    <a href='file:///c%3A/Users/lukas/Git/Studie/42186-MBML-Project/MBML-env/lib/site-packages/pyro/poutine/trace_messenger.py?line=192'>193</a>\u001b[0m \u001b[39m    :rtype: pyro.poutine.Trace\u001b[39;00m\n\u001b[1;32m   (...)\u001b[0m\n\u001b[0;32m    <a href='file:///c%3A/Users/lukas/Git/Studie/42186-MBML-Project/MBML-env/lib/site-packages/pyro/poutine/trace_messenger.py?line=195'>196</a>\u001b[0m \u001b[39m    Calls this poutine and returns its trace instead of the function's return value.\u001b[39;00m\n\u001b[0;32m    <a href='file:///c%3A/Users/lukas/Git/Studie/42186-MBML-Project/MBML-env/lib/site-packages/pyro/poutine/trace_messenger.py?line=196'>197</a>\u001b[0m \u001b[39m    \"\"\"\u001b[39;00m\n\u001b[1;32m--> <a href='file:///c%3A/Users/lukas/Git/Studie/42186-MBML-Project/MBML-env/lib/site-packages/pyro/poutine/trace_messenger.py?line=197'>198</a>\u001b[0m     \u001b[39mself\u001b[39;49m(\u001b[39m*\u001b[39;49margs, \u001b[39m*\u001b[39;49m\u001b[39m*\u001b[39;49mkwargs)\n\u001b[0;32m    <a href='file:///c%3A/Users/lukas/Git/Studie/42186-MBML-Project/MBML-env/lib/site-packages/pyro/poutine/trace_messenger.py?line=198'>199</a>\u001b[0m     \u001b[39mreturn\u001b[39;00m \u001b[39mself\u001b[39m\u001b[39m.\u001b[39mmsngr\u001b[39m.\u001b[39mget_trace()\n",
      "File \u001b[1;32mc:\\Users\\lukas\\Git\\Studie\\42186-MBML-Project\\MBML-env\\lib\\site-packages\\pyro\\poutine\\trace_messenger.py:174\u001b[0m, in \u001b[0;36mTraceHandler.__call__\u001b[1;34m(self, *args, **kwargs)\u001b[0m\n\u001b[0;32m    <a href='file:///c%3A/Users/lukas/Git/Studie/42186-MBML-Project/MBML-env/lib/site-packages/pyro/poutine/trace_messenger.py?line=169'>170</a>\u001b[0m \u001b[39mself\u001b[39m\u001b[39m.\u001b[39mmsngr\u001b[39m.\u001b[39mtrace\u001b[39m.\u001b[39madd_node(\n\u001b[0;32m    <a href='file:///c%3A/Users/lukas/Git/Studie/42186-MBML-Project/MBML-env/lib/site-packages/pyro/poutine/trace_messenger.py?line=170'>171</a>\u001b[0m     \u001b[39m\"\u001b[39m\u001b[39m_INPUT\u001b[39m\u001b[39m\"\u001b[39m, name\u001b[39m=\u001b[39m\u001b[39m\"\u001b[39m\u001b[39m_INPUT\u001b[39m\u001b[39m\"\u001b[39m, \u001b[39mtype\u001b[39m\u001b[39m=\u001b[39m\u001b[39m\"\u001b[39m\u001b[39margs\u001b[39m\u001b[39m\"\u001b[39m, args\u001b[39m=\u001b[39margs, kwargs\u001b[39m=\u001b[39mkwargs\n\u001b[0;32m    <a href='file:///c%3A/Users/lukas/Git/Studie/42186-MBML-Project/MBML-env/lib/site-packages/pyro/poutine/trace_messenger.py?line=171'>172</a>\u001b[0m )\n\u001b[0;32m    <a href='file:///c%3A/Users/lukas/Git/Studie/42186-MBML-Project/MBML-env/lib/site-packages/pyro/poutine/trace_messenger.py?line=172'>173</a>\u001b[0m \u001b[39mtry\u001b[39;00m:\n\u001b[1;32m--> <a href='file:///c%3A/Users/lukas/Git/Studie/42186-MBML-Project/MBML-env/lib/site-packages/pyro/poutine/trace_messenger.py?line=173'>174</a>\u001b[0m     ret \u001b[39m=\u001b[39m \u001b[39mself\u001b[39;49m\u001b[39m.\u001b[39;49mfn(\u001b[39m*\u001b[39;49margs, \u001b[39m*\u001b[39;49m\u001b[39m*\u001b[39;49mkwargs)\n\u001b[0;32m    <a href='file:///c%3A/Users/lukas/Git/Studie/42186-MBML-Project/MBML-env/lib/site-packages/pyro/poutine/trace_messenger.py?line=174'>175</a>\u001b[0m \u001b[39mexcept\u001b[39;00m (\u001b[39mValueError\u001b[39;00m, \u001b[39mRuntimeError\u001b[39;00m) \u001b[39mas\u001b[39;00m e:\n\u001b[0;32m    <a href='file:///c%3A/Users/lukas/Git/Studie/42186-MBML-Project/MBML-env/lib/site-packages/pyro/poutine/trace_messenger.py?line=175'>176</a>\u001b[0m     exc_type, exc_value, traceback \u001b[39m=\u001b[39m sys\u001b[39m.\u001b[39mexc_info()\n",
      "File \u001b[1;32mc:\\Users\\lukas\\Git\\Studie\\42186-MBML-Project\\MBML-env\\lib\\site-packages\\pyro\\nn\\module.py:426\u001b[0m, in \u001b[0;36mPyroModule.__call__\u001b[1;34m(self, *args, **kwargs)\u001b[0m\n\u001b[0;32m    <a href='file:///c%3A/Users/lukas/Git/Studie/42186-MBML-Project/MBML-env/lib/site-packages/pyro/nn/module.py?line=423'>424</a>\u001b[0m \u001b[39mdef\u001b[39;00m \u001b[39m__call__\u001b[39m(\u001b[39mself\u001b[39m, \u001b[39m*\u001b[39margs, \u001b[39m*\u001b[39m\u001b[39m*\u001b[39mkwargs):\n\u001b[0;32m    <a href='file:///c%3A/Users/lukas/Git/Studie/42186-MBML-Project/MBML-env/lib/site-packages/pyro/nn/module.py?line=424'>425</a>\u001b[0m     \u001b[39mwith\u001b[39;00m \u001b[39mself\u001b[39m\u001b[39m.\u001b[39m_pyro_context:\n\u001b[1;32m--> <a href='file:///c%3A/Users/lukas/Git/Studie/42186-MBML-Project/MBML-env/lib/site-packages/pyro/nn/module.py?line=425'>426</a>\u001b[0m         \u001b[39mreturn\u001b[39;00m \u001b[39msuper\u001b[39;49m()\u001b[39m.\u001b[39;49m\u001b[39m__call__\u001b[39;49m(\u001b[39m*\u001b[39;49margs, \u001b[39m*\u001b[39;49m\u001b[39m*\u001b[39;49mkwargs)\n",
      "File \u001b[1;32mc:\\Users\\lukas\\Git\\Studie\\42186-MBML-Project\\MBML-env\\lib\\site-packages\\torch\\nn\\modules\\module.py:1110\u001b[0m, in \u001b[0;36mModule._call_impl\u001b[1;34m(self, *input, **kwargs)\u001b[0m\n\u001b[0;32m   <a href='file:///c%3A/Users/lukas/Git/Studie/42186-MBML-Project/MBML-env/lib/site-packages/torch/nn/modules/module.py?line=1105'>1106</a>\u001b[0m \u001b[39m# If we don't have any hooks, we want to skip the rest of the logic in\u001b[39;00m\n\u001b[0;32m   <a href='file:///c%3A/Users/lukas/Git/Studie/42186-MBML-Project/MBML-env/lib/site-packages/torch/nn/modules/module.py?line=1106'>1107</a>\u001b[0m \u001b[39m# this function, and just call forward.\u001b[39;00m\n\u001b[0;32m   <a href='file:///c%3A/Users/lukas/Git/Studie/42186-MBML-Project/MBML-env/lib/site-packages/torch/nn/modules/module.py?line=1107'>1108</a>\u001b[0m \u001b[39mif\u001b[39;00m \u001b[39mnot\u001b[39;00m (\u001b[39mself\u001b[39m\u001b[39m.\u001b[39m_backward_hooks \u001b[39mor\u001b[39;00m \u001b[39mself\u001b[39m\u001b[39m.\u001b[39m_forward_hooks \u001b[39mor\u001b[39;00m \u001b[39mself\u001b[39m\u001b[39m.\u001b[39m_forward_pre_hooks \u001b[39mor\u001b[39;00m _global_backward_hooks\n\u001b[0;32m   <a href='file:///c%3A/Users/lukas/Git/Studie/42186-MBML-Project/MBML-env/lib/site-packages/torch/nn/modules/module.py?line=1108'>1109</a>\u001b[0m         \u001b[39mor\u001b[39;00m _global_forward_hooks \u001b[39mor\u001b[39;00m _global_forward_pre_hooks):\n\u001b[1;32m-> <a href='file:///c%3A/Users/lukas/Git/Studie/42186-MBML-Project/MBML-env/lib/site-packages/torch/nn/modules/module.py?line=1109'>1110</a>\u001b[0m     \u001b[39mreturn\u001b[39;00m forward_call(\u001b[39m*\u001b[39;49m\u001b[39minput\u001b[39;49m, \u001b[39m*\u001b[39;49m\u001b[39m*\u001b[39;49mkwargs)\n\u001b[0;32m   <a href='file:///c%3A/Users/lukas/Git/Studie/42186-MBML-Project/MBML-env/lib/site-packages/torch/nn/modules/module.py?line=1110'>1111</a>\u001b[0m \u001b[39m# Do not call functions when jit is used\u001b[39;00m\n\u001b[0;32m   <a href='file:///c%3A/Users/lukas/Git/Studie/42186-MBML-Project/MBML-env/lib/site-packages/torch/nn/modules/module.py?line=1111'>1112</a>\u001b[0m full_backward_hooks, non_full_backward_hooks \u001b[39m=\u001b[39m [], []\n",
      "File \u001b[1;32mc:\\Users\\lukas\\Git\\Studie\\42186-MBML-Project\\MBML-env\\lib\\site-packages\\pyro\\infer\\autoguide\\guides.py:387\u001b[0m, in \u001b[0;36mAutoDelta.forward\u001b[1;34m(self, *args, **kwargs)\u001b[0m\n\u001b[0;32m    <a href='file:///c%3A/Users/lukas/Git/Studie/42186-MBML-Project/MBML-env/lib/site-packages/pyro/infer/autoguide/guides.py?line=384'>385</a>\u001b[0m \u001b[39m# if we've never run the model before, do so now so we can inspect the model structure\u001b[39;00m\n\u001b[0;32m    <a href='file:///c%3A/Users/lukas/Git/Studie/42186-MBML-Project/MBML-env/lib/site-packages/pyro/infer/autoguide/guides.py?line=385'>386</a>\u001b[0m \u001b[39mif\u001b[39;00m \u001b[39mself\u001b[39m\u001b[39m.\u001b[39mprototype_trace \u001b[39mis\u001b[39;00m \u001b[39mNone\u001b[39;00m:\n\u001b[1;32m--> <a href='file:///c%3A/Users/lukas/Git/Studie/42186-MBML-Project/MBML-env/lib/site-packages/pyro/infer/autoguide/guides.py?line=386'>387</a>\u001b[0m     \u001b[39mself\u001b[39;49m\u001b[39m.\u001b[39;49m_setup_prototype(\u001b[39m*\u001b[39;49margs, \u001b[39m*\u001b[39;49m\u001b[39m*\u001b[39;49mkwargs)\n\u001b[0;32m    <a href='file:///c%3A/Users/lukas/Git/Studie/42186-MBML-Project/MBML-env/lib/site-packages/pyro/infer/autoguide/guides.py?line=388'>389</a>\u001b[0m plates \u001b[39m=\u001b[39m \u001b[39mself\u001b[39m\u001b[39m.\u001b[39m_create_plates(\u001b[39m*\u001b[39margs, \u001b[39m*\u001b[39m\u001b[39m*\u001b[39mkwargs)\n\u001b[0;32m    <a href='file:///c%3A/Users/lukas/Git/Studie/42186-MBML-Project/MBML-env/lib/site-packages/pyro/infer/autoguide/guides.py?line=389'>390</a>\u001b[0m result \u001b[39m=\u001b[39m {}\n",
      "File \u001b[1;32mc:\\Users\\lukas\\Git\\Studie\\42186-MBML-Project\\MBML-env\\lib\\site-packages\\pyro\\infer\\autoguide\\guides.py:357\u001b[0m, in \u001b[0;36mAutoDelta._setup_prototype\u001b[1;34m(self, *args, **kwargs)\u001b[0m\n\u001b[0;32m    <a href='file:///c%3A/Users/lukas/Git/Studie/42186-MBML-Project/MBML-env/lib/site-packages/pyro/infer/autoguide/guides.py?line=355'>356</a>\u001b[0m \u001b[39mdef\u001b[39;00m \u001b[39m_setup_prototype\u001b[39m(\u001b[39mself\u001b[39m, \u001b[39m*\u001b[39margs, \u001b[39m*\u001b[39m\u001b[39m*\u001b[39mkwargs):\n\u001b[1;32m--> <a href='file:///c%3A/Users/lukas/Git/Studie/42186-MBML-Project/MBML-env/lib/site-packages/pyro/infer/autoguide/guides.py?line=356'>357</a>\u001b[0m     \u001b[39msuper\u001b[39;49m()\u001b[39m.\u001b[39;49m_setup_prototype(\u001b[39m*\u001b[39;49margs, \u001b[39m*\u001b[39;49m\u001b[39m*\u001b[39;49mkwargs)\n\u001b[0;32m    <a href='file:///c%3A/Users/lukas/Git/Studie/42186-MBML-Project/MBML-env/lib/site-packages/pyro/infer/autoguide/guides.py?line=358'>359</a>\u001b[0m     \u001b[39m# Initialize guide params\u001b[39;00m\n\u001b[0;32m    <a href='file:///c%3A/Users/lukas/Git/Studie/42186-MBML-Project/MBML-env/lib/site-packages/pyro/infer/autoguide/guides.py?line=359'>360</a>\u001b[0m     \u001b[39mfor\u001b[39;00m name, site \u001b[39min\u001b[39;00m \u001b[39mself\u001b[39m\u001b[39m.\u001b[39mprototype_trace\u001b[39m.\u001b[39miter_stochastic_nodes():\n",
      "File \u001b[1;32mc:\\Users\\lukas\\Git\\Studie\\42186-MBML-Project\\MBML-env\\lib\\site-packages\\pyro\\infer\\autoguide\\guides.py:157\u001b[0m, in \u001b[0;36mAutoGuide._setup_prototype\u001b[1;34m(self, *args, **kwargs)\u001b[0m\n\u001b[0;32m    <a href='file:///c%3A/Users/lukas/Git/Studie/42186-MBML-Project/MBML-env/lib/site-packages/pyro/infer/autoguide/guides.py?line=153'>154</a>\u001b[0m \u001b[39mdef\u001b[39;00m \u001b[39m_setup_prototype\u001b[39m(\u001b[39mself\u001b[39m, \u001b[39m*\u001b[39margs, \u001b[39m*\u001b[39m\u001b[39m*\u001b[39mkwargs):\n\u001b[0;32m    <a href='file:///c%3A/Users/lukas/Git/Studie/42186-MBML-Project/MBML-env/lib/site-packages/pyro/infer/autoguide/guides.py?line=154'>155</a>\u001b[0m     \u001b[39m# run the model so we can inspect its structure\u001b[39;00m\n\u001b[0;32m    <a href='file:///c%3A/Users/lukas/Git/Studie/42186-MBML-Project/MBML-env/lib/site-packages/pyro/infer/autoguide/guides.py?line=155'>156</a>\u001b[0m     model \u001b[39m=\u001b[39m poutine\u001b[39m.\u001b[39mblock(\u001b[39mself\u001b[39m\u001b[39m.\u001b[39mmodel, \u001b[39mself\u001b[39m\u001b[39m.\u001b[39m_prototype_hide_fn)\n\u001b[1;32m--> <a href='file:///c%3A/Users/lukas/Git/Studie/42186-MBML-Project/MBML-env/lib/site-packages/pyro/infer/autoguide/guides.py?line=156'>157</a>\u001b[0m     \u001b[39mself\u001b[39m\u001b[39m.\u001b[39mprototype_trace \u001b[39m=\u001b[39m poutine\u001b[39m.\u001b[39;49mblock(poutine\u001b[39m.\u001b[39;49mtrace(model)\u001b[39m.\u001b[39;49mget_trace)(\n\u001b[0;32m    <a href='file:///c%3A/Users/lukas/Git/Studie/42186-MBML-Project/MBML-env/lib/site-packages/pyro/infer/autoguide/guides.py?line=157'>158</a>\u001b[0m         \u001b[39m*\u001b[39;49margs, \u001b[39m*\u001b[39;49m\u001b[39m*\u001b[39;49mkwargs\n\u001b[0;32m    <a href='file:///c%3A/Users/lukas/Git/Studie/42186-MBML-Project/MBML-env/lib/site-packages/pyro/infer/autoguide/guides.py?line=158'>159</a>\u001b[0m     )\n\u001b[0;32m    <a href='file:///c%3A/Users/lukas/Git/Studie/42186-MBML-Project/MBML-env/lib/site-packages/pyro/infer/autoguide/guides.py?line=159'>160</a>\u001b[0m     \u001b[39mif\u001b[39;00m \u001b[39mself\u001b[39m\u001b[39m.\u001b[39mmaster \u001b[39mis\u001b[39;00m \u001b[39mnot\u001b[39;00m \u001b[39mNone\u001b[39;00m:\n\u001b[0;32m    <a href='file:///c%3A/Users/lukas/Git/Studie/42186-MBML-Project/MBML-env/lib/site-packages/pyro/infer/autoguide/guides.py?line=160'>161</a>\u001b[0m         \u001b[39mself\u001b[39m\u001b[39m.\u001b[39mmaster()\u001b[39m.\u001b[39m_check_prototype(\u001b[39mself\u001b[39m\u001b[39m.\u001b[39mprototype_trace)\n",
      "File \u001b[1;32mc:\\Users\\lukas\\Git\\Studie\\42186-MBML-Project\\MBML-env\\lib\\site-packages\\pyro\\poutine\\messenger.py:12\u001b[0m, in \u001b[0;36m_context_wrap\u001b[1;34m(context, fn, *args, **kwargs)\u001b[0m\n\u001b[0;32m     <a href='file:///c%3A/Users/lukas/Git/Studie/42186-MBML-Project/MBML-env/lib/site-packages/pyro/poutine/messenger.py?line=9'>10</a>\u001b[0m \u001b[39mdef\u001b[39;00m \u001b[39m_context_wrap\u001b[39m(context, fn, \u001b[39m*\u001b[39margs, \u001b[39m*\u001b[39m\u001b[39m*\u001b[39mkwargs):\n\u001b[0;32m     <a href='file:///c%3A/Users/lukas/Git/Studie/42186-MBML-Project/MBML-env/lib/site-packages/pyro/poutine/messenger.py?line=10'>11</a>\u001b[0m     \u001b[39mwith\u001b[39;00m context:\n\u001b[1;32m---> <a href='file:///c%3A/Users/lukas/Git/Studie/42186-MBML-Project/MBML-env/lib/site-packages/pyro/poutine/messenger.py?line=11'>12</a>\u001b[0m         \u001b[39mreturn\u001b[39;00m fn(\u001b[39m*\u001b[39;49margs, \u001b[39m*\u001b[39;49m\u001b[39m*\u001b[39;49mkwargs)\n",
      "File \u001b[1;32mc:\\Users\\lukas\\Git\\Studie\\42186-MBML-Project\\MBML-env\\lib\\site-packages\\pyro\\poutine\\trace_messenger.py:198\u001b[0m, in \u001b[0;36mTraceHandler.get_trace\u001b[1;34m(self, *args, **kwargs)\u001b[0m\n\u001b[0;32m    <a href='file:///c%3A/Users/lukas/Git/Studie/42186-MBML-Project/MBML-env/lib/site-packages/pyro/poutine/trace_messenger.py?line=189'>190</a>\u001b[0m \u001b[39mdef\u001b[39;00m \u001b[39mget_trace\u001b[39m(\u001b[39mself\u001b[39m, \u001b[39m*\u001b[39margs, \u001b[39m*\u001b[39m\u001b[39m*\u001b[39mkwargs):\n\u001b[0;32m    <a href='file:///c%3A/Users/lukas/Git/Studie/42186-MBML-Project/MBML-env/lib/site-packages/pyro/poutine/trace_messenger.py?line=190'>191</a>\u001b[0m     \u001b[39m\"\"\"\u001b[39;00m\n\u001b[0;32m    <a href='file:///c%3A/Users/lukas/Git/Studie/42186-MBML-Project/MBML-env/lib/site-packages/pyro/poutine/trace_messenger.py?line=191'>192</a>\u001b[0m \u001b[39m    :returns: data structure\u001b[39;00m\n\u001b[0;32m    <a href='file:///c%3A/Users/lukas/Git/Studie/42186-MBML-Project/MBML-env/lib/site-packages/pyro/poutine/trace_messenger.py?line=192'>193</a>\u001b[0m \u001b[39m    :rtype: pyro.poutine.Trace\u001b[39;00m\n\u001b[1;32m   (...)\u001b[0m\n\u001b[0;32m    <a href='file:///c%3A/Users/lukas/Git/Studie/42186-MBML-Project/MBML-env/lib/site-packages/pyro/poutine/trace_messenger.py?line=195'>196</a>\u001b[0m \u001b[39m    Calls this poutine and returns its trace instead of the function's return value.\u001b[39;00m\n\u001b[0;32m    <a href='file:///c%3A/Users/lukas/Git/Studie/42186-MBML-Project/MBML-env/lib/site-packages/pyro/poutine/trace_messenger.py?line=196'>197</a>\u001b[0m \u001b[39m    \"\"\"\u001b[39;00m\n\u001b[1;32m--> <a href='file:///c%3A/Users/lukas/Git/Studie/42186-MBML-Project/MBML-env/lib/site-packages/pyro/poutine/trace_messenger.py?line=197'>198</a>\u001b[0m     \u001b[39mself\u001b[39;49m(\u001b[39m*\u001b[39;49margs, \u001b[39m*\u001b[39;49m\u001b[39m*\u001b[39;49mkwargs)\n\u001b[0;32m    <a href='file:///c%3A/Users/lukas/Git/Studie/42186-MBML-Project/MBML-env/lib/site-packages/pyro/poutine/trace_messenger.py?line=198'>199</a>\u001b[0m     \u001b[39mreturn\u001b[39;00m \u001b[39mself\u001b[39m\u001b[39m.\u001b[39mmsngr\u001b[39m.\u001b[39mget_trace()\n",
      "File \u001b[1;32mc:\\Users\\lukas\\Git\\Studie\\42186-MBML-Project\\MBML-env\\lib\\site-packages\\pyro\\poutine\\trace_messenger.py:174\u001b[0m, in \u001b[0;36mTraceHandler.__call__\u001b[1;34m(self, *args, **kwargs)\u001b[0m\n\u001b[0;32m    <a href='file:///c%3A/Users/lukas/Git/Studie/42186-MBML-Project/MBML-env/lib/site-packages/pyro/poutine/trace_messenger.py?line=169'>170</a>\u001b[0m \u001b[39mself\u001b[39m\u001b[39m.\u001b[39mmsngr\u001b[39m.\u001b[39mtrace\u001b[39m.\u001b[39madd_node(\n\u001b[0;32m    <a href='file:///c%3A/Users/lukas/Git/Studie/42186-MBML-Project/MBML-env/lib/site-packages/pyro/poutine/trace_messenger.py?line=170'>171</a>\u001b[0m     \u001b[39m\"\u001b[39m\u001b[39m_INPUT\u001b[39m\u001b[39m\"\u001b[39m, name\u001b[39m=\u001b[39m\u001b[39m\"\u001b[39m\u001b[39m_INPUT\u001b[39m\u001b[39m\"\u001b[39m, \u001b[39mtype\u001b[39m\u001b[39m=\u001b[39m\u001b[39m\"\u001b[39m\u001b[39margs\u001b[39m\u001b[39m\"\u001b[39m, args\u001b[39m=\u001b[39margs, kwargs\u001b[39m=\u001b[39mkwargs\n\u001b[0;32m    <a href='file:///c%3A/Users/lukas/Git/Studie/42186-MBML-Project/MBML-env/lib/site-packages/pyro/poutine/trace_messenger.py?line=171'>172</a>\u001b[0m )\n\u001b[0;32m    <a href='file:///c%3A/Users/lukas/Git/Studie/42186-MBML-Project/MBML-env/lib/site-packages/pyro/poutine/trace_messenger.py?line=172'>173</a>\u001b[0m \u001b[39mtry\u001b[39;00m:\n\u001b[1;32m--> <a href='file:///c%3A/Users/lukas/Git/Studie/42186-MBML-Project/MBML-env/lib/site-packages/pyro/poutine/trace_messenger.py?line=173'>174</a>\u001b[0m     ret \u001b[39m=\u001b[39m \u001b[39mself\u001b[39;49m\u001b[39m.\u001b[39;49mfn(\u001b[39m*\u001b[39;49margs, \u001b[39m*\u001b[39;49m\u001b[39m*\u001b[39;49mkwargs)\n\u001b[0;32m    <a href='file:///c%3A/Users/lukas/Git/Studie/42186-MBML-Project/MBML-env/lib/site-packages/pyro/poutine/trace_messenger.py?line=174'>175</a>\u001b[0m \u001b[39mexcept\u001b[39;00m (\u001b[39mValueError\u001b[39;00m, \u001b[39mRuntimeError\u001b[39;00m) \u001b[39mas\u001b[39;00m e:\n\u001b[0;32m    <a href='file:///c%3A/Users/lukas/Git/Studie/42186-MBML-Project/MBML-env/lib/site-packages/pyro/poutine/trace_messenger.py?line=175'>176</a>\u001b[0m     exc_type, exc_value, traceback \u001b[39m=\u001b[39m sys\u001b[39m.\u001b[39mexc_info()\n",
      "File \u001b[1;32mc:\\Users\\lukas\\Git\\Studie\\42186-MBML-Project\\MBML-env\\lib\\site-packages\\pyro\\poutine\\messenger.py:12\u001b[0m, in \u001b[0;36m_context_wrap\u001b[1;34m(context, fn, *args, **kwargs)\u001b[0m\n\u001b[0;32m     <a href='file:///c%3A/Users/lukas/Git/Studie/42186-MBML-Project/MBML-env/lib/site-packages/pyro/poutine/messenger.py?line=9'>10</a>\u001b[0m \u001b[39mdef\u001b[39;00m \u001b[39m_context_wrap\u001b[39m(context, fn, \u001b[39m*\u001b[39margs, \u001b[39m*\u001b[39m\u001b[39m*\u001b[39mkwargs):\n\u001b[0;32m     <a href='file:///c%3A/Users/lukas/Git/Studie/42186-MBML-Project/MBML-env/lib/site-packages/pyro/poutine/messenger.py?line=10'>11</a>\u001b[0m     \u001b[39mwith\u001b[39;00m context:\n\u001b[1;32m---> <a href='file:///c%3A/Users/lukas/Git/Studie/42186-MBML-Project/MBML-env/lib/site-packages/pyro/poutine/messenger.py?line=11'>12</a>\u001b[0m         \u001b[39mreturn\u001b[39;00m fn(\u001b[39m*\u001b[39;49margs, \u001b[39m*\u001b[39;49m\u001b[39m*\u001b[39;49mkwargs)\n",
      "File \u001b[1;32mc:\\Users\\lukas\\Git\\Studie\\42186-MBML-Project\\MBML-env\\lib\\site-packages\\pyro\\poutine\\messenger.py:12\u001b[0m, in \u001b[0;36m_context_wrap\u001b[1;34m(context, fn, *args, **kwargs)\u001b[0m\n\u001b[0;32m     <a href='file:///c%3A/Users/lukas/Git/Studie/42186-MBML-Project/MBML-env/lib/site-packages/pyro/poutine/messenger.py?line=9'>10</a>\u001b[0m \u001b[39mdef\u001b[39;00m \u001b[39m_context_wrap\u001b[39m(context, fn, \u001b[39m*\u001b[39margs, \u001b[39m*\u001b[39m\u001b[39m*\u001b[39mkwargs):\n\u001b[0;32m     <a href='file:///c%3A/Users/lukas/Git/Studie/42186-MBML-Project/MBML-env/lib/site-packages/pyro/poutine/messenger.py?line=10'>11</a>\u001b[0m     \u001b[39mwith\u001b[39;00m context:\n\u001b[1;32m---> <a href='file:///c%3A/Users/lukas/Git/Studie/42186-MBML-Project/MBML-env/lib/site-packages/pyro/poutine/messenger.py?line=11'>12</a>\u001b[0m         \u001b[39mreturn\u001b[39;00m fn(\u001b[39m*\u001b[39;49margs, \u001b[39m*\u001b[39;49m\u001b[39m*\u001b[39;49mkwargs)\n",
      "\u001b[1;32mc:\\Users\\lukas\\Git\\Studie\\42186-MBML-Project\\EKF.ipynb Cell 15'\u001b[0m in \u001b[0;36mmodel\u001b[1;34m(obs)\u001b[0m\n\u001b[0;32m     <a href='vscode-notebook-cell:/c%3A/Users/lukas/Git/Studie/42186-MBML-Project/EKF.ipynb#ch0000011?line=11'>12</a>\u001b[0m \u001b[39mprint\u001b[39m(obs\u001b[39m.\u001b[39mshape, X_W[\u001b[39m0\u001b[39m]\u001b[39m.\u001b[39mshape, R\u001b[39m.\u001b[39mshape, Q\u001b[39m.\u001b[39mshape)\n\u001b[0;32m     <a href='vscode-notebook-cell:/c%3A/Users/lukas/Git/Studie/42186-MBML-Project/EKF.ipynb#ch0000011?line=12'>13</a>\u001b[0m \u001b[39m# observe the measurements\u001b[39;00m\n\u001b[1;32m---> <a href='vscode-notebook-cell:/c%3A/Users/lukas/Git/Studie/42186-MBML-Project/EKF.ipynb#ch0000011?line=13'>14</a>\u001b[0m y \u001b[39m=\u001b[39m pyro\u001b[39m.\u001b[39msample(\u001b[39m'\u001b[39m\u001b[39mtrack_\u001b[39m\u001b[39m{}\u001b[39;00m\u001b[39m'\u001b[39m\u001b[39m.\u001b[39mformat(i), EKFDistribution(X_W[\u001b[39m0\u001b[39;49m], R, dyn_model,\n\u001b[0;32m     <a href='vscode-notebook-cell:/c%3A/Users/lukas/Git/Studie/42186-MBML-Project/EKF.ipynb#ch0000011?line=14'>15</a>\u001b[0m                                                   Q, time_steps\u001b[39m=\u001b[39;49mT),\n\u001b[0;32m     <a href='vscode-notebook-cell:/c%3A/Users/lukas/Git/Studie/42186-MBML-Project/EKF.ipynb#ch0000011?line=15'>16</a>\u001b[0m             obs\u001b[39m=\u001b[39mobs)\n\u001b[0;32m     <a href='vscode-notebook-cell:/c%3A/Users/lukas/Git/Studie/42186-MBML-Project/EKF.ipynb#ch0000011?line=17'>18</a>\u001b[0m \u001b[39mreturn\u001b[39;00m y\n",
      "File \u001b[1;32mc:\\Users\\lukas\\Git\\Studie\\42186-MBML-Project\\MBML-env\\lib\\site-packages\\pyro\\distributions\\distribution.py:18\u001b[0m, in \u001b[0;36mDistributionMeta.__call__\u001b[1;34m(cls, *args, **kwargs)\u001b[0m\n\u001b[0;32m     <a href='file:///c%3A/Users/lukas/Git/Studie/42186-MBML-Project/MBML-env/lib/site-packages/pyro/distributions/distribution.py?line=15'>16</a>\u001b[0m     \u001b[39mif\u001b[39;00m result \u001b[39mis\u001b[39;00m \u001b[39mnot\u001b[39;00m \u001b[39mNone\u001b[39;00m:\n\u001b[0;32m     <a href='file:///c%3A/Users/lukas/Git/Studie/42186-MBML-Project/MBML-env/lib/site-packages/pyro/distributions/distribution.py?line=16'>17</a>\u001b[0m         \u001b[39mreturn\u001b[39;00m result\n\u001b[1;32m---> <a href='file:///c%3A/Users/lukas/Git/Studie/42186-MBML-Project/MBML-env/lib/site-packages/pyro/distributions/distribution.py?line=17'>18</a>\u001b[0m \u001b[39mreturn\u001b[39;00m \u001b[39msuper\u001b[39;49m()\u001b[39m.\u001b[39;49m\u001b[39m__call__\u001b[39;49m(\u001b[39m*\u001b[39;49margs, \u001b[39m*\u001b[39;49m\u001b[39m*\u001b[39;49mkwargs)\n",
      "File \u001b[1;32mc:\\Users\\lukas\\Git\\Studie\\42186-MBML-Project\\MBML-env\\lib\\site-packages\\pyro\\contrib\\tracking\\distributions.py:52\u001b[0m, in \u001b[0;36mEKFDistribution.__init__\u001b[1;34m(self, x0, P0, dynamic_model, measurement_cov, time_steps, dt, validate_args)\u001b[0m\n\u001b[0;32m     <a href='file:///c%3A/Users/lukas/Git/Studie/42186-MBML-Project/MBML-env/lib/site-packages/pyro/contrib/tracking/distributions.py?line=49'>50</a>\u001b[0m \u001b[39mself\u001b[39m\u001b[39m.\u001b[39mmeasurement_cov \u001b[39m=\u001b[39m measurement_cov\n\u001b[0;32m     <a href='file:///c%3A/Users/lukas/Git/Studie/42186-MBML-Project/MBML-env/lib/site-packages/pyro/contrib/tracking/distributions.py?line=50'>51</a>\u001b[0m \u001b[39mself\u001b[39m\u001b[39m.\u001b[39mdt \u001b[39m=\u001b[39m dt\n\u001b[1;32m---> <a href='file:///c%3A/Users/lukas/Git/Studie/42186-MBML-Project/MBML-env/lib/site-packages/pyro/contrib/tracking/distributions.py?line=51'>52</a>\u001b[0m \u001b[39massert\u001b[39;00m (\n\u001b[0;32m     <a href='file:///c%3A/Users/lukas/Git/Studie/42186-MBML-Project/MBML-env/lib/site-packages/pyro/contrib/tracking/distributions.py?line=52'>53</a>\u001b[0m     \u001b[39mnot\u001b[39;00m x0\u001b[39m.\u001b[39mshape[\u001b[39m-\u001b[39m\u001b[39m1\u001b[39m] \u001b[39m%\u001b[39m \u001b[39m2\u001b[39m\n\u001b[0;32m     <a href='file:///c%3A/Users/lukas/Git/Studie/42186-MBML-Project/MBML-env/lib/site-packages/pyro/contrib/tracking/distributions.py?line=53'>54</a>\u001b[0m ), \u001b[39m\"\u001b[39m\u001b[39mposition and velocity vectors must be the same dimension\u001b[39m\u001b[39m\"\u001b[39m\n\u001b[0;32m     <a href='file:///c%3A/Users/lukas/Git/Studie/42186-MBML-Project/MBML-env/lib/site-packages/pyro/contrib/tracking/distributions.py?line=54'>55</a>\u001b[0m batch_shape \u001b[39m=\u001b[39m x0\u001b[39m.\u001b[39mshape[:\u001b[39m-\u001b[39m\u001b[39m1\u001b[39m]\n\u001b[0;32m     <a href='file:///c%3A/Users/lukas/Git/Studie/42186-MBML-Project/MBML-env/lib/site-packages/pyro/contrib/tracking/distributions.py?line=55'>56</a>\u001b[0m event_shape \u001b[39m=\u001b[39m (time_steps, x0\u001b[39m.\u001b[39mshape[\u001b[39m-\u001b[39m\u001b[39m1\u001b[39m] \u001b[39m/\u001b[39m\u001b[39m/\u001b[39m \u001b[39m2\u001b[39m)\n",
      "\u001b[1;31mAssertionError\u001b[0m: position and velocity vectors must be the same dimension"
     ]
    }
   ],
   "source": [
    "optim = pyro.optim.Adam({'lr': 2e-2})\n",
    "svi = SVI(model, guide, optim, loss=Trace_ELBO(retain_graph=True))\n",
    "\n",
    "pyro.set_rng_seed(0)\n",
    "pyro.clear_param_store()\n",
    "\n",
    "x = torch.hstack((obs[:T], obs[:T], obs[:T], obs[:T], obs[:T])).reshape(T, 5)\n",
    "\n",
    "for i in range(10):\n",
    "    loss = svi.step(obs[:T])\n",
    "    if not i % 10:\n",
    "        print('loss: ', loss)\n",
    "\n",
    "        #torch.Size([10, 2]) torch.Size([4]) torch.Size([4, 4]) torch.Size([2, 2])"
   ]
  }
 ],
 "metadata": {
  "interpreter": {
   "hash": "dce29682316a73f3dbf4a78d3a346bd34e7f1893b4db7c16187fa8dc60916ec6"
  },
  "kernelspec": {
   "display_name": "Python 3.8.5 ('MBML-env': venv)",
   "language": "python",
   "name": "python3"
  },
  "language_info": {
   "codemirror_mode": {
    "name": "ipython",
    "version": 3
   },
   "file_extension": ".py",
   "mimetype": "text/x-python",
   "name": "python",
   "nbconvert_exporter": "python",
   "pygments_lexer": "ipython3",
   "version": "3.8.5"
  },
  "orig_nbformat": 4
 },
 "nbformat": 4,
 "nbformat_minor": 2
}
