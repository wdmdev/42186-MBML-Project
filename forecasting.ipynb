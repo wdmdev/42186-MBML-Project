{
 "cells": [
  {
   "cell_type": "markdown",
   "metadata": {},
   "source": [
    "# Dynamic Linear Model\n",
    "\n",
    "Here we obtain a vanilla DLM by following the [pyro tutorial](http://pyro.ai/examples/forecasting_dlm.html). \n",
    "\n",
    "Also see these links:\n",
    "- [Modelling mutivariate switching dynamics - advice on getting started?](https://forum.pyro.ai/t/modelling-mutivariate-switching-dynamics-advice-on-getting-started/4017/3)\n",
    "- [Deep Markov Models](http://pyro.ai/examples/dmm.html#Guide)\n",
    "- [Forecasting](https://docs.pyro.ai/en/stable/contrib.forecast.html)\n",
    "- [Time series](https://docs.pyro.ai/en/stable/contrib.timeseries.html)\n",
    "- [Enumeration of plates](https://pyro.ai/examples/enumeration.html)\n",
    "- [HMM example](http://pyro.ai/examples/hmm.html)\n",
    "- [Poutine](https://docs.pyro.ai/en/dev/poutine.html)"
   ]
  },
  {
   "cell_type": "code",
   "execution_count": 1,
   "metadata": {},
   "outputs": [],
   "source": [
    "import torch\n",
    "import pyro\n",
    "import pyro.distributions as dist\n",
    "import pyro.poutine as poutine\n",
    "from pyro.contrib.forecast import ForecastingModel, Forecaster, eval_crps\n",
    "from pyro.infer.reparam import LocScaleReparam\n",
    "from pyro.ops.stats import quantile\n",
    "from pyro.ops.tensor_utils import periodic_repeat\n",
    "\n",
    "\n",
    "from main import get_energy_data, get_weather_data\n",
    "import pandas as pd\n",
    "import matplotlib.pyplot as plt\n",
    "import pickle\n",
    "import seaborn as sns\n",
    "import numpy as np\n",
    "\n",
    "pyro.set_rng_seed(20200928)\n",
    "torch.manual_seed(20200101)\n",
    "\n",
    "pd.set_option('display.max_rows', 500)\n",
    "\n",
    "plt.style.use('seaborn-whitegrid')\n",
    "\n"
   ]
  },
  {
   "cell_type": "markdown",
   "metadata": {},
   "source": [
    "## Data\n",
    "\n",
    "Here we read data and aggregate on a daily level to easierly visualize the data."
   ]
  },
  {
   "cell_type": "code",
   "execution_count": 23,
   "metadata": {},
   "outputs": [
    {
     "name": "stdout",
     "output_type": "stream",
     "text": [
      "Number of observations: 1461\n",
      "Number of training observations: 1315\n",
      "Number of test observations: 146\n"
     ]
    }
   ],
   "source": [
    "# read data\n",
    "df = pd.read_csv(\"preprocessed_data/df.csv\")#.iloc[:1000]\n",
    "df[\"time_str\"] = [d.split(\"+\")[0] for d in df[\"time_str\"]]\n",
    "df[\"time_str\"] = pd.to_datetime(df[\"time_str\"], infer_datetime_format=True)#'%Y-%m-%d %H:%M:%S.%f') # 2015-01-01 10:00:00+00:00\n",
    "df = df.groupby(\"time_str\").mean()\n",
    "df = df.reset_index().set_index('time_str')\n",
    "df.index.name = None\n",
    "df = df.asfreq(\"D\") # aggregate data, can be commented out to use all data\n",
    "dfW = get_weather_data(df)\n",
    "dfE = get_energy_data(df)\n",
    "\n",
    "# convert to torch tensors\n",
    "X_W = torch.from_numpy(dfW.values).float()\n",
    "X_E = torch.from_numpy(dfE.values).float()\n",
    "obs = torch.from_numpy(df[\"price actual\"].values).float()\n",
    "\n",
    "\n",
    "# translate to pyro forecasting language\n",
    "T = None # number of time steps to include, if None all data is used\n",
    "y = obs.unsqueeze(-1) if T is None else obs[-T:].unsqueeze(-1)\n",
    "covariates = torch.hstack((X_E, X_W)) if T is None else torch.hstack((X_E, X_W))[-T:]\n",
    "covariates = X_E if T is None else X_E[-T:]\n",
    "\n",
    "# define constants\n",
    "n, p = covariates.shape\n",
    "dates = df.index[-n:] # used for plotting\n",
    "\n",
    "# start, train end, test end\n",
    "T0 = 0\n",
    "T1 = n - n//10 # 10 % test data\n",
    "T2 = n\n",
    "print(\"Number of observations:\", n)\n",
    "print(\"Number of training observations:\", T1 - T0)\n",
    "print(\"Number of test observations:\", T2 - T1)"
   ]
  },
  {
   "cell_type": "markdown",
   "metadata": {},
   "source": [
    "## Model"
   ]
  },
  {
   "cell_type": "code",
   "execution_count": 24,
   "metadata": {},
   "outputs": [],
   "source": [
    "class VanillaDLM(ForecastingModel):\n",
    "    \"\"\"\n",
    "    model from http://pyro.ai/examples/forecasting_dlm.html\n",
    "    \"\"\"\n",
    "    def __init__(self, use_priors = False):\n",
    "        super().__init__()\n",
    "        self.use_priors = use_priors\n",
    "        self.time_points = np.concatenate((\n",
    "            np.arange(300, 320),\n",
    "            np.arange(600, 620),\n",
    "            np.arange(900, 920),\n",
    "        ))\n",
    "        # broadcast on time-points\n",
    "        betas = torch.empty(n, p).normal_(0, 0.02).cumsum(0)\n",
    "        self.priors = betas[self.time_points]\n",
    "        # print(self.priors.shape)\n",
    "        \n",
    "    def model(self, zero_data, covariates):\n",
    "        data_dim = zero_data.size(-1)\n",
    "        feature_dim = covariates.size(-1)\n",
    "\n",
    "        drift_scale = pyro.sample(\"drift_scale\", dist.LogNormal(-10, 10).expand([feature_dim]).to_event(1))\n",
    "        with self.time_plate:\n",
    "            # print(t)\n",
    "            with poutine.reparam(config={\"drift\": LocScaleReparam()}):\n",
    "                drift = pyro.sample(\"drift\", dist.Normal(torch.zeros(covariates.size()), drift_scale).to_event(1))\n",
    "\n",
    "        weight = drift.cumsum(-2)  # A Brownian motion.\n",
    "        # record in model_trace\n",
    "        pyro.deterministic(\"weight\", weight)\n",
    "\n",
    "        # This is the only change from the simpler DLM model.\n",
    "        # We inject prior terms as if they were likelihoods using pyro observe statements.\n",
    "        if self.use_priors:\n",
    "            for tp, prior in zip(self.time_points, self.priors):\n",
    "                pyro.sample(\"weight_prior_{}\".format(tp), dist.Normal(prior, 0.5).to_event(1), obs=weight[..., tp:tp+1, :])\n",
    "\n",
    "        prediction = (weight * covariates).sum(-1, keepdim=True)\n",
    "        assert prediction.shape[-2:] == zero_data.shape\n",
    "        # record in model_trace\n",
    "        pyro.deterministic(\"prediction\", prediction)\n",
    "\n",
    "        scale = pyro.sample(\"noise_scale\", dist.LogNormal(-5, 10).expand([1]).to_event(1))\n",
    "        noise_dist = dist.Normal(0, scale)\n",
    "        self.predict(noise_dist, prediction)\n",
    "\n",
    "class SSM(ForecastingModel):\n",
    "    \"\"\"\n",
    "    model from http://pyro.ai/examples/forecasting_ii.html?highlight=forecast\n",
    "    \"\"\"\n",
    "    means = y[:T1 // (24 * 7) * 24 * 7].reshape(-1, 24 * 7).mean(0)\n",
    "    def model(self, zero_data, covariates):\n",
    "        duration = zero_data.size(-2)\n",
    "\n",
    "        # We'll hard-code the periodic part of this model, learning only the local model.\n",
    "        prediction = periodic_repeat(self.means, duration, dim=-1).unsqueeze(-1)\n",
    "        # pyro.deterministic(\"prediction\", prediction)\n",
    "\n",
    "        # On top of this mean prediction, we'll learn a linear dynamical system.\n",
    "        # This requires specifying five pieces of data, on which we will put structured priors.\n",
    "        init_dist = dist.Normal(0, 10).expand([1]).to_event(1)\n",
    "\n",
    "        timescale = pyro.sample(\"timescale\", dist.LogNormal(np.log(24), 1))\n",
    "        # Note timescale is a scalar but we need a 1x1 transition matrix (hidden_dim=1),\n",
    "        # thus we unsqueeze twice using [..., None, None].\n",
    "        trans_matrix = torch.exp(-1 / timescale)[..., None, None]\n",
    "        trans_scale = pyro.sample(\"trans_scale\", dist.LogNormal(-0.5 * np.log(24), 1))\n",
    "        trans_dist = dist.Normal(0, trans_scale.unsqueeze(-1)).to_event(1)\n",
    "\n",
    "        # Note the obs_matrix has shape hidden_dim x obs_dim = 1 x 1.\n",
    "        obs_matrix = torch.tensor([[1.]])\n",
    "        obs_scale = pyro.sample(\"obs_scale\", dist.LogNormal(-2, 1))\n",
    "        obs_dist = dist.Normal(0, obs_scale.unsqueeze(-1)).to_event(1)\n",
    "\n",
    "        noise_dist = dist.GaussianHMM(\n",
    "            init_dist, trans_matrix, trans_dist, obs_matrix, obs_dist, duration=duration)\n",
    "        self.predict(noise_dist, prediction)\n",
    "        \n",
    "\n",
    "class Model(ForecastingModel):\n",
    "    def __init__(self):\n",
    "        super().__init__()\n",
    "        self.M = 4\n",
    "        self.h_dim = 10\n",
    "        self.tau = 1\n",
    "        self.gamma = 1\n",
    "        self.lambda_g = 1\n",
    "        self.lambda_f = 1\n",
    "        self.sigma_beta = 1\n",
    "\n",
    "        # sample season dependent variables\n",
    "        with pyro.plate(\"season\", self.M):\n",
    "            sigma = pyro.sample(\"sigma\", dist.HalfCauchy(self.tau))\n",
    "            R = pyro.sample(\"R\", dist.HalfCauchy(self.gamma), sample_shape=(self.h_dim,)) \n",
    "            theta_g = pyro.sample(\"theta_g\", dist.Normal(0, self.lambda_g), sample_shape=(self.h_dim,))\n",
    "            theta_f = pyro.sample(\"theta_f\", dist.Normal(0, self.lambda_f), sample_shape=(self.h_dim, X_E.shape[1] + X_W.shape[1] + self.h_dim))\n",
    "            beta = pyro.sample(\"beta\", dist.Normal(0, self.sigma_beta), sample_shape=(X_W.shape[1],))\n",
    "            \n",
    "        # permute parameters to have season in the first dimension\n",
    "        print(\"R: \", R.shape, \"theta_g: \", theta_g.shape, \"theta_f: \", theta_f.shape, \"beta: \", beta.shape)\n",
    "        self.sigma = sigma\n",
    "        self.R = R.permute(1, 0)\n",
    "        self.theta_g = theta_g.permute(1, 0)\n",
    "        self.theta_f = theta_f.permute(2, 1, 0)\n",
    "        self.beta = beta.permute(1, 0)\n",
    "        print(\"R: \", self.R.shape, \"theta_g: \", self.theta_g.shape, \"theta_f: \", self.theta_f.shape, \"beta: \", self.beta.shape)\n",
    "\n",
    "    def model(self, zero_data, covariates):\n",
    "        duration, data_dim = zero_data.size()\n",
    "\n",
    "        print(zero_data.shape, covariates.shape)\n",
    "\n",
    "        x_E = covariates[:, :X_E.shape[1]]\n",
    "        x_W = covariates[:, -X_W.shape[1]:]\n",
    "\n",
    "        # with self.time_plate:\n",
    "        R = self.R\n",
    "        theta_g = self.theta_g\n",
    "        theta_f = self.theta_f\n",
    "        beta = self.beta\n",
    "        sigma = self.sigma\n",
    "        \n",
    "\n",
    "        # draw season variable \n",
    "        z = pyro.sample(\"z\", dist.Categorical(logits=x_W @ beta.T))\n",
    "        print(\"z: \", z.shape, z[:10])\n",
    "\n",
    "        # time plate loop\n",
    "        # with self.time_plate as t:\n",
    "        #     # h0 = pyro.sample(\"h0\", dist.Normal(torch.zeros(len(t), self.h_dim), torch.ones(len(t), self.h_dim)))\n",
    "        #     # print(\"h0: \", h0.shape)\n",
    "        #     h0 = torch.zeros(len(t), self.h_dim)\n",
    "        #     c = torch.hstack((covariates, h0)).unsqueeze(1)\n",
    "        #     print(\"c: \", c.shape)\n",
    "        #     h_mean = (theta_f[z].T @ c).squeeze()\n",
    "        #     h_var = R[z]\n",
    "        #     h = pyro.sample(\"h\", dist.Normal(h_mean, h_var))\n",
    "\n",
    "        # h = pyro.sample(\"h_0\", dist.Normal(0, 1), sample_shape=(self.h_dim,))\n",
    "        h = pyro.sample(\"h_0\", dist.Normal(torch.zeros(self.h_dim), torch.ones(self.h_dim)))\n",
    "        print(\"h: \", h.shape, self.theta_g.shape, self.theta_f.shape, self.R.shape, self.sigma.shape)\n",
    "        # for t in pyro.plate(\"time\", duration):\n",
    "        # # for t in self.time_plate:\n",
    "        #     # Draw season variable zt ∼ Multinomial(zt |Softmax(XtW , β1 , . . . , βM ))\n",
    "        #     print(x_E[t].shape, x_W[t].shape, h.shape)\n",
    "        #     c = torch.concat((x_E[t], x_W[t], h)).unsqueeze(1)\n",
    "\n",
    "\n",
    "        #     h_mean = (theta_f[z[t]].T @ c).squeeze()\n",
    "        #     h_var = R[z[t]]\n",
    "        #     h = pyro.sample(f\"h_{t+1}\", dist.Normal(h_mean, h_var))\n",
    "        #     h = h.squeeze()\n",
    "\n",
    "        # make prediction\n",
    "        prediction = (theta_g[z] @ h).unsqueeze(-1)#.sum(-1, keepdim=True)\n",
    "        print(prediction.shape)\n",
    "        assert prediction.shape[-2:] == zero_data.shape\n",
    "        # record in model_trace\n",
    "        pyro.deterministic(\"prediction\", prediction)\n",
    "\n",
    "        scale = pyro.sample(\"noise_scale\", dist.LogNormal(-5, 10).expand([1]).to_event(1))\n",
    "        noise_dist = dist.Normal(0, scale)\n",
    "        self.predict(noise_dist, prediction)\n",
    "\n",
    "\n",
    "\n",
    "\n"
   ]
  },
  {
   "cell_type": "markdown",
   "metadata": {},
   "source": [
    "## Inference"
   ]
  },
  {
   "cell_type": "markdown",
   "metadata": {},
   "source": [
    "#### Train - can be skipped if you have a trained model"
   ]
  },
  {
   "cell_type": "code",
   "execution_count": 31,
   "metadata": {},
   "outputs": [
    {
     "name": "stderr",
     "output_type": "stream",
     "text": [
      "INFO \t step    0 loss = 227.602\n",
      "INFO \t step  100 loss = 3.32074\n",
      "INFO \t step  200 loss = 3.32252\n",
      "INFO \t step  300 loss = 3.32164\n",
      "INFO \t step  400 loss = 3.32164\n",
      "INFO \t step  500 loss = 3.32162\n",
      "INFO \t step  600 loss = 3.32031\n",
      "INFO \t step  700 loss = 3.323\n",
      "INFO \t step  800 loss = 3.32064\n",
      "INFO \t step  900 loss = 3.32136\n"
     ]
    },
    {
     "name": "stdout",
     "output_type": "stream",
     "text": [
      "CPU times: total: 18.2 s\n",
      "Wall time: 18.2 s\n"
     ]
    }
   ],
   "source": [
    "%%time\n",
    "pyro.set_rng_seed(1)\n",
    "pyro.clear_param_store()\n",
    "model = SSM()\n",
    "forecaster = Forecaster(\n",
    "    model,\n",
    "    y[:T1],\n",
    "    covariates[:T1], # only use energy data for SSM and Vanilla DLM\n",
    "    learning_rate=0.1,\n",
    "    learning_rate_decay=0.05,\n",
    "    num_steps=1000,\n",
    ")\n",
    "\n",
    "with open(\"models/latest_test_model.pkl\", \"wb\") as f:\n",
    "    pickle.dump(forecaster, f)"
   ]
  },
  {
   "cell_type": "code",
   "execution_count": 27,
   "metadata": {},
   "outputs": [
    {
     "data": {
      "text/plain": [
       "torch.Size([1461, 10])"
      ]
     },
     "execution_count": 27,
     "metadata": {},
     "output_type": "execute_result"
    }
   ],
   "source": [
    "covariates.shape"
   ]
  },
  {
   "cell_type": "markdown",
   "metadata": {},
   "source": [
    "## Analyze posterior samples"
   ]
  },
  {
   "cell_type": "code",
   "execution_count": 32,
   "metadata": {},
   "outputs": [],
   "source": [
    "pyro.set_rng_seed(1)\n",
    "\n",
    "# load model\n",
    "# f = pickle.load(open(\"vanilla_dlm.pkl\", \"rb\")) # uncomment to load model\n",
    "\n",
    "# record all latent variables in a trace\n",
    "with poutine.trace() as tr:\n",
    "    forecaster(y[:T1], covariates, num_samples=100)\n",
    "\n",
    "# extract the values from the recorded trace\n",
    "posterior_samples = {\n",
    "    name: site[\"value\"]\n",
    "    for name, site in tr.trace.nodes.items()\n",
    "    if site[\"type\"] == \"sample\"\n",
    "}\n",
    "\n",
    "posterior_samples[\"prediction\"].shape\n",
    "\n",
    "estimates_mean = posterior_samples[\"prediction\"].mean(axis = 0)\n",
    "estimates_median = posterior_samples[\"prediction\"].median(axis = 0)\n",
    "stds = posterior_samples[\"prediction\"].std(axis = 0)"
   ]
  },
  {
   "cell_type": "markdown",
   "metadata": {},
   "source": [
    "### Stats"
   ]
  },
  {
   "cell_type": "code",
   "execution_count": 33,
   "metadata": {},
   "outputs": [
    {
     "name": "stdout",
     "output_type": "stream",
     "text": [
      "Mean price:  54.0\n",
      "Mean price residuals within 2 std: -6.0 10.0\n",
      "Mean price residuals: 2.0\n"
     ]
    }
   ],
   "source": [
    "resid = y - estimates_mean\n",
    "# print(\"CRPS:\", eval_crps(y.unsqueeze(0), estimates_mean.unsqueeze(0)))\n",
    "print(\"Mean price: \", y.mean().round().item())\n",
    "print(\"Mean price residuals within 2 std:\", (resid - 2*stds).mean().round().item(), (resid + 2*stds).mean().round().item())\n",
    "print(\"Mean price residuals:\", resid.mean().round().item())"
   ]
  },
  {
   "cell_type": "code",
   "execution_count": 37,
   "metadata": {},
   "outputs": [
    {
     "data": {
      "text/plain": [
       "torch.Size([1461, 1])"
      ]
     },
     "execution_count": 37,
     "metadata": {},
     "output_type": "execute_result"
    }
   ],
   "source": [
    "posterior_samples[\"prediction\"].shape"
   ]
  },
  {
   "cell_type": "markdown",
   "metadata": {},
   "source": [
    "### Plot"
   ]
  },
  {
   "cell_type": "markdown",
   "metadata": {},
   "source": [
    "#### Predictive posteriors"
   ]
  },
  {
   "cell_type": "code",
   "execution_count": 36,
   "metadata": {},
   "outputs": [
    {
     "ename": "ValueError",
     "evalue": "If using all scalar values, you must pass an index",
     "output_type": "error",
     "traceback": [
      "\u001b[1;31m---------------------------------------------------------------------------\u001b[0m",
      "\u001b[1;31mValueError\u001b[0m                                Traceback (most recent call last)",
      "\u001b[1;32mc:\\Users\\lukas\\Git\\Studie\\42186-MBML-Project\\dlm.ipynb Cell 18'\u001b[0m in \u001b[0;36m<module>\u001b[1;34m\u001b[0m\n\u001b[0;32m     <a href='vscode-notebook-cell:/c%3A/Users/lukas/Git/Studie/42186-MBML-Project/dlm.ipynb#ch0000026?line=13'>14</a>\u001b[0m     ax \u001b[39m=\u001b[39m axs[\u001b[39m1\u001b[39m]\n\u001b[0;32m     <a href='vscode-notebook-cell:/c%3A/Users/lukas/Git/Studie/42186-MBML-Project/dlm.ipynb#ch0000026?line=14'>15</a>\u001b[0m     data_origin \u001b[39m=\u001b[39m \u001b[39m\"\u001b[39m\u001b[39mtest\u001b[39m\u001b[39m\"\u001b[39m\n\u001b[1;32m---> <a href='vscode-notebook-cell:/c%3A/Users/lukas/Git/Studie/42186-MBML-Project/dlm.ipynb#ch0000026?line=16'>17</a>\u001b[0m sns\u001b[39m.\u001b[39;49mkdeplot(posterior_samples[\u001b[39m\"\u001b[39;49m\u001b[39mprediction\u001b[39;49m\u001b[39m\"\u001b[39;49m][idx]\u001b[39m.\u001b[39;49msqueeze(), ax\u001b[39m=\u001b[39;49max, color\u001b[39m=\u001b[39;49mpallete[i], label\u001b[39m=\u001b[39;49m\u001b[39m\"\u001b[39;49m\u001b[39mposterior\u001b[39;49m\u001b[39m\"\u001b[39;49m)\n\u001b[0;32m     <a href='vscode-notebook-cell:/c%3A/Users/lukas/Git/Studie/42186-MBML-Project/dlm.ipynb#ch0000026?line=17'>18</a>\u001b[0m ax\u001b[39m.\u001b[39maxvline(y[idx]\u001b[39m.\u001b[39mnumpy(), color\u001b[39m=\u001b[39mpallete[i], label\u001b[39m=\u001b[39m\u001b[39m\"\u001b[39m\u001b[39mtrue price\u001b[39m\u001b[39m\"\u001b[39m, linestyle\u001b[39m=\u001b[39m\u001b[39m\"\u001b[39m\u001b[39m--\u001b[39m\u001b[39m\"\u001b[39m)\n\u001b[0;32m     <a href='vscode-notebook-cell:/c%3A/Users/lukas/Git/Studie/42186-MBML-Project/dlm.ipynb#ch0000026?line=18'>19</a>\u001b[0m ax\u001b[39m.\u001b[39mlegend()\n",
      "File \u001b[1;32mc:\\Users\\lukas\\Git\\Studie\\42186-MBML-Project\\MBML-env\\lib\\site-packages\\seaborn\\_decorators.py:46\u001b[0m, in \u001b[0;36m_deprecate_positional_args.<locals>.inner_f\u001b[1;34m(*args, **kwargs)\u001b[0m\n\u001b[0;32m     <a href='file:///c%3A/Users/lukas/Git/Studie/42186-MBML-Project/MBML-env/lib/site-packages/seaborn/_decorators.py?line=35'>36</a>\u001b[0m     warnings\u001b[39m.\u001b[39mwarn(\n\u001b[0;32m     <a href='file:///c%3A/Users/lukas/Git/Studie/42186-MBML-Project/MBML-env/lib/site-packages/seaborn/_decorators.py?line=36'>37</a>\u001b[0m         \u001b[39m\"\u001b[39m\u001b[39mPass the following variable\u001b[39m\u001b[39m{}\u001b[39;00m\u001b[39m as \u001b[39m\u001b[39m{}\u001b[39;00m\u001b[39mkeyword arg\u001b[39m\u001b[39m{}\u001b[39;00m\u001b[39m: \u001b[39m\u001b[39m{}\u001b[39;00m\u001b[39m. \u001b[39m\u001b[39m\"\u001b[39m\n\u001b[0;32m     <a href='file:///c%3A/Users/lukas/Git/Studie/42186-MBML-Project/MBML-env/lib/site-packages/seaborn/_decorators.py?line=37'>38</a>\u001b[0m         \u001b[39m\"\u001b[39m\u001b[39mFrom version 0.12, the only valid positional argument \u001b[39m\u001b[39m\"\u001b[39m\n\u001b[1;32m   (...)\u001b[0m\n\u001b[0;32m     <a href='file:///c%3A/Users/lukas/Git/Studie/42186-MBML-Project/MBML-env/lib/site-packages/seaborn/_decorators.py?line=42'>43</a>\u001b[0m         \u001b[39mFutureWarning\u001b[39;00m\n\u001b[0;32m     <a href='file:///c%3A/Users/lukas/Git/Studie/42186-MBML-Project/MBML-env/lib/site-packages/seaborn/_decorators.py?line=43'>44</a>\u001b[0m     )\n\u001b[0;32m     <a href='file:///c%3A/Users/lukas/Git/Studie/42186-MBML-Project/MBML-env/lib/site-packages/seaborn/_decorators.py?line=44'>45</a>\u001b[0m kwargs\u001b[39m.\u001b[39mupdate({k: arg \u001b[39mfor\u001b[39;00m k, arg \u001b[39min\u001b[39;00m \u001b[39mzip\u001b[39m(sig\u001b[39m.\u001b[39mparameters, args)})\n\u001b[1;32m---> <a href='file:///c%3A/Users/lukas/Git/Studie/42186-MBML-Project/MBML-env/lib/site-packages/seaborn/_decorators.py?line=45'>46</a>\u001b[0m \u001b[39mreturn\u001b[39;00m f(\u001b[39m*\u001b[39;49m\u001b[39m*\u001b[39;49mkwargs)\n",
      "File \u001b[1;32mc:\\Users\\lukas\\Git\\Studie\\42186-MBML-Project\\MBML-env\\lib\\site-packages\\seaborn\\distributions.py:1738\u001b[0m, in \u001b[0;36mkdeplot\u001b[1;34m(x, y, shade, vertical, kernel, bw, gridsize, cut, clip, legend, cumulative, shade_lowest, cbar, cbar_ax, cbar_kws, ax, weights, hue, palette, hue_order, hue_norm, multiple, common_norm, common_grid, levels, thresh, bw_method, bw_adjust, log_scale, color, fill, data, data2, warn_singular, **kwargs)\u001b[0m\n\u001b[0;32m   <a href='file:///c%3A/Users/lukas/Git/Studie/42186-MBML-Project/MBML-env/lib/site-packages/seaborn/distributions.py?line=1733'>1734</a>\u001b[0m     fill \u001b[39m=\u001b[39m shade\n\u001b[0;32m   <a href='file:///c%3A/Users/lukas/Git/Studie/42186-MBML-Project/MBML-env/lib/site-packages/seaborn/distributions.py?line=1735'>1736</a>\u001b[0m \u001b[39m# - - - - - - - - - - - - - - - - - - - - - - - - - - - - - - - - - - - - #\u001b[39;00m\n\u001b[1;32m-> <a href='file:///c%3A/Users/lukas/Git/Studie/42186-MBML-Project/MBML-env/lib/site-packages/seaborn/distributions.py?line=1737'>1738</a>\u001b[0m p \u001b[39m=\u001b[39m _DistributionPlotter(\n\u001b[0;32m   <a href='file:///c%3A/Users/lukas/Git/Studie/42186-MBML-Project/MBML-env/lib/site-packages/seaborn/distributions.py?line=1738'>1739</a>\u001b[0m     data\u001b[39m=\u001b[39;49mdata,\n\u001b[0;32m   <a href='file:///c%3A/Users/lukas/Git/Studie/42186-MBML-Project/MBML-env/lib/site-packages/seaborn/distributions.py?line=1739'>1740</a>\u001b[0m     variables\u001b[39m=\u001b[39;49m_DistributionPlotter\u001b[39m.\u001b[39;49mget_semantics(\u001b[39mlocals\u001b[39;49m()),\n\u001b[0;32m   <a href='file:///c%3A/Users/lukas/Git/Studie/42186-MBML-Project/MBML-env/lib/site-packages/seaborn/distributions.py?line=1740'>1741</a>\u001b[0m )\n\u001b[0;32m   <a href='file:///c%3A/Users/lukas/Git/Studie/42186-MBML-Project/MBML-env/lib/site-packages/seaborn/distributions.py?line=1742'>1743</a>\u001b[0m p\u001b[39m.\u001b[39mmap_hue(palette\u001b[39m=\u001b[39mpalette, order\u001b[39m=\u001b[39mhue_order, norm\u001b[39m=\u001b[39mhue_norm)\n\u001b[0;32m   <a href='file:///c%3A/Users/lukas/Git/Studie/42186-MBML-Project/MBML-env/lib/site-packages/seaborn/distributions.py?line=1744'>1745</a>\u001b[0m \u001b[39mif\u001b[39;00m ax \u001b[39mis\u001b[39;00m \u001b[39mNone\u001b[39;00m:\n",
      "File \u001b[1;32mc:\\Users\\lukas\\Git\\Studie\\42186-MBML-Project\\MBML-env\\lib\\site-packages\\seaborn\\distributions.py:111\u001b[0m, in \u001b[0;36m_DistributionPlotter.__init__\u001b[1;34m(self, data, variables)\u001b[0m\n\u001b[0;32m    <a href='file:///c%3A/Users/lukas/Git/Studie/42186-MBML-Project/MBML-env/lib/site-packages/seaborn/distributions.py?line=104'>105</a>\u001b[0m \u001b[39mdef\u001b[39;00m \u001b[39m__init__\u001b[39m(\n\u001b[0;32m    <a href='file:///c%3A/Users/lukas/Git/Studie/42186-MBML-Project/MBML-env/lib/site-packages/seaborn/distributions.py?line=105'>106</a>\u001b[0m     \u001b[39mself\u001b[39m,\n\u001b[0;32m    <a href='file:///c%3A/Users/lukas/Git/Studie/42186-MBML-Project/MBML-env/lib/site-packages/seaborn/distributions.py?line=106'>107</a>\u001b[0m     data\u001b[39m=\u001b[39m\u001b[39mNone\u001b[39;00m,\n\u001b[0;32m    <a href='file:///c%3A/Users/lukas/Git/Studie/42186-MBML-Project/MBML-env/lib/site-packages/seaborn/distributions.py?line=107'>108</a>\u001b[0m     variables\u001b[39m=\u001b[39m{},\n\u001b[0;32m    <a href='file:///c%3A/Users/lukas/Git/Studie/42186-MBML-Project/MBML-env/lib/site-packages/seaborn/distributions.py?line=108'>109</a>\u001b[0m ):\n\u001b[1;32m--> <a href='file:///c%3A/Users/lukas/Git/Studie/42186-MBML-Project/MBML-env/lib/site-packages/seaborn/distributions.py?line=110'>111</a>\u001b[0m     \u001b[39msuper\u001b[39;49m()\u001b[39m.\u001b[39;49m\u001b[39m__init__\u001b[39;49m(data\u001b[39m=\u001b[39;49mdata, variables\u001b[39m=\u001b[39;49mvariables)\n",
      "File \u001b[1;32mc:\\Users\\lukas\\Git\\Studie\\42186-MBML-Project\\MBML-env\\lib\\site-packages\\seaborn\\_core.py:605\u001b[0m, in \u001b[0;36mVectorPlotter.__init__\u001b[1;34m(self, data, variables)\u001b[0m\n\u001b[0;32m    <a href='file:///c%3A/Users/lukas/Git/Studie/42186-MBML-Project/MBML-env/lib/site-packages/seaborn/_core.py?line=602'>603</a>\u001b[0m \u001b[39mdef\u001b[39;00m \u001b[39m__init__\u001b[39m(\u001b[39mself\u001b[39m, data\u001b[39m=\u001b[39m\u001b[39mNone\u001b[39;00m, variables\u001b[39m=\u001b[39m{}):\n\u001b[1;32m--> <a href='file:///c%3A/Users/lukas/Git/Studie/42186-MBML-Project/MBML-env/lib/site-packages/seaborn/_core.py?line=604'>605</a>\u001b[0m     \u001b[39mself\u001b[39;49m\u001b[39m.\u001b[39;49massign_variables(data, variables)\n\u001b[0;32m    <a href='file:///c%3A/Users/lukas/Git/Studie/42186-MBML-Project/MBML-env/lib/site-packages/seaborn/_core.py?line=606'>607</a>\u001b[0m     \u001b[39mfor\u001b[39;00m var, \u001b[39mcls\u001b[39m \u001b[39min\u001b[39;00m \u001b[39mself\u001b[39m\u001b[39m.\u001b[39m_semantic_mappings\u001b[39m.\u001b[39mitems():\n\u001b[0;32m    <a href='file:///c%3A/Users/lukas/Git/Studie/42186-MBML-Project/MBML-env/lib/site-packages/seaborn/_core.py?line=607'>608</a>\u001b[0m \n\u001b[0;32m    <a href='file:///c%3A/Users/lukas/Git/Studie/42186-MBML-Project/MBML-env/lib/site-packages/seaborn/_core.py?line=608'>609</a>\u001b[0m         \u001b[39m# Create the mapping function\u001b[39;00m\n\u001b[0;32m    <a href='file:///c%3A/Users/lukas/Git/Studie/42186-MBML-Project/MBML-env/lib/site-packages/seaborn/_core.py?line=609'>610</a>\u001b[0m         map_func \u001b[39m=\u001b[39m partial(\u001b[39mcls\u001b[39m\u001b[39m.\u001b[39mmap, plotter\u001b[39m=\u001b[39m\u001b[39mself\u001b[39m)\n",
      "File \u001b[1;32mc:\\Users\\lukas\\Git\\Studie\\42186-MBML-Project\\MBML-env\\lib\\site-packages\\seaborn\\_core.py:668\u001b[0m, in \u001b[0;36mVectorPlotter.assign_variables\u001b[1;34m(self, data, variables)\u001b[0m\n\u001b[0;32m    <a href='file:///c%3A/Users/lukas/Git/Studie/42186-MBML-Project/MBML-env/lib/site-packages/seaborn/_core.py?line=665'>666</a>\u001b[0m \u001b[39melse\u001b[39;00m:\n\u001b[0;32m    <a href='file:///c%3A/Users/lukas/Git/Studie/42186-MBML-Project/MBML-env/lib/site-packages/seaborn/_core.py?line=666'>667</a>\u001b[0m     \u001b[39mself\u001b[39m\u001b[39m.\u001b[39minput_format \u001b[39m=\u001b[39m \u001b[39m\"\u001b[39m\u001b[39mlong\u001b[39m\u001b[39m\"\u001b[39m\n\u001b[1;32m--> <a href='file:///c%3A/Users/lukas/Git/Studie/42186-MBML-Project/MBML-env/lib/site-packages/seaborn/_core.py?line=667'>668</a>\u001b[0m     plot_data, variables \u001b[39m=\u001b[39m \u001b[39mself\u001b[39;49m\u001b[39m.\u001b[39;49m_assign_variables_longform(\n\u001b[0;32m    <a href='file:///c%3A/Users/lukas/Git/Studie/42186-MBML-Project/MBML-env/lib/site-packages/seaborn/_core.py?line=668'>669</a>\u001b[0m         data, \u001b[39m*\u001b[39;49m\u001b[39m*\u001b[39;49mvariables,\n\u001b[0;32m    <a href='file:///c%3A/Users/lukas/Git/Studie/42186-MBML-Project/MBML-env/lib/site-packages/seaborn/_core.py?line=669'>670</a>\u001b[0m     )\n\u001b[0;32m    <a href='file:///c%3A/Users/lukas/Git/Studie/42186-MBML-Project/MBML-env/lib/site-packages/seaborn/_core.py?line=671'>672</a>\u001b[0m \u001b[39mself\u001b[39m\u001b[39m.\u001b[39mplot_data \u001b[39m=\u001b[39m plot_data\n\u001b[0;32m    <a href='file:///c%3A/Users/lukas/Git/Studie/42186-MBML-Project/MBML-env/lib/site-packages/seaborn/_core.py?line=672'>673</a>\u001b[0m \u001b[39mself\u001b[39m\u001b[39m.\u001b[39mvariables \u001b[39m=\u001b[39m variables\n",
      "File \u001b[1;32mc:\\Users\\lukas\\Git\\Studie\\42186-MBML-Project\\MBML-env\\lib\\site-packages\\seaborn\\_core.py:927\u001b[0m, in \u001b[0;36mVectorPlotter._assign_variables_longform\u001b[1;34m(self, data, **kwargs)\u001b[0m\n\u001b[0;32m    <a href='file:///c%3A/Users/lukas/Git/Studie/42186-MBML-Project/MBML-env/lib/site-packages/seaborn/_core.py?line=922'>923</a>\u001b[0m         variables[key] \u001b[39m=\u001b[39m \u001b[39mgetattr\u001b[39m(val, \u001b[39m\"\u001b[39m\u001b[39mname\u001b[39m\u001b[39m\"\u001b[39m, \u001b[39mNone\u001b[39;00m)\n\u001b[0;32m    <a href='file:///c%3A/Users/lukas/Git/Studie/42186-MBML-Project/MBML-env/lib/site-packages/seaborn/_core.py?line=924'>925</a>\u001b[0m \u001b[39m# Construct a tidy plot DataFrame. This will convert a number of\u001b[39;00m\n\u001b[0;32m    <a href='file:///c%3A/Users/lukas/Git/Studie/42186-MBML-Project/MBML-env/lib/site-packages/seaborn/_core.py?line=925'>926</a>\u001b[0m \u001b[39m# types automatically, aligning on index in case of pandas objects\u001b[39;00m\n\u001b[1;32m--> <a href='file:///c%3A/Users/lukas/Git/Studie/42186-MBML-Project/MBML-env/lib/site-packages/seaborn/_core.py?line=926'>927</a>\u001b[0m plot_data \u001b[39m=\u001b[39m pd\u001b[39m.\u001b[39;49mDataFrame(plot_data)\n\u001b[0;32m    <a href='file:///c%3A/Users/lukas/Git/Studie/42186-MBML-Project/MBML-env/lib/site-packages/seaborn/_core.py?line=928'>929</a>\u001b[0m \u001b[39m# Reduce the variables dictionary to fields with valid data\u001b[39;00m\n\u001b[0;32m    <a href='file:///c%3A/Users/lukas/Git/Studie/42186-MBML-Project/MBML-env/lib/site-packages/seaborn/_core.py?line=929'>930</a>\u001b[0m variables \u001b[39m=\u001b[39m {\n\u001b[0;32m    <a href='file:///c%3A/Users/lukas/Git/Studie/42186-MBML-Project/MBML-env/lib/site-packages/seaborn/_core.py?line=930'>931</a>\u001b[0m     var: name\n\u001b[0;32m    <a href='file:///c%3A/Users/lukas/Git/Studie/42186-MBML-Project/MBML-env/lib/site-packages/seaborn/_core.py?line=931'>932</a>\u001b[0m     \u001b[39mfor\u001b[39;00m var, name \u001b[39min\u001b[39;00m variables\u001b[39m.\u001b[39mitems()\n\u001b[0;32m    <a href='file:///c%3A/Users/lukas/Git/Studie/42186-MBML-Project/MBML-env/lib/site-packages/seaborn/_core.py?line=932'>933</a>\u001b[0m     \u001b[39mif\u001b[39;00m plot_data[var]\u001b[39m.\u001b[39mnotnull()\u001b[39m.\u001b[39many()\n\u001b[0;32m    <a href='file:///c%3A/Users/lukas/Git/Studie/42186-MBML-Project/MBML-env/lib/site-packages/seaborn/_core.py?line=933'>934</a>\u001b[0m }\n",
      "File \u001b[1;32mc:\\Users\\lukas\\Git\\Studie\\42186-MBML-Project\\MBML-env\\lib\\site-packages\\pandas\\core\\frame.py:637\u001b[0m, in \u001b[0;36mDataFrame.__init__\u001b[1;34m(self, data, index, columns, dtype, copy)\u001b[0m\n\u001b[0;32m    <a href='file:///c%3A/Users/lukas/Git/Studie/42186-MBML-Project/MBML-env/lib/site-packages/pandas/core/frame.py?line=630'>631</a>\u001b[0m     mgr \u001b[39m=\u001b[39m \u001b[39mself\u001b[39m\u001b[39m.\u001b[39m_init_mgr(\n\u001b[0;32m    <a href='file:///c%3A/Users/lukas/Git/Studie/42186-MBML-Project/MBML-env/lib/site-packages/pandas/core/frame.py?line=631'>632</a>\u001b[0m         data, axes\u001b[39m=\u001b[39m{\u001b[39m\"\u001b[39m\u001b[39mindex\u001b[39m\u001b[39m\"\u001b[39m: index, \u001b[39m\"\u001b[39m\u001b[39mcolumns\u001b[39m\u001b[39m\"\u001b[39m: columns}, dtype\u001b[39m=\u001b[39mdtype, copy\u001b[39m=\u001b[39mcopy\n\u001b[0;32m    <a href='file:///c%3A/Users/lukas/Git/Studie/42186-MBML-Project/MBML-env/lib/site-packages/pandas/core/frame.py?line=632'>633</a>\u001b[0m     )\n\u001b[0;32m    <a href='file:///c%3A/Users/lukas/Git/Studie/42186-MBML-Project/MBML-env/lib/site-packages/pandas/core/frame.py?line=634'>635</a>\u001b[0m \u001b[39melif\u001b[39;00m \u001b[39misinstance\u001b[39m(data, \u001b[39mdict\u001b[39m):\n\u001b[0;32m    <a href='file:///c%3A/Users/lukas/Git/Studie/42186-MBML-Project/MBML-env/lib/site-packages/pandas/core/frame.py?line=635'>636</a>\u001b[0m     \u001b[39m# GH#38939 de facto copy defaults to False only in non-dict cases\u001b[39;00m\n\u001b[1;32m--> <a href='file:///c%3A/Users/lukas/Git/Studie/42186-MBML-Project/MBML-env/lib/site-packages/pandas/core/frame.py?line=636'>637</a>\u001b[0m     mgr \u001b[39m=\u001b[39m dict_to_mgr(data, index, columns, dtype\u001b[39m=\u001b[39;49mdtype, copy\u001b[39m=\u001b[39;49mcopy, typ\u001b[39m=\u001b[39;49mmanager)\n\u001b[0;32m    <a href='file:///c%3A/Users/lukas/Git/Studie/42186-MBML-Project/MBML-env/lib/site-packages/pandas/core/frame.py?line=637'>638</a>\u001b[0m \u001b[39melif\u001b[39;00m \u001b[39misinstance\u001b[39m(data, ma\u001b[39m.\u001b[39mMaskedArray):\n\u001b[0;32m    <a href='file:///c%3A/Users/lukas/Git/Studie/42186-MBML-Project/MBML-env/lib/site-packages/pandas/core/frame.py?line=638'>639</a>\u001b[0m     \u001b[39mimport\u001b[39;00m \u001b[39mnumpy\u001b[39;00m\u001b[39m.\u001b[39;00m\u001b[39mma\u001b[39;00m\u001b[39m.\u001b[39;00m\u001b[39mmrecords\u001b[39;00m \u001b[39mas\u001b[39;00m \u001b[39mmrecords\u001b[39;00m\n",
      "File \u001b[1;32mc:\\Users\\lukas\\Git\\Studie\\42186-MBML-Project\\MBML-env\\lib\\site-packages\\pandas\\core\\internals\\construction.py:502\u001b[0m, in \u001b[0;36mdict_to_mgr\u001b[1;34m(data, index, columns, dtype, typ, copy)\u001b[0m\n\u001b[0;32m    <a href='file:///c%3A/Users/lukas/Git/Studie/42186-MBML-Project/MBML-env/lib/site-packages/pandas/core/internals/construction.py?line=493'>494</a>\u001b[0m     arrays \u001b[39m=\u001b[39m [\n\u001b[0;32m    <a href='file:///c%3A/Users/lukas/Git/Studie/42186-MBML-Project/MBML-env/lib/site-packages/pandas/core/internals/construction.py?line=494'>495</a>\u001b[0m         x\n\u001b[0;32m    <a href='file:///c%3A/Users/lukas/Git/Studie/42186-MBML-Project/MBML-env/lib/site-packages/pandas/core/internals/construction.py?line=495'>496</a>\u001b[0m         \u001b[39mif\u001b[39;00m \u001b[39mnot\u001b[39;00m \u001b[39mhasattr\u001b[39m(x, \u001b[39m\"\u001b[39m\u001b[39mdtype\u001b[39m\u001b[39m\"\u001b[39m) \u001b[39mor\u001b[39;00m \u001b[39mnot\u001b[39;00m \u001b[39misinstance\u001b[39m(x\u001b[39m.\u001b[39mdtype, ExtensionDtype)\n\u001b[0;32m    <a href='file:///c%3A/Users/lukas/Git/Studie/42186-MBML-Project/MBML-env/lib/site-packages/pandas/core/internals/construction.py?line=496'>497</a>\u001b[0m         \u001b[39melse\u001b[39;00m x\u001b[39m.\u001b[39mcopy()\n\u001b[0;32m    <a href='file:///c%3A/Users/lukas/Git/Studie/42186-MBML-Project/MBML-env/lib/site-packages/pandas/core/internals/construction.py?line=497'>498</a>\u001b[0m         \u001b[39mfor\u001b[39;00m x \u001b[39min\u001b[39;00m arrays\n\u001b[0;32m    <a href='file:///c%3A/Users/lukas/Git/Studie/42186-MBML-Project/MBML-env/lib/site-packages/pandas/core/internals/construction.py?line=498'>499</a>\u001b[0m     ]\n\u001b[0;32m    <a href='file:///c%3A/Users/lukas/Git/Studie/42186-MBML-Project/MBML-env/lib/site-packages/pandas/core/internals/construction.py?line=499'>500</a>\u001b[0m     \u001b[39m# TODO: can we get rid of the dt64tz special case above?\u001b[39;00m\n\u001b[1;32m--> <a href='file:///c%3A/Users/lukas/Git/Studie/42186-MBML-Project/MBML-env/lib/site-packages/pandas/core/internals/construction.py?line=501'>502</a>\u001b[0m \u001b[39mreturn\u001b[39;00m arrays_to_mgr(arrays, columns, index, dtype\u001b[39m=\u001b[39;49mdtype, typ\u001b[39m=\u001b[39;49mtyp, consolidate\u001b[39m=\u001b[39;49mcopy)\n",
      "File \u001b[1;32mc:\\Users\\lukas\\Git\\Studie\\42186-MBML-Project\\MBML-env\\lib\\site-packages\\pandas\\core\\internals\\construction.py:120\u001b[0m, in \u001b[0;36marrays_to_mgr\u001b[1;34m(arrays, columns, index, dtype, verify_integrity, typ, consolidate)\u001b[0m\n\u001b[0;32m    <a href='file:///c%3A/Users/lukas/Git/Studie/42186-MBML-Project/MBML-env/lib/site-packages/pandas/core/internals/construction.py?line=116'>117</a>\u001b[0m \u001b[39mif\u001b[39;00m verify_integrity:\n\u001b[0;32m    <a href='file:///c%3A/Users/lukas/Git/Studie/42186-MBML-Project/MBML-env/lib/site-packages/pandas/core/internals/construction.py?line=117'>118</a>\u001b[0m     \u001b[39m# figure out the index, if necessary\u001b[39;00m\n\u001b[0;32m    <a href='file:///c%3A/Users/lukas/Git/Studie/42186-MBML-Project/MBML-env/lib/site-packages/pandas/core/internals/construction.py?line=118'>119</a>\u001b[0m     \u001b[39mif\u001b[39;00m index \u001b[39mis\u001b[39;00m \u001b[39mNone\u001b[39;00m:\n\u001b[1;32m--> <a href='file:///c%3A/Users/lukas/Git/Studie/42186-MBML-Project/MBML-env/lib/site-packages/pandas/core/internals/construction.py?line=119'>120</a>\u001b[0m         index \u001b[39m=\u001b[39m _extract_index(arrays)\n\u001b[0;32m    <a href='file:///c%3A/Users/lukas/Git/Studie/42186-MBML-Project/MBML-env/lib/site-packages/pandas/core/internals/construction.py?line=120'>121</a>\u001b[0m     \u001b[39melse\u001b[39;00m:\n\u001b[0;32m    <a href='file:///c%3A/Users/lukas/Git/Studie/42186-MBML-Project/MBML-env/lib/site-packages/pandas/core/internals/construction.py?line=121'>122</a>\u001b[0m         index \u001b[39m=\u001b[39m ensure_index(index)\n",
      "File \u001b[1;32mc:\\Users\\lukas\\Git\\Studie\\42186-MBML-Project\\MBML-env\\lib\\site-packages\\pandas\\core\\internals\\construction.py:664\u001b[0m, in \u001b[0;36m_extract_index\u001b[1;34m(data)\u001b[0m\n\u001b[0;32m    <a href='file:///c%3A/Users/lukas/Git/Studie/42186-MBML-Project/MBML-env/lib/site-packages/pandas/core/internals/construction.py?line=660'>661</a>\u001b[0m         \u001b[39mraise\u001b[39;00m \u001b[39mValueError\u001b[39;00m(\u001b[39m\"\u001b[39m\u001b[39mPer-column arrays must each be 1-dimensional\u001b[39m\u001b[39m\"\u001b[39m)\n\u001b[0;32m    <a href='file:///c%3A/Users/lukas/Git/Studie/42186-MBML-Project/MBML-env/lib/site-packages/pandas/core/internals/construction.py?line=662'>663</a>\u001b[0m \u001b[39mif\u001b[39;00m \u001b[39mnot\u001b[39;00m indexes \u001b[39mand\u001b[39;00m \u001b[39mnot\u001b[39;00m raw_lengths:\n\u001b[1;32m--> <a href='file:///c%3A/Users/lukas/Git/Studie/42186-MBML-Project/MBML-env/lib/site-packages/pandas/core/internals/construction.py?line=663'>664</a>\u001b[0m     \u001b[39mraise\u001b[39;00m \u001b[39mValueError\u001b[39;00m(\u001b[39m\"\u001b[39m\u001b[39mIf using all scalar values, you must pass an index\u001b[39m\u001b[39m\"\u001b[39m)\n\u001b[0;32m    <a href='file:///c%3A/Users/lukas/Git/Studie/42186-MBML-Project/MBML-env/lib/site-packages/pandas/core/internals/construction.py?line=665'>666</a>\u001b[0m \u001b[39melif\u001b[39;00m have_series:\n\u001b[0;32m    <a href='file:///c%3A/Users/lukas/Git/Studie/42186-MBML-Project/MBML-env/lib/site-packages/pandas/core/internals/construction.py?line=666'>667</a>\u001b[0m     index \u001b[39m=\u001b[39m union_indexes(indexes)\n",
      "\u001b[1;31mValueError\u001b[0m: If using all scalar values, you must pass an index"
     ]
    },
    {
     "data": {
      "image/png": "[encoded data removed]",
      "text/plain": [
       "<Figure size 864x432 with 2 Axes>"
      ]
     },
     "metadata": {},
     "output_type": "display_data"
    }
   ],
   "source": [
    "idx_test_example = torch.randint(low = T1, high=T2, size=(2,))\n",
    "idx_train_example = torch.randint(low = T0, high=T1, size=(2,))\n",
    "idxs = torch.hstack((idx_train_example, idx_test_example))\n",
    "\n",
    "fig, axs = plt.subplots(1, 2, figsize=(12, 6))\n",
    "\n",
    "pallete = sns.color_palette()\n",
    "\n",
    "for i, idx in enumerate(idxs):\n",
    "    if idx < T1:\n",
    "        ax = axs[0]\n",
    "        data_origin = \"train\"\n",
    "    else:\n",
    "        ax = axs[1]\n",
    "        data_origin = \"test\"\n",
    "\n",
    "    sns.kdeplot(posterior_samples[\"prediction\"][:, idx].squeeze(), ax=ax, color=pallete[i], label=\"posterior\")\n",
    "    ax.axvline(y[idx].numpy(), color=pallete[i], label=\"true price\", linestyle=\"--\")\n",
    "    ax.legend()\n",
    "\n",
    "axs[0].set_title(f\"Posterior predictive distribution for time steps {idx_train_example.detach().numpy().tolist()} (train)\")\n",
    "axs[1].set_title(f\"Posterior predictive distribution for time steps {idx_test_example.detach().numpy().tolist()} (test)\")\n",
    "\n",
    "plt.show()"
   ]
  },
  {
   "cell_type": "markdown",
   "metadata": {},
   "source": [
    "#### Forecasting"
   ]
  },
  {
   "cell_type": "code",
   "execution_count": 16,
   "metadata": {},
   "outputs": [
    {
     "ename": "IndexError",
     "evalue": "slice() cannot be applied to a 0-dim tensor.",
     "output_type": "error",
     "traceback": [
      "\u001b[1;31m---------------------------------------------------------------------------\u001b[0m",
      "\u001b[1;31mIndexError\u001b[0m                                Traceback (most recent call last)",
      "\u001b[1;32mc:\\Users\\lukas\\Git\\Studie\\42186-MBML-Project\\dlm.ipynb Cell 19'\u001b[0m in \u001b[0;36m<module>\u001b[1;34m\u001b[0m\n\u001b[0;32m      <a href='vscode-notebook-cell:/c%3A/Users/lukas/Git/Studie/42186-MBML-Project/dlm.ipynb#ch0000012?line=7'>8</a>\u001b[0m alpha \u001b[39m=\u001b[39m \u001b[39m1\u001b[39m\n\u001b[0;32m      <a href='vscode-notebook-cell:/c%3A/Users/lukas/Git/Studie/42186-MBML-Project/dlm.ipynb#ch0000012?line=8'>9</a>\u001b[0m ax\u001b[39m.\u001b[39mplot(dates, y, label\u001b[39m=\u001b[39m\u001b[39m\"\u001b[39m\u001b[39mobserved\u001b[39m\u001b[39m\"\u001b[39m, alpha\u001b[39m=\u001b[39m alpha)\n\u001b[1;32m---> <a href='vscode-notebook-cell:/c%3A/Users/lukas/Git/Studie/42186-MBML-Project/dlm.ipynb#ch0000012?line=9'>10</a>\u001b[0m ax\u001b[39m.\u001b[39mplot(dates[:T1], pred_p50[:T1], label\u001b[39m=\u001b[39m\u001b[39m\"\u001b[39m\u001b[39mtrain prediction\u001b[39m\u001b[39m\"\u001b[39m, alpha \u001b[39m=\u001b[39m alpha)\n\u001b[0;32m     <a href='vscode-notebook-cell:/c%3A/Users/lukas/Git/Studie/42186-MBML-Project/dlm.ipynb#ch0000012?line=10'>11</a>\u001b[0m ax\u001b[39m.\u001b[39mplot(dates[T1:], pred_p50[T1:], label\u001b[39m=\u001b[39m\u001b[39m\"\u001b[39m\u001b[39mtest prediction\u001b[39m\u001b[39m\"\u001b[39m, alpha \u001b[39m=\u001b[39m alpha)\n\u001b[0;32m     <a href='vscode-notebook-cell:/c%3A/Users/lukas/Git/Studie/42186-MBML-Project/dlm.ipynb#ch0000012?line=11'>12</a>\u001b[0m ax\u001b[39m.\u001b[39mfill_between(dates, pred_p5, pred_p95, color\u001b[39m=\u001b[39m\u001b[39m\"\u001b[39m\u001b[39mred\u001b[39m\u001b[39m\"\u001b[39m, alpha\u001b[39m=\u001b[39m\u001b[39m.3\u001b[39m, label \u001b[39m=\u001b[39m \u001b[39m\"\u001b[39m\u001b[39m90\u001b[39m\u001b[39m%\u001b[39m\u001b[39m prediction interval\u001b[39m\u001b[39m\"\u001b[39m)\n",
      "\u001b[1;31mIndexError\u001b[0m: slice() cannot be applied to a 0-dim tensor."
     ]
    },
    {
     "data": {
      "image/png": "[encoded data removed]",
      "text/plain": [
       "<Figure size 720x360 with 1 Axes>"
      ]
     },
     "metadata": {},
     "output_type": "display_data"
    }
   ],
   "source": [
    "fig, ax = plt.subplots(1, 1, figsize=(10, 5))\n",
    "\n",
    "\n",
    "\n",
    "# extract percentiles of the posterior samples\n",
    "pred_p5, pred_p50, pred_p95 = quantile(posterior_samples['prediction'], (0.05, 0.5, 0.95)).squeeze(-1)\n",
    "\n",
    "alpha = 1\n",
    "ax.plot(dates, y, label=\"observed\", alpha= alpha)\n",
    "ax.plot(dates[:T1], pred_p50[:T1], label=\"train prediction\", alpha = alpha)\n",
    "ax.plot(dates[T1:], pred_p50[T1:], label=\"test prediction\", alpha = alpha)\n",
    "ax.fill_between(dates, pred_p5, pred_p95, color=\"red\", alpha=.3, label = \"90% prediction interval\")\n",
    "ax.legend()\n",
    "\n",
    "ax.axvline(dates[T1], color='b', linestyle='--')\n",
    "\n",
    "\n",
    "# plt.setp(ax.get_xticklabels(), rotation = 45)\n",
    "fig.autofmt_xdate(rotation=45)\n",
    "\n",
    "plt.show()"
   ]
  }
 ],
 "metadata": {
  "interpreter": {
   "hash": "dce29682316a73f3dbf4a78d3a346bd34e7f1893b4db7c16187fa8dc60916ec6"
  },
  "kernelspec": {
   "display_name": "Python 3.8.5 ('MBML-env': venv)",
   "language": "python",
   "name": "python3"
  },
  "language_info": {
   "codemirror_mode": {
    "name": "ipython",
    "version": 3
   },
   "file_extension": ".py",
   "mimetype": "text/x-python",
   "name": "python",
   "nbconvert_exporter": "python",
   "pygments_lexer": "ipython3",
   "version": "3.8.5"
  },
  "orig_nbformat": 4
 },
 "nbformat": 4,
 "nbformat_minor": 2
}
