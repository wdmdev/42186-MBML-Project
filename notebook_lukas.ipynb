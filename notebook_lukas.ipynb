{
 "cells": [
  {
   "cell_type": "markdown",
   "metadata": {},
   "source": [
    "# Notebook for model creation"
   ]
  },
  {
   "cell_type": "markdown",
   "metadata": {},
   "source": [
    "<b> Generative process </b>\n",
    "\n",
    ">1. For each season $m \\in \\{1,\\ldots, M\\}$\n",
    ">>    a) Draw $\\boldsymbol{\\theta}_{f,m} \\sim \\mathcal{N}(\\boldsymbol{\\theta}_f|\\mathbf{0}, \\lambda_f\\mathbf{I})$ <br>\n",
    ">>    b) Draw $\\boldsymbol{\\theta}_{g,m} \\sim \\mathcal{N}(\\boldsymbol{\\theta}_g|\\mathbf{0}, \\lambda_g\\mathbf{I})$<br>\n",
    ">>    c) Draw $\\mathbf{R}_m \\sim \\mathcal{N}(\\mathbf{R} | \\mathbf{0}, \\gamma\\mathbf{I})$<br>\n",
    ">>    d) Draw $\\sigma \\sim \\mathcal{I}\\mathcal{G}(\\sigma|\\tau)$<br>\n",
    ">>    e) Draw $\\beta_m \\sim \\mathcal{N}(\\beta_m|\\mathbf{0}, \\sigma_\\beta^2\\mathbf{I})$<br>\n",
    ">2. For each time $t \\in \\{1,\\ldots, T\\}$ <br>\n",
    ">>   a) Draw season variable $z_t \\sim \\text{Multinomial}(z_t | \\text{Softmax}(X_t^W, \\beta_1,\\ldots, \\beta_M))$<br>\n",
    ">>    b) Draw hidden state for season $z_t$ $\\mathbf{h_t^{z_t}} \\sim \\mathcal{N}(\\mathbf{h_t^{z_t}}| f\\left(\\mathbf{h_{t-1}^{z_{t-1}}}, \\mathbf{X_t}, \\boldsymbol{\\theta}_{f,z_t}\\right), \\mathbf{R}_m)$<br>\n",
    ">>    c) Draw price $y_t \\sim \\mathcal{N}(y_t|g(\\mathbf{h_t^{z_t}}, \\boldsymbol{\\theta}_{f,z_t}), \\sigma^2)$<br>\n",
    "\n",
    "\n",
    "<b> PGM </b>\n",
    "\n",
    "![](pgm.png)"
   ]
  },
  {
   "cell_type": "markdown",
   "metadata": {},
   "source": [
    "## Imports"
   ]
  },
  {
   "cell_type": "code",
   "execution_count": 1,
   "metadata": {},
   "outputs": [],
   "source": [
    "import os\n",
    "import pyro\n",
    "import pyro.distributions as dist\n",
    "import torch\n",
    "import numpy as np\n",
    "\n",
    "import pandas as pd\n",
    "import matplotlib.pyplot as plt"
   ]
  },
  {
   "cell_type": "code",
   "execution_count": 2,
   "metadata": {},
   "outputs": [
    {
     "data": {
      "text/plain": [
       "((178181, 11), (178181, 10), (178181,))"
      ]
     },
     "execution_count": 2,
     "metadata": {},
     "output_type": "execute_result"
    }
   ],
   "source": [
    "def get_data():\n",
    "    # all data\n",
    "    df = pd.read_csv(\"preprocessed_data/df.csv\") \n",
    "    X = df\n",
    "\n",
    "    # weather data\n",
    "    dfW = df[['temp', 'temp','temp_min','temp_max','pressure','humidity','wind_speed','wind_deg','rain_1h','rain_3h','snow_3h']].copy()\n",
    "\n",
    "    # Set outliers to mean\n",
    "    #dfW[\"pressure\"] = dfW[\"pressure\"].apply(lambda p: dfW[\"pressure\"].mean() if )\n",
    "    dfW.loc[(df[\"pressure\"] > 1e4) | (df[\"pressure\"] < 1e2), \"pressure\"] = df[\"pressure\"].mean()\n",
    "\n",
    "    # Normalize stuff\n",
    "    dfW['temp'] = (dfW['temp'] - 273.15) / 50\n",
    "    dfW['temp_min'] = (dfW['temp_min'] - 273.15) / 50\n",
    "    dfW['temp_max'] = (dfW['temp_max'] - 273.15) / 50\n",
    "    dfW['pressure'] = (dfW[\"pressure\"] - 1013) / 1e3\n",
    "    dfW['humidity'] = dfW[\"humidity\"] / 100\n",
    "    dfW['wind_speed'] = dfW[\"wind_speed\"] / 50\n",
    "    dfW['wind_deg'] = dfW[\"wind_deg\"] / 360\n",
    "    dfW['rain_1h'] = dfW[\"rain_1h\"] / 1e3\n",
    "    dfW['rain_3h'] = dfW[\"rain_3h\"] / 1e3\n",
    "    dfW['snow_3h'] = dfW[\"snow_3h\"] / 1e3\n",
    "\n",
    "    X_W = dfW.values\n",
    "\n",
    "    # energy data\n",
    "    dfE = df[['generation biomass', 'generation fossil',\n",
    "       'generation hydro', 'generation nuclear', 'generation other',\n",
    "       'generation other renewable', 'generation solar', 'generation total',\n",
    "       'generation waste', 'generation wind onshore']]\n",
    "\n",
    "    X_E = dfE.values\n",
    "\n",
    "    # price\n",
    "    y = df['price actual'].values\n",
    "\n",
    "\n",
    "    return X_W, X_E, y\n",
    "\n",
    "X_W, X_E, y = get_data()\n",
    "\n",
    "X_W.shape, X_E.shape, y.shape\n",
    "\n"
   ]
  },
  {
   "cell_type": "code",
   "execution_count": 3,
   "metadata": {},
   "outputs": [
    {
     "data": {
      "text/plain": [
       "(178181, 21)"
      ]
     },
     "execution_count": 3,
     "metadata": {},
     "output_type": "execute_result"
    }
   ],
   "source": [
    "np.concatenate((X_W, X_E), axis=1).shape"
   ]
  },
  {
   "cell_type": "markdown",
   "metadata": {},
   "source": [
    "## Model"
   ]
  },
  {
   "cell_type": "code",
   "execution_count": 4,
   "metadata": {},
   "outputs": [
    {
     "name": "stdout",
     "output_type": "stream",
     "text": [
      "torch.Size([10]) torch.Size([10]) tensor([0])\n"
     ]
    },
    {
     "name": "stderr",
     "output_type": "stream",
     "text": [
      "/opt/homebrew/Caskroom/miniforge/base/envs/ml/lib/python3.9/site-packages/pyro/primitives.py:491: FutureWarning: The `random_module` primitive is deprecated, and will be removed in a future release. Use `pyro.nn.Module` to create Bayesian modules from `torch.nn.Module` instances.\n",
      "  warnings.warn(\n"
     ]
    },
    {
     "ename": "ValueError",
     "evalue": "Shape mismatch inside plate('time') at site h dim -1, 1 vs 10",
     "output_type": "error",
     "traceback": [
      "\u001b[0;31m---------------------------------------------------------------------------\u001b[0m",
      "\u001b[0;31mValueError\u001b[0m                                Traceback (most recent call last)",
      "\u001b[0;32m/var/folders/vs/ylfhyw117z1g5xvn55z8jr3c0000gp/T/ipykernel_10402/2505619638.py\u001b[0m in \u001b[0;36m<module>\u001b[0;34m\u001b[0m\n\u001b[1;32m    118\u001b[0m     \u001b[0;32mreturn\u001b[0m \u001b[0my\u001b[0m\u001b[0;34m\u001b[0m\u001b[0;34m\u001b[0m\u001b[0m\n\u001b[1;32m    119\u001b[0m \u001b[0;34m\u001b[0m\u001b[0m\n\u001b[0;32m--> 120\u001b[0;31m \u001b[0mmodel\u001b[0m\u001b[0;34m(\u001b[0m\u001b[0mX_W\u001b[0m\u001b[0;34m,\u001b[0m \u001b[0mX_E\u001b[0m\u001b[0;34m)\u001b[0m\u001b[0;34m\u001b[0m\u001b[0;34m\u001b[0m\u001b[0m\n\u001b[0m",
      "\u001b[0;32m/var/folders/vs/ylfhyw117z1g5xvn55z8jr3c0000gp/T/ipykernel_10402/2505619638.py\u001b[0m in \u001b[0;36mmodel\u001b[0;34m(X_W, X_E, obs, lambda_f, lambda_g, gamma, tau, sigma_beta, M, T, h_dim)\u001b[0m\n\u001b[1;32m    108\u001b[0m       \u001b[0mf_out\u001b[0m \u001b[0;34m=\u001b[0m \u001b[0mf\u001b[0m\u001b[0;34m(\u001b[0m\u001b[0mxt\u001b[0m\u001b[0;34m)\u001b[0m\u001b[0;34m.\u001b[0m\u001b[0msqueeze\u001b[0m\u001b[0;34m(\u001b[0m\u001b[0;34m-\u001b[0m\u001b[0;36m1\u001b[0m\u001b[0;34m)\u001b[0m\u001b[0;34m\u001b[0m\u001b[0;34m\u001b[0m\u001b[0m\n\u001b[1;32m    109\u001b[0m       \u001b[0mprint\u001b[0m\u001b[0;34m(\u001b[0m\u001b[0mf_out\u001b[0m\u001b[0;34m.\u001b[0m\u001b[0mshape\u001b[0m\u001b[0;34m,\u001b[0m \u001b[0mR\u001b[0m\u001b[0;34m.\u001b[0m\u001b[0mshape\u001b[0m\u001b[0;34m,\u001b[0m \u001b[0mt\u001b[0m\u001b[0;34m)\u001b[0m\u001b[0;34m\u001b[0m\u001b[0;34m\u001b[0m\u001b[0m\n\u001b[0;32m--> 110\u001b[0;31m       \u001b[0mh\u001b[0m \u001b[0;34m=\u001b[0m \u001b[0mpyro\u001b[0m\u001b[0;34m.\u001b[0m\u001b[0msample\u001b[0m\u001b[0;34m(\u001b[0m\u001b[0;34m\"h\"\u001b[0m\u001b[0;34m,\u001b[0m \u001b[0mdist\u001b[0m\u001b[0;34m.\u001b[0m\u001b[0mNormal\u001b[0m\u001b[0;34m(\u001b[0m\u001b[0mf_out\u001b[0m\u001b[0;34m,\u001b[0m \u001b[0mR\u001b[0m\u001b[0;34m)\u001b[0m\u001b[0;34m)\u001b[0m\u001b[0;34m\u001b[0m\u001b[0;34m\u001b[0m\u001b[0m\n\u001b[0m\u001b[1;32m    111\u001b[0m \u001b[0;34m\u001b[0m\u001b[0m\n\u001b[1;32m    112\u001b[0m       \u001b[0mprint\u001b[0m\u001b[0;34m(\u001b[0m\u001b[0mh\u001b[0m\u001b[0;34m.\u001b[0m\u001b[0mshape\u001b[0m\u001b[0;34m,\u001b[0m \u001b[0mf_out\u001b[0m\u001b[0;34m.\u001b[0m\u001b[0mshape\u001b[0m\u001b[0;34m,\u001b[0m \u001b[0mxt\u001b[0m\u001b[0;34m.\u001b[0m\u001b[0mshape\u001b[0m\u001b[0;34m)\u001b[0m\u001b[0;34m\u001b[0m\u001b[0;34m\u001b[0m\u001b[0m\n",
      "\u001b[0;32m/opt/homebrew/Caskroom/miniforge/base/envs/ml/lib/python3.9/site-packages/pyro/primitives.py\u001b[0m in \u001b[0;36msample\u001b[0;34m(name, fn, *args, **kwargs)\u001b[0m\n\u001b[1;32m    161\u001b[0m         }\n\u001b[1;32m    162\u001b[0m         \u001b[0;31m# apply the stack and return its return value\u001b[0m\u001b[0;34m\u001b[0m\u001b[0;34m\u001b[0m\u001b[0m\n\u001b[0;32m--> 163\u001b[0;31m         \u001b[0mapply_stack\u001b[0m\u001b[0;34m(\u001b[0m\u001b[0mmsg\u001b[0m\u001b[0;34m)\u001b[0m\u001b[0;34m\u001b[0m\u001b[0;34m\u001b[0m\u001b[0m\n\u001b[0m\u001b[1;32m    164\u001b[0m         \u001b[0;32mreturn\u001b[0m \u001b[0mmsg\u001b[0m\u001b[0;34m[\u001b[0m\u001b[0;34m\"value\"\u001b[0m\u001b[0;34m]\u001b[0m\u001b[0;34m\u001b[0m\u001b[0;34m\u001b[0m\u001b[0m\n\u001b[1;32m    165\u001b[0m \u001b[0;34m\u001b[0m\u001b[0m\n",
      "\u001b[0;32m/opt/homebrew/Caskroom/miniforge/base/envs/ml/lib/python3.9/site-packages/pyro/poutine/runtime.py\u001b[0m in \u001b[0;36mapply_stack\u001b[0;34m(initial_msg)\u001b[0m\n\u001b[1;32m    211\u001b[0m         \u001b[0mpointer\u001b[0m \u001b[0;34m=\u001b[0m \u001b[0mpointer\u001b[0m \u001b[0;34m+\u001b[0m \u001b[0;36m1\u001b[0m\u001b[0;34m\u001b[0m\u001b[0;34m\u001b[0m\u001b[0m\n\u001b[1;32m    212\u001b[0m \u001b[0;34m\u001b[0m\u001b[0m\n\u001b[0;32m--> 213\u001b[0;31m         \u001b[0mframe\u001b[0m\u001b[0;34m.\u001b[0m\u001b[0m_process_message\u001b[0m\u001b[0;34m(\u001b[0m\u001b[0mmsg\u001b[0m\u001b[0;34m)\u001b[0m\u001b[0;34m\u001b[0m\u001b[0;34m\u001b[0m\u001b[0m\n\u001b[0m\u001b[1;32m    214\u001b[0m \u001b[0;34m\u001b[0m\u001b[0m\n\u001b[1;32m    215\u001b[0m         \u001b[0;32mif\u001b[0m \u001b[0mmsg\u001b[0m\u001b[0;34m[\u001b[0m\u001b[0;34m\"stop\"\u001b[0m\u001b[0;34m]\u001b[0m\u001b[0;34m:\u001b[0m\u001b[0;34m\u001b[0m\u001b[0;34m\u001b[0m\u001b[0m\n",
      "\u001b[0;32m/opt/homebrew/Caskroom/miniforge/base/envs/ml/lib/python3.9/site-packages/pyro/poutine/plate_messenger.py\u001b[0m in \u001b[0;36m_process_message\u001b[0;34m(self, msg)\u001b[0m\n\u001b[1;32m     17\u001b[0m     \u001b[0;32mdef\u001b[0m \u001b[0m_process_message\u001b[0m\u001b[0;34m(\u001b[0m\u001b[0mself\u001b[0m\u001b[0;34m,\u001b[0m \u001b[0mmsg\u001b[0m\u001b[0;34m)\u001b[0m\u001b[0;34m:\u001b[0m\u001b[0;34m\u001b[0m\u001b[0;34m\u001b[0m\u001b[0m\n\u001b[1;32m     18\u001b[0m         \u001b[0msuper\u001b[0m\u001b[0;34m(\u001b[0m\u001b[0;34m)\u001b[0m\u001b[0;34m.\u001b[0m\u001b[0m_process_message\u001b[0m\u001b[0;34m(\u001b[0m\u001b[0mmsg\u001b[0m\u001b[0;34m)\u001b[0m\u001b[0;34m\u001b[0m\u001b[0;34m\u001b[0m\u001b[0m\n\u001b[0;32m---> 19\u001b[0;31m         \u001b[0;32mreturn\u001b[0m \u001b[0mBroadcastMessenger\u001b[0m\u001b[0;34m.\u001b[0m\u001b[0m_pyro_sample\u001b[0m\u001b[0;34m(\u001b[0m\u001b[0mmsg\u001b[0m\u001b[0;34m)\u001b[0m\u001b[0;34m\u001b[0m\u001b[0;34m\u001b[0m\u001b[0m\n\u001b[0m\u001b[1;32m     20\u001b[0m \u001b[0;34m\u001b[0m\u001b[0m\n\u001b[1;32m     21\u001b[0m     \u001b[0;32mdef\u001b[0m \u001b[0m__enter__\u001b[0m\u001b[0;34m(\u001b[0m\u001b[0mself\u001b[0m\u001b[0;34m)\u001b[0m\u001b[0;34m:\u001b[0m\u001b[0;34m\u001b[0m\u001b[0;34m\u001b[0m\u001b[0m\n",
      "\u001b[0;32m/opt/homebrew/Caskroom/miniforge/base/envs/ml/lib/python3.9/contextlib.py\u001b[0m in \u001b[0;36minner\u001b[0;34m(*args, **kwds)\u001b[0m\n\u001b[1;32m     77\u001b[0m         \u001b[0;32mdef\u001b[0m \u001b[0minner\u001b[0m\u001b[0;34m(\u001b[0m\u001b[0;34m*\u001b[0m\u001b[0margs\u001b[0m\u001b[0;34m,\u001b[0m \u001b[0;34m**\u001b[0m\u001b[0mkwds\u001b[0m\u001b[0;34m)\u001b[0m\u001b[0;34m:\u001b[0m\u001b[0;34m\u001b[0m\u001b[0;34m\u001b[0m\u001b[0m\n\u001b[1;32m     78\u001b[0m             \u001b[0;32mwith\u001b[0m \u001b[0mself\u001b[0m\u001b[0;34m.\u001b[0m\u001b[0m_recreate_cm\u001b[0m\u001b[0;34m(\u001b[0m\u001b[0;34m)\u001b[0m\u001b[0;34m:\u001b[0m\u001b[0;34m\u001b[0m\u001b[0;34m\u001b[0m\u001b[0m\n\u001b[0;32m---> 79\u001b[0;31m                 \u001b[0;32mreturn\u001b[0m \u001b[0mfunc\u001b[0m\u001b[0;34m(\u001b[0m\u001b[0;34m*\u001b[0m\u001b[0margs\u001b[0m\u001b[0;34m,\u001b[0m \u001b[0;34m**\u001b[0m\u001b[0mkwds\u001b[0m\u001b[0;34m)\u001b[0m\u001b[0;34m\u001b[0m\u001b[0;34m\u001b[0m\u001b[0m\n\u001b[0m\u001b[1;32m     80\u001b[0m         \u001b[0;32mreturn\u001b[0m \u001b[0minner\u001b[0m\u001b[0;34m\u001b[0m\u001b[0;34m\u001b[0m\u001b[0m\n\u001b[1;32m     81\u001b[0m \u001b[0;34m\u001b[0m\u001b[0m\n",
      "\u001b[0;32m/opt/homebrew/Caskroom/miniforge/base/envs/ml/lib/python3.9/site-packages/pyro/poutine/broadcast_messenger.py\u001b[0m in \u001b[0;36m_pyro_sample\u001b[0;34m(msg)\u001b[0m\n\u001b[1;32m     63\u001b[0m                     \u001b[0;32mand\u001b[0m \u001b[0mtarget_batch_shape\u001b[0m\u001b[0;34m[\u001b[0m\u001b[0mf\u001b[0m\u001b[0;34m.\u001b[0m\u001b[0mdim\u001b[0m\u001b[0;34m]\u001b[0m \u001b[0;34m!=\u001b[0m \u001b[0mf\u001b[0m\u001b[0;34m.\u001b[0m\u001b[0msize\u001b[0m\u001b[0;34m\u001b[0m\u001b[0;34m\u001b[0m\u001b[0m\n\u001b[1;32m     64\u001b[0m                 ):\n\u001b[0;32m---> 65\u001b[0;31m                     raise ValueError(\n\u001b[0m\u001b[1;32m     66\u001b[0m                         \"Shape mismatch inside plate('{}') at site {} dim {}, {} vs {}\".format(\n\u001b[1;32m     67\u001b[0m                             \u001b[0mf\u001b[0m\u001b[0;34m.\u001b[0m\u001b[0mname\u001b[0m\u001b[0;34m,\u001b[0m\u001b[0;34m\u001b[0m\u001b[0;34m\u001b[0m\u001b[0m\n",
      "\u001b[0;31mValueError\u001b[0m: Shape mismatch inside plate('time') at site h dim -1, 1 vs 10"
     ]
    }
   ],
   "source": [
    "class F(torch.nn.Module):\n",
    "    def __init__(self, n_in, n_hidden, n_out):\n",
    "        super(F, self).__init__()\n",
    "        \n",
    "        # Architecture\n",
    "        self.in_layer = torch.nn.Linear(n_in, n_hidden)\n",
    "        self.h_layer = torch.nn.Linear(n_hidden, n_hidden)\n",
    "        self.out_layer = torch.nn.Linear(n_hidden, n_out)\n",
    "        \n",
    "        # Activation functions\n",
    "        self.tanh = torch.nn.Tanh()\n",
    "        \n",
    "    def forward(self, X):\n",
    "        # Forward pass\n",
    "        X = self.tanh(self.in_layer(X))\n",
    "        X = self.tanh(self.h_layer(X))\n",
    "        X = self.out_layer(X)\n",
    "        \n",
    "        return X\n",
    "\n",
    "# F = torch.nn.LSTM()\n",
    "\n",
    "class G(torch.nn.Module):\n",
    "    def __init__(self, n_in, n_hidden, n_out):\n",
    "        super(G, self).__init__()\n",
    "        \n",
    "        # Architecture\n",
    "        self.in_layer = torch.nn.Linear(n_in, n_hidden)\n",
    "        self.h_layer = torch.nn.Linear(n_hidden, n_hidden)\n",
    "        self.out_layer = torch.nn.Linear(n_hidden, n_out)\n",
    "        \n",
    "        # Activation functions\n",
    "        self.tanh = torch.nn.Tanh()\n",
    "        \n",
    "    def forward(self, X):\n",
    "        # Forward pass\n",
    "        X = self.tanh(self.in_layer(X))\n",
    "        X = self.tanh(self.h_layer(X))\n",
    "        X = self.out_layer(X)\n",
    "        \n",
    "        return X\n",
    "\n",
    "def init_nnet(n_f_features, n_g_features, h_dim=10, lambda_f = 1, lambda_g = 1):\n",
    "  # Initialize the neural network from PyTorch \n",
    "  f_torch = F(n_in=n_f_features, n_hidden=4, n_out=h_dim)\n",
    "  # f_torch = torch.nn.LSTM(input_size = n_f_features, hidden_size = h_dim, num_layers = 4)\n",
    "  g_torch = G(n_in=n_g_features, n_hidden=4, n_out=1) \n",
    "  \n",
    "  # Convert the PyTorch neural net into a Pyro model with priors\n",
    "  f_priors = {} # Priors for the neural model\n",
    "  for name, par in f_torch.named_parameters():     # Loop over all neural network parameters\n",
    "      f_priors[name] = dist.Normal(torch.zeros(*par.shape), lambda_f*torch.ones(*par.shape)).to_event()#.independent(1) # Each parameter has a N(0, 1) prior\n",
    "\n",
    "  g_priors = {} # Priors for the neural model\n",
    "  for name, par in g_torch.named_parameters():     # Loop over all neural network parameters\n",
    "      g_priors[name] = dist.Normal(torch.zeros(*par.shape), lambda_g*torch.ones(*par.shape)).to_event()#.independent(1) # Each parameter has a N(0, 1) prior\n",
    "  \n",
    "  # Make this model and these priors a Pyro model\n",
    "  f_bayesian = pyro.random_module('f_bayesian_model', f_torch, f_priors)\n",
    "  g_bayesian = pyro.random_module('g_bayesian_model', g_torch, g_priors)\n",
    "\n",
    "  # Initialize the models \n",
    "  f = f_bayesian()     \n",
    "  g = g_bayesian() \n",
    "\n",
    "  return f, g\n",
    "\n",
    "def model(X_W, X_E, obs=None,\n",
    "  lambda_f = 1, # variance of theta_f\n",
    "  lambda_g = 1, # variance of theta_g\n",
    "  gamma = 1, # variance of R\n",
    "  tau = 1, \n",
    "  sigma_beta = 1, # variance of beta\n",
    "  M = 1, # number of seasons\n",
    "  T = 1, # number of time steps\n",
    "  h_dim = 10, # number of hidden states\n",
    "  ):\n",
    "    \n",
    "    # with pyro.plate(\"season\", M):\n",
    "    # concatenate weather and energy features\n",
    "    X = np.concatenate((X_W, X_E), axis=1)\n",
    "\n",
    "    # get number of features\n",
    "    n_weather_features = X_W.shape[1]\n",
    "    n_features = X.shape[1]\n",
    "\n",
    "    \n",
    "\n",
    "    # initialize the parameters\n",
    "    f, g = init_nnet(n_features, n_weather_features, h_dim=h_dim, lambda_f = lambda_f, lambda_g = lambda_g) # neural networks f and g\n",
    "    R = pyro.sample(\"R\", dist.HalfCauchy(gamma*torch.ones(h_dim))) # covariance matrix\n",
    "    # R = torch.diag(R)\n",
    "    sigma = pyro.sample(\"sigma\", dist.HalfCauchy(tau))\n",
    "\n",
    "    # with pyro.plate(\"features\", n_weather_features):\n",
    "    # beta = pyro.sample(\"beta\", dist.Normal(torch.zeros(n_weather_features), sigma_beta*torch.ones(n_weather_features)))\n",
    "\n",
    "    # h_prev = pyro.sample(\"h0\", dist.Normal(torch.zeros(h_dim), torch.ones(h_dim)))\n",
    "    # h_prev, c_prev = torch.zeros\n",
    "    with pyro.plate(\"time\", T) as t:\n",
    "      # Draw season variable zt ∼ Multinomial(zt |Softmax(XtW , β1 , . . . , βM ))\n",
    "      # z = pyro.sample(\"z\", dist.Categorical(logits=X_W_t @ beta))\n",
    "      # if t == 0:\n",
    "      #   f_out, (h_prev, c_prev) = f(torch.tensor(X[t]).float().unsqueeze(0))\n",
    "      # else:\n",
    "      #   f_out, (h_prev, c_prev) = f(torch.from_numpy(X[t]), (h_prev, c_prev))\n",
    "      xt = torch.tensor(X[t]).float()#.unsqueeze(0)\n",
    "      f_out = f(xt).squeeze(-1)\n",
    "      print(f_out.shape, R.shape, t)\n",
    "      h = pyro.sample(\"h\", dist.Normal(f_out, R))\n",
    "\n",
    "      print(h.shape, f_out.shape, xt.shape)\n",
    "\n",
    "      g_out = g(h).squeeze(-1)\n",
    "      y = pyro.sample(\"obs\", dist.Normal(g_out, sigma), obs=y)\n",
    "      print(y)\n",
    "\n",
    "    return y\n",
    "\n",
    "model(X_W, X_E)\n"
   ]
  },
  {
   "cell_type": "code",
   "execution_count": null,
   "metadata": {},
   "outputs": [],
   "source": []
  }
 ],
 "metadata": {
  "interpreter": {
   "hash": "08eac26dc1f80337b7d87e94e7159a5bad95c2e85f47efef91c61359b3afbfe9"
  },
  "kernelspec": {
   "display_name": "Python 3.9.7 ('ml')",
   "language": "python",
   "name": "python3"
  },
  "language_info": {
   "codemirror_mode": {
    "name": "ipython",
    "version": 3
   },
   "file_extension": ".py",
   "mimetype": "text/x-python",
   "name": "python",
   "nbconvert_exporter": "python",
   "pygments_lexer": "ipython3",
   "version": "3.9.7"
  },
  "orig_nbformat": 4
 },
 "nbformat": 4,
 "nbformat_minor": 2
}
