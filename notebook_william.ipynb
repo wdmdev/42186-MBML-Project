{
  "cells": [
    {
      "cell_type": "markdown",
      "metadata": {
        "id": "4EAcmHiJcHOJ"
      },
      "source": [
        "# Predicting Energy Prices in Spain\n",
        "In this project we will create a linear dynamical system (LDS) in Pyro in order to analyze and forecast energy prices in Spain."
      ]
    },
    {
      "cell_type": "code",
      "execution_count": 9,
      "metadata": {
        "colab": {
          "base_uri": "https://localhost:8080/"
        },
        "id": "HWZn8wITcgDo",
        "outputId": "60c49a61-82b4-4cf0-ea94-d549dc112f6f"
      },
      "outputs": [
        {
          "output_type": "stream",
          "name": "stdout",
          "text": [
            "Looking in indexes: https://pypi.org/simple, https://us-python.pkg.dev/colab-wheels/public/simple/\n",
            "Requirement already satisfied: numpyro in /usr/local/lib/python3.7/dist-packages (0.9.2)\n",
            "Requirement already satisfied: multipledispatch in /usr/local/lib/python3.7/dist-packages (from numpyro) (0.6.0)\n",
            "Requirement already satisfied: tqdm in /usr/local/lib/python3.7/dist-packages (from numpyro) (4.64.0)\n",
            "Requirement already satisfied: jax>=0.2.13 in /usr/local/lib/python3.7/dist-packages (from numpyro) (0.3.8)\n",
            "Requirement already satisfied: jaxlib>=0.1.65 in /usr/local/lib/python3.7/dist-packages (from numpyro) (0.3.7+cuda11.cudnn805)\n",
            "Requirement already satisfied: numpy in /usr/local/lib/python3.7/dist-packages (from numpyro) (1.21.6)\n",
            "Requirement already satisfied: absl-py in /usr/local/lib/python3.7/dist-packages (from jax>=0.2.13->numpyro) (1.0.0)\n",
            "Requirement already satisfied: typing-extensions in /usr/local/lib/python3.7/dist-packages (from jax>=0.2.13->numpyro) (4.2.0)\n",
            "Requirement already satisfied: scipy>=1.2.1 in /usr/local/lib/python3.7/dist-packages (from jax>=0.2.13->numpyro) (1.4.1)\n",
            "Requirement already satisfied: opt-einsum in /usr/local/lib/python3.7/dist-packages (from jax>=0.2.13->numpyro) (3.3.0)\n",
            "Requirement already satisfied: flatbuffers<3.0,>=1.12 in /usr/local/lib/python3.7/dist-packages (from jaxlib>=0.1.65->numpyro) (2.0)\n",
            "Requirement already satisfied: six in /usr/local/lib/python3.7/dist-packages (from absl-py->jax>=0.2.13->numpyro) (1.15.0)\n"
          ]
        }
      ],
      "source": [
        "!pip install numpyro"
      ]
    },
    {
      "cell_type": "code",
      "execution_count": 29,
      "metadata": {
        "id": "KcM1lleNcHOM"
      },
      "outputs": [],
      "source": [
        "import torch\n",
        "import numpy as np\n",
        "import pandas as pd\n",
        "from matplotlib import pyplot as plt\n",
        "from matplotlib.lines import Line2D\n",
        "import seaborn as sns\n",
        "\n",
        "import numpyro\n",
        "import numpyro.distributions as dist\n",
        "from numpyro import handlers\n",
        "from numpyro.infer import MCMC, NUTS\n",
        "\n",
        "import jax\n",
        "import jax.numpy as jnp\n",
        "from jax import random, vmap\n",
        "from jax.scipy.special import logsumexp\n",
        "from jax import lax\n",
        "\n",
        "import time\n",
        "\n",
        "# fix MCMCndom generator seed (for reproducibility of results)\n",
        "np.random.seed(42)\n",
        "\n",
        "# matplotlib style options\n",
        "plt.style.use('ggplot')\n",
        "%matplotlib inline\n",
        "plt.rcParams['figure.figsize'] = (16, 10)"
      ]
    },
    {
      "cell_type": "markdown",
      "metadata": {
        "id": "e0re3cZ-cHOV"
      },
      "source": [
        "The data consists of time-series of consumption of different energy sources in different Spanish cities that a geographically well distributed across Spain. The data has $T = 178181$ time points."
      ]
    },
    {
      "cell_type": "code",
      "execution_count": 22,
      "metadata": {
        "id": "CbB47HEHjlAy"
      },
      "outputs": [],
      "source": [
        "def get_data():\n",
        "    # all data\n",
        "    df = pd.read_csv(\"preprocessedData/df.csv\") \n",
        "    X = df\n",
        "\n",
        "    # weather data\n",
        "    dfW = df[['temp', 'temp','temp_min','temp_max','pressure','humidity','wind_speed','wind_deg','rain_1h','rain_3h','snow_3h']].copy()\n",
        "\n",
        "    # Set outliers to mean\n",
        "    #dfW[\"pressure\"] = dfW[\"pressure\"].apply(lambda p: dfW[\"pressure\"].mean() if )\n",
        "    dfW.loc[(df[\"pressure\"] > 1e4) | (df[\"pressure\"] < 1e2), \"pressure\"] = df[\"pressure\"].mean()\n",
        "\n",
        "    # Normalize stuff\n",
        "    dfW['temp'] = (dfW['temp'] - 273.15) / 50\n",
        "    dfW['temp_min'] = (dfW['temp_min'] - 273.15) / 50\n",
        "    dfW['temp_max'] = (dfW['temp_max'] - 273.15) / 50\n",
        "    dfW['pressure'] = (dfW[\"pressure\"] - 1013) / 1e3\n",
        "    dfW['humidity'] = dfW[\"humidity\"] / 100\n",
        "    dfW['wind_speed'] = dfW[\"wind_speed\"] / 50\n",
        "    dfW['wind_deg'] = dfW[\"wind_deg\"] / 360\n",
        "    dfW['rain_1h'] = dfW[\"rain_1h\"] / 1e3\n",
        "    dfW['rain_3h'] = dfW[\"rain_3h\"] / 1e3\n",
        "    dfW['snow_3h'] = dfW[\"snow_3h\"] / 1e3\n",
        "\n",
        "    X_W = dfW\n",
        "\n",
        "    # energy data\n",
        "    dfE = df[['generation biomass', 'generation fossil',\n",
        "       'generation hydro', 'generation nuclear', 'generation other',\n",
        "       'generation other renewable', 'generation solar', 'generation total',\n",
        "       'generation waste', 'generation wind onshore']]\n",
        "\n",
        "    X_E = dfE\n",
        "\n",
        "    # price\n",
        "    y = df['price actual']\n",
        "\n",
        "\n",
        "    return X_W, X_E, y\n",
        "\n",
        "X_W, X_E, Y = get_data()"
      ]
    },
    {
      "cell_type": "markdown",
      "metadata": {
        "id": "XUAMb4skcHOb"
      },
      "source": [
        "Some basic data statistics:"
      ]
    },
    {
      "cell_type": "code",
      "execution_count": 23,
      "metadata": {
        "colab": {
          "base_uri": "https://localhost:8080/",
          "height": 335
        },
        "id": "OcIYL4wFcHOc",
        "outputId": "5071247b-da03-4153-878e-4f939496fb0a"
      },
      "outputs": [
        {
          "output_type": "stream",
          "name": "stdout",
          "text": [
            "Weather Dataset size: 50371\n",
            "General statistics:\n"
          ]
        },
        {
          "output_type": "execute_result",
          "data": {
            "text/plain": [
              "               temp          temp      temp_min      temp_max      pressure  \\\n",
              "count  50370.000000  50370.000000  50370.000000  50370.000000  50370.000000   \n",
              "mean       0.316032      0.316032      0.289160      0.345082      0.002702   \n",
              "std        0.162982      0.162982      0.154003      0.186719      0.017742   \n",
              "min       -0.218200     -0.218200     -0.218200     -0.218200     -0.419000   \n",
              "25%        0.200400      0.200400      0.181260      0.211200      0.000000   \n",
              "50%        0.299112      0.299112      0.280000      0.320000      0.005000   \n",
              "75%        0.423060      0.423060      0.388800      0.461833      0.011000   \n",
              "max        0.823600      0.823600      0.800000      0.960000      0.190430   \n",
              "\n",
              "           humidity    wind_speed      wind_deg       rain_1h       rain_3h  \\\n",
              "count  50370.000000  50370.000000  50370.000000  50370.000000  5.037000e+04   \n",
              "mean       0.686748      0.052044      0.488712      0.000109  9.642644e-07   \n",
              "std        0.213919      0.045422      0.312368      0.000576  7.918104e-06   \n",
              "min        0.000000      0.000000      0.000000      0.000000  0.000000e+00   \n",
              "25%        0.540000      0.020000      0.194444      0.000000  0.000000e+00   \n",
              "50%        0.720000      0.040000      0.527778      0.000000  0.000000e+00   \n",
              "75%        0.870000      0.080000      0.750000      0.000000  0.000000e+00   \n",
              "max        1.000000      1.280000      1.000000      0.012000  1.000000e-04   \n",
              "\n",
              "            snow_3h  \n",
              "count  50370.000000  \n",
              "mean       0.000017  \n",
              "std        0.000419  \n",
              "min        0.000000  \n",
              "25%        0.000000  \n",
              "50%        0.000000  \n",
              "75%        0.000000  \n",
              "max        0.021500  "
            ],
            "text/html": [
              "\n",
              "  <div id=\"df-62673383-9fba-4bb0-8bc7-66aeb2ccccb4\">\n",
              "    <div class=\"colab-df-container\">\n",
              "      <div>\n",
              "<style scoped>\n",
              "    .dataframe tbody tr th:only-of-type {\n",
              "        vertical-align: middle;\n",
              "    }\n",
              "\n",
              "    .dataframe tbody tr th {\n",
              "        vertical-align: top;\n",
              "    }\n",
              "\n",
              "    .dataframe thead th {\n",
              "        text-align: right;\n",
              "    }\n",
              "</style>\n",
              "<table border=\"1\" class=\"dataframe\">\n",
              "  <thead>\n",
              "    <tr style=\"text-align: right;\">\n",
              "      <th></th>\n",
              "      <th>temp</th>\n",
              "      <th>temp</th>\n",
              "      <th>temp_min</th>\n",
              "      <th>temp_max</th>\n",
              "      <th>pressure</th>\n",
              "      <th>humidity</th>\n",
              "      <th>wind_speed</th>\n",
              "      <th>wind_deg</th>\n",
              "      <th>rain_1h</th>\n",
              "      <th>rain_3h</th>\n",
              "      <th>snow_3h</th>\n",
              "    </tr>\n",
              "  </thead>\n",
              "  <tbody>\n",
              "    <tr>\n",
              "      <th>count</th>\n",
              "      <td>50370.000000</td>\n",
              "      <td>50370.000000</td>\n",
              "      <td>50370.000000</td>\n",
              "      <td>50370.000000</td>\n",
              "      <td>50370.000000</td>\n",
              "      <td>50370.000000</td>\n",
              "      <td>50370.000000</td>\n",
              "      <td>50370.000000</td>\n",
              "      <td>50370.000000</td>\n",
              "      <td>5.037000e+04</td>\n",
              "      <td>50370.000000</td>\n",
              "    </tr>\n",
              "    <tr>\n",
              "      <th>mean</th>\n",
              "      <td>0.316032</td>\n",
              "      <td>0.316032</td>\n",
              "      <td>0.289160</td>\n",
              "      <td>0.345082</td>\n",
              "      <td>0.002702</td>\n",
              "      <td>0.686748</td>\n",
              "      <td>0.052044</td>\n",
              "      <td>0.488712</td>\n",
              "      <td>0.000109</td>\n",
              "      <td>9.642644e-07</td>\n",
              "      <td>0.000017</td>\n",
              "    </tr>\n",
              "    <tr>\n",
              "      <th>std</th>\n",
              "      <td>0.162982</td>\n",
              "      <td>0.162982</td>\n",
              "      <td>0.154003</td>\n",
              "      <td>0.186719</td>\n",
              "      <td>0.017742</td>\n",
              "      <td>0.213919</td>\n",
              "      <td>0.045422</td>\n",
              "      <td>0.312368</td>\n",
              "      <td>0.000576</td>\n",
              "      <td>7.918104e-06</td>\n",
              "      <td>0.000419</td>\n",
              "    </tr>\n",
              "    <tr>\n",
              "      <th>min</th>\n",
              "      <td>-0.218200</td>\n",
              "      <td>-0.218200</td>\n",
              "      <td>-0.218200</td>\n",
              "      <td>-0.218200</td>\n",
              "      <td>-0.419000</td>\n",
              "      <td>0.000000</td>\n",
              "      <td>0.000000</td>\n",
              "      <td>0.000000</td>\n",
              "      <td>0.000000</td>\n",
              "      <td>0.000000e+00</td>\n",
              "      <td>0.000000</td>\n",
              "    </tr>\n",
              "    <tr>\n",
              "      <th>25%</th>\n",
              "      <td>0.200400</td>\n",
              "      <td>0.200400</td>\n",
              "      <td>0.181260</td>\n",
              "      <td>0.211200</td>\n",
              "      <td>0.000000</td>\n",
              "      <td>0.540000</td>\n",
              "      <td>0.020000</td>\n",
              "      <td>0.194444</td>\n",
              "      <td>0.000000</td>\n",
              "      <td>0.000000e+00</td>\n",
              "      <td>0.000000</td>\n",
              "    </tr>\n",
              "    <tr>\n",
              "      <th>50%</th>\n",
              "      <td>0.299112</td>\n",
              "      <td>0.299112</td>\n",
              "      <td>0.280000</td>\n",
              "      <td>0.320000</td>\n",
              "      <td>0.005000</td>\n",
              "      <td>0.720000</td>\n",
              "      <td>0.040000</td>\n",
              "      <td>0.527778</td>\n",
              "      <td>0.000000</td>\n",
              "      <td>0.000000e+00</td>\n",
              "      <td>0.000000</td>\n",
              "    </tr>\n",
              "    <tr>\n",
              "      <th>75%</th>\n",
              "      <td>0.423060</td>\n",
              "      <td>0.423060</td>\n",
              "      <td>0.388800</td>\n",
              "      <td>0.461833</td>\n",
              "      <td>0.011000</td>\n",
              "      <td>0.870000</td>\n",
              "      <td>0.080000</td>\n",
              "      <td>0.750000</td>\n",
              "      <td>0.000000</td>\n",
              "      <td>0.000000e+00</td>\n",
              "      <td>0.000000</td>\n",
              "    </tr>\n",
              "    <tr>\n",
              "      <th>max</th>\n",
              "      <td>0.823600</td>\n",
              "      <td>0.823600</td>\n",
              "      <td>0.800000</td>\n",
              "      <td>0.960000</td>\n",
              "      <td>0.190430</td>\n",
              "      <td>1.000000</td>\n",
              "      <td>1.280000</td>\n",
              "      <td>1.000000</td>\n",
              "      <td>0.012000</td>\n",
              "      <td>1.000000e-04</td>\n",
              "      <td>0.021500</td>\n",
              "    </tr>\n",
              "  </tbody>\n",
              "</table>\n",
              "</div>\n",
              "      <button class=\"colab-df-convert\" onclick=\"convertToInteractive('df-62673383-9fba-4bb0-8bc7-66aeb2ccccb4')\"\n",
              "              title=\"Convert this dataframe to an interactive table.\"\n",
              "              style=\"display:none;\">\n",
              "        \n",
              "  <svg xmlns=\"http://www.w3.org/2000/svg\" height=\"24px\"viewBox=\"0 0 24 24\"\n",
              "       width=\"24px\">\n",
              "    <path d=\"M0 0h24v24H0V0z\" fill=\"none\"/>\n",
              "    <path d=\"M18.56 5.44l.94 2.06.94-2.06 2.06-.94-2.06-.94-.94-2.06-.94 2.06-2.06.94zm-11 1L8.5 8.5l.94-2.06 2.06-.94-2.06-.94L8.5 2.5l-.94 2.06-2.06.94zm10 10l.94 2.06.94-2.06 2.06-.94-2.06-.94-.94-2.06-.94 2.06-2.06.94z\"/><path d=\"M17.41 7.96l-1.37-1.37c-.4-.4-.92-.59-1.43-.59-.52 0-1.04.2-1.43.59L10.3 9.45l-7.72 7.72c-.78.78-.78 2.05 0 2.83L4 21.41c.39.39.9.59 1.41.59.51 0 1.02-.2 1.41-.59l7.78-7.78 2.81-2.81c.8-.78.8-2.07 0-2.86zM5.41 20L4 18.59l7.72-7.72 1.47 1.35L5.41 20z\"/>\n",
              "  </svg>\n",
              "      </button>\n",
              "      \n",
              "  <style>\n",
              "    .colab-df-container {\n",
              "      display:flex;\n",
              "      flex-wrap:wrap;\n",
              "      gap: 12px;\n",
              "    }\n",
              "\n",
              "    .colab-df-convert {\n",
              "      background-color: #E8F0FE;\n",
              "      border: none;\n",
              "      border-radius: 50%;\n",
              "      cursor: pointer;\n",
              "      display: none;\n",
              "      fill: #1967D2;\n",
              "      height: 32px;\n",
              "      padding: 0 0 0 0;\n",
              "      width: 32px;\n",
              "    }\n",
              "\n",
              "    .colab-df-convert:hover {\n",
              "      background-color: #E2EBFA;\n",
              "      box-shadow: 0px 1px 2px rgba(60, 64, 67, 0.3), 0px 1px 3px 1px rgba(60, 64, 67, 0.15);\n",
              "      fill: #174EA6;\n",
              "    }\n",
              "\n",
              "    [theme=dark] .colab-df-convert {\n",
              "      background-color: #3B4455;\n",
              "      fill: #D2E3FC;\n",
              "    }\n",
              "\n",
              "    [theme=dark] .colab-df-convert:hover {\n",
              "      background-color: #434B5C;\n",
              "      box-shadow: 0px 1px 3px 1px rgba(0, 0, 0, 0.15);\n",
              "      filter: drop-shadow(0px 1px 2px rgba(0, 0, 0, 0.3));\n",
              "      fill: #FFFFFF;\n",
              "    }\n",
              "  </style>\n",
              "\n",
              "      <script>\n",
              "        const buttonEl =\n",
              "          document.querySelector('#df-62673383-9fba-4bb0-8bc7-66aeb2ccccb4 button.colab-df-convert');\n",
              "        buttonEl.style.display =\n",
              "          google.colab.kernel.accessAllowed ? 'block' : 'none';\n",
              "\n",
              "        async function convertToInteractive(key) {\n",
              "          const element = document.querySelector('#df-62673383-9fba-4bb0-8bc7-66aeb2ccccb4');\n",
              "          const dataTable =\n",
              "            await google.colab.kernel.invokeFunction('convertToInteractive',\n",
              "                                                     [key], {});\n",
              "          if (!dataTable) return;\n",
              "\n",
              "          const docLinkHtml = 'Like what you see? Visit the ' +\n",
              "            '<a target=\"_blank\" href=https://colab.research.google.com/notebooks/data_table.ipynb>data table notebook</a>'\n",
              "            + ' to learn more about interactive tables.';\n",
              "          element.innerHTML = '';\n",
              "          dataTable['output_type'] = 'display_data';\n",
              "          await google.colab.output.renderOutput(dataTable, element);\n",
              "          const docLink = document.createElement('div');\n",
              "          docLink.innerHTML = docLinkHtml;\n",
              "          element.appendChild(docLink);\n",
              "        }\n",
              "      </script>\n",
              "    </div>\n",
              "  </div>\n",
              "  "
            ]
          },
          "metadata": {},
          "execution_count": 23
        }
      ],
      "source": [
        "print(\"Weather Dataset size:\", len(X_W))\n",
        "print(\"General statistics:\")\n",
        "X_W.describe()"
      ]
    },
    {
      "cell_type": "code",
      "source": [
        "print(\"Energy Dataset size:\", len(X_E))\n",
        "print(\"General statistics:\")\n",
        "X_E.describe()"
      ],
      "metadata": {
        "id": "Esjno6oxsEgq",
        "outputId": "5315a72d-e451-4a37-9570-ebc6e81a6745",
        "colab": {
          "base_uri": "https://localhost:8080/",
          "height": 396
        }
      },
      "execution_count": 24,
      "outputs": [
        {
          "output_type": "stream",
          "name": "stdout",
          "text": [
            "Energy Dataset size: 50371\n",
            "General statistics:\n"
          ]
        },
        {
          "output_type": "execute_result",
          "data": {
            "text/plain": [
              "       generation biomass  generation fossil  generation hydro  \\\n",
              "count        50371.000000       50371.000000      50371.000000   \n",
              "mean           485.348315       11052.285065       4220.782017   \n",
              "std             63.333294        3594.210125       1948.798021   \n",
              "min            101.000000        3146.000000        764.000000   \n",
              "25%            453.000000        8301.000000       2652.000000   \n",
              "50%            498.000000       11169.000000       3870.000000   \n",
              "75%            533.000000       13529.000000       5507.000000   \n",
              "max            592.000000       21667.000000      11015.000000   \n",
              "\n",
              "       generation nuclear  generation other  generation other renewable  \\\n",
              "count        50371.000000      50371.000000                50371.000000   \n",
              "mean          6231.451649         77.598499                   70.247940   \n",
              "std            846.478077         17.135360                    6.984956   \n",
              "min           3712.000000          5.000000                   14.000000   \n",
              "25%           5892.000000         80.000000                   66.000000   \n",
              "50%           6446.000000         84.000000                   70.000000   \n",
              "75%           7033.000000         87.000000                   74.000000   \n",
              "max           7115.000000        106.000000                   97.000000   \n",
              "\n",
              "       generation solar  generation total  generation waste  \\\n",
              "count      50371.000000      50371.000000      50371.000000   \n",
              "mean        1416.806992      29223.531735        224.455858   \n",
              "std         1663.951447       4004.911213         45.602431   \n",
              "min            9.000000      17329.000000         39.000000   \n",
              "25%           72.000000      26179.000000        194.000000   \n",
              "50%          617.000000      29037.000000        234.000000   \n",
              "75%         2483.000000      31799.000000        261.000000   \n",
              "max         5792.000000      40766.000000        337.000000   \n",
              "\n",
              "       generation wind onshore  \n",
              "count             50371.000000  \n",
              "mean               5444.555399  \n",
              "std                3263.151880  \n",
              "min                 234.000000  \n",
              "25%                2822.000000  \n",
              "50%                4811.000000  \n",
              "75%                7452.000000  \n",
              "max               17436.000000  "
            ],
            "text/html": [
              "\n",
              "  <div id=\"df-7837d2c5-4220-4838-9527-558e77dfe93b\">\n",
              "    <div class=\"colab-df-container\">\n",
              "      <div>\n",
              "<style scoped>\n",
              "    .dataframe tbody tr th:only-of-type {\n",
              "        vertical-align: middle;\n",
              "    }\n",
              "\n",
              "    .dataframe tbody tr th {\n",
              "        vertical-align: top;\n",
              "    }\n",
              "\n",
              "    .dataframe thead th {\n",
              "        text-align: right;\n",
              "    }\n",
              "</style>\n",
              "<table border=\"1\" class=\"dataframe\">\n",
              "  <thead>\n",
              "    <tr style=\"text-align: right;\">\n",
              "      <th></th>\n",
              "      <th>generation biomass</th>\n",
              "      <th>generation fossil</th>\n",
              "      <th>generation hydro</th>\n",
              "      <th>generation nuclear</th>\n",
              "      <th>generation other</th>\n",
              "      <th>generation other renewable</th>\n",
              "      <th>generation solar</th>\n",
              "      <th>generation total</th>\n",
              "      <th>generation waste</th>\n",
              "      <th>generation wind onshore</th>\n",
              "    </tr>\n",
              "  </thead>\n",
              "  <tbody>\n",
              "    <tr>\n",
              "      <th>count</th>\n",
              "      <td>50371.000000</td>\n",
              "      <td>50371.000000</td>\n",
              "      <td>50371.000000</td>\n",
              "      <td>50371.000000</td>\n",
              "      <td>50371.000000</td>\n",
              "      <td>50371.000000</td>\n",
              "      <td>50371.000000</td>\n",
              "      <td>50371.000000</td>\n",
              "      <td>50371.000000</td>\n",
              "      <td>50371.000000</td>\n",
              "    </tr>\n",
              "    <tr>\n",
              "      <th>mean</th>\n",
              "      <td>485.348315</td>\n",
              "      <td>11052.285065</td>\n",
              "      <td>4220.782017</td>\n",
              "      <td>6231.451649</td>\n",
              "      <td>77.598499</td>\n",
              "      <td>70.247940</td>\n",
              "      <td>1416.806992</td>\n",
              "      <td>29223.531735</td>\n",
              "      <td>224.455858</td>\n",
              "      <td>5444.555399</td>\n",
              "    </tr>\n",
              "    <tr>\n",
              "      <th>std</th>\n",
              "      <td>63.333294</td>\n",
              "      <td>3594.210125</td>\n",
              "      <td>1948.798021</td>\n",
              "      <td>846.478077</td>\n",
              "      <td>17.135360</td>\n",
              "      <td>6.984956</td>\n",
              "      <td>1663.951447</td>\n",
              "      <td>4004.911213</td>\n",
              "      <td>45.602431</td>\n",
              "      <td>3263.151880</td>\n",
              "    </tr>\n",
              "    <tr>\n",
              "      <th>min</th>\n",
              "      <td>101.000000</td>\n",
              "      <td>3146.000000</td>\n",
              "      <td>764.000000</td>\n",
              "      <td>3712.000000</td>\n",
              "      <td>5.000000</td>\n",
              "      <td>14.000000</td>\n",
              "      <td>9.000000</td>\n",
              "      <td>17329.000000</td>\n",
              "      <td>39.000000</td>\n",
              "      <td>234.000000</td>\n",
              "    </tr>\n",
              "    <tr>\n",
              "      <th>25%</th>\n",
              "      <td>453.000000</td>\n",
              "      <td>8301.000000</td>\n",
              "      <td>2652.000000</td>\n",
              "      <td>5892.000000</td>\n",
              "      <td>80.000000</td>\n",
              "      <td>66.000000</td>\n",
              "      <td>72.000000</td>\n",
              "      <td>26179.000000</td>\n",
              "      <td>194.000000</td>\n",
              "      <td>2822.000000</td>\n",
              "    </tr>\n",
              "    <tr>\n",
              "      <th>50%</th>\n",
              "      <td>498.000000</td>\n",
              "      <td>11169.000000</td>\n",
              "      <td>3870.000000</td>\n",
              "      <td>6446.000000</td>\n",
              "      <td>84.000000</td>\n",
              "      <td>70.000000</td>\n",
              "      <td>617.000000</td>\n",
              "      <td>29037.000000</td>\n",
              "      <td>234.000000</td>\n",
              "      <td>4811.000000</td>\n",
              "    </tr>\n",
              "    <tr>\n",
              "      <th>75%</th>\n",
              "      <td>533.000000</td>\n",
              "      <td>13529.000000</td>\n",
              "      <td>5507.000000</td>\n",
              "      <td>7033.000000</td>\n",
              "      <td>87.000000</td>\n",
              "      <td>74.000000</td>\n",
              "      <td>2483.000000</td>\n",
              "      <td>31799.000000</td>\n",
              "      <td>261.000000</td>\n",
              "      <td>7452.000000</td>\n",
              "    </tr>\n",
              "    <tr>\n",
              "      <th>max</th>\n",
              "      <td>592.000000</td>\n",
              "      <td>21667.000000</td>\n",
              "      <td>11015.000000</td>\n",
              "      <td>7115.000000</td>\n",
              "      <td>106.000000</td>\n",
              "      <td>97.000000</td>\n",
              "      <td>5792.000000</td>\n",
              "      <td>40766.000000</td>\n",
              "      <td>337.000000</td>\n",
              "      <td>17436.000000</td>\n",
              "    </tr>\n",
              "  </tbody>\n",
              "</table>\n",
              "</div>\n",
              "      <button class=\"colab-df-convert\" onclick=\"convertToInteractive('df-7837d2c5-4220-4838-9527-558e77dfe93b')\"\n",
              "              title=\"Convert this dataframe to an interactive table.\"\n",
              "              style=\"display:none;\">\n",
              "        \n",
              "  <svg xmlns=\"http://www.w3.org/2000/svg\" height=\"24px\"viewBox=\"0 0 24 24\"\n",
              "       width=\"24px\">\n",
              "    <path d=\"M0 0h24v24H0V0z\" fill=\"none\"/>\n",
              "    <path d=\"M18.56 5.44l.94 2.06.94-2.06 2.06-.94-2.06-.94-.94-2.06-.94 2.06-2.06.94zm-11 1L8.5 8.5l.94-2.06 2.06-.94-2.06-.94L8.5 2.5l-.94 2.06-2.06.94zm10 10l.94 2.06.94-2.06 2.06-.94-2.06-.94-.94-2.06-.94 2.06-2.06.94z\"/><path d=\"M17.41 7.96l-1.37-1.37c-.4-.4-.92-.59-1.43-.59-.52 0-1.04.2-1.43.59L10.3 9.45l-7.72 7.72c-.78.78-.78 2.05 0 2.83L4 21.41c.39.39.9.59 1.41.59.51 0 1.02-.2 1.41-.59l7.78-7.78 2.81-2.81c.8-.78.8-2.07 0-2.86zM5.41 20L4 18.59l7.72-7.72 1.47 1.35L5.41 20z\"/>\n",
              "  </svg>\n",
              "      </button>\n",
              "      \n",
              "  <style>\n",
              "    .colab-df-container {\n",
              "      display:flex;\n",
              "      flex-wrap:wrap;\n",
              "      gap: 12px;\n",
              "    }\n",
              "\n",
              "    .colab-df-convert {\n",
              "      background-color: #E8F0FE;\n",
              "      border: none;\n",
              "      border-radius: 50%;\n",
              "      cursor: pointer;\n",
              "      display: none;\n",
              "      fill: #1967D2;\n",
              "      height: 32px;\n",
              "      padding: 0 0 0 0;\n",
              "      width: 32px;\n",
              "    }\n",
              "\n",
              "    .colab-df-convert:hover {\n",
              "      background-color: #E2EBFA;\n",
              "      box-shadow: 0px 1px 2px rgba(60, 64, 67, 0.3), 0px 1px 3px 1px rgba(60, 64, 67, 0.15);\n",
              "      fill: #174EA6;\n",
              "    }\n",
              "\n",
              "    [theme=dark] .colab-df-convert {\n",
              "      background-color: #3B4455;\n",
              "      fill: #D2E3FC;\n",
              "    }\n",
              "\n",
              "    [theme=dark] .colab-df-convert:hover {\n",
              "      background-color: #434B5C;\n",
              "      box-shadow: 0px 1px 3px 1px rgba(0, 0, 0, 0.15);\n",
              "      filter: drop-shadow(0px 1px 2px rgba(0, 0, 0, 0.3));\n",
              "      fill: #FFFFFF;\n",
              "    }\n",
              "  </style>\n",
              "\n",
              "      <script>\n",
              "        const buttonEl =\n",
              "          document.querySelector('#df-7837d2c5-4220-4838-9527-558e77dfe93b button.colab-df-convert');\n",
              "        buttonEl.style.display =\n",
              "          google.colab.kernel.accessAllowed ? 'block' : 'none';\n",
              "\n",
              "        async function convertToInteractive(key) {\n",
              "          const element = document.querySelector('#df-7837d2c5-4220-4838-9527-558e77dfe93b');\n",
              "          const dataTable =\n",
              "            await google.colab.kernel.invokeFunction('convertToInteractive',\n",
              "                                                     [key], {});\n",
              "          if (!dataTable) return;\n",
              "\n",
              "          const docLinkHtml = 'Like what you see? Visit the ' +\n",
              "            '<a target=\"_blank\" href=https://colab.research.google.com/notebooks/data_table.ipynb>data table notebook</a>'\n",
              "            + ' to learn more about interactive tables.';\n",
              "          element.innerHTML = '';\n",
              "          dataTable['output_type'] = 'display_data';\n",
              "          await google.colab.output.renderOutput(dataTable, element);\n",
              "          const docLink = document.createElement('div');\n",
              "          docLink.innerHTML = docLinkHtml;\n",
              "          element.appendChild(docLink);\n",
              "        }\n",
              "      </script>\n",
              "    </div>\n",
              "  </div>\n",
              "  "
            ]
          },
          "metadata": {},
          "execution_count": 24
        }
      ]
    },
    {
      "cell_type": "markdown",
      "metadata": {
        "id": "YbwmhNxkcHOh"
      },
      "source": [
        "Visualize data (part of it):"
      ]
    },
    {
      "cell_type": "code",
      "execution_count": 25,
      "metadata": {
        "colab": {
          "base_uri": "https://localhost:8080/",
          "height": 609
        },
        "id": "aDTCgaqTcHOi",
        "outputId": "2ba4a20c-5320-401a-89fd-357a5481f77f"
      },
      "outputs": [
        {
          "output_type": "execute_result",
          "data": {
            "text/plain": [
              "<matplotlib.axes._subplots.AxesSubplot at 0x7fb3bfcd9410>"
            ]
          },
          "metadata": {},
          "execution_count": 25
        },
        {
          "output_type": "display_data",
          "data": {
            "text/plain": [
              "<Figure size 1152x720 with 1 Axes>"
            ],
            "image/png": "[encoded data removed]"
          },
          "metadata": {
            "needs_background": "light"
          }
        }
      ],
      "source": [
        "X_W.boxplot()"
      ]
    },
    {
      "cell_type": "code",
      "source": [
        "X_E.boxplot()"
      ],
      "metadata": {
        "id": "QBVfogw4sWo3",
        "outputId": "7b4b962c-f9fc-447a-d180-2e1a188d0e05",
        "colab": {
          "base_uri": "https://localhost:8080/",
          "height": 609
        }
      },
      "execution_count": 26,
      "outputs": [
        {
          "output_type": "execute_result",
          "data": {
            "text/plain": [
              "<matplotlib.axes._subplots.AxesSubplot at 0x7fb3bf133dd0>"
            ]
          },
          "metadata": {},
          "execution_count": 26
        },
        {
          "output_type": "display_data",
          "data": {
            "text/plain": [
              "<Figure size 1152x720 with 1 Axes>"
            ],
            "image/png": "[encoded data removed]"
          },
          "metadata": {
            "needs_background": "light"
          }
        }
      ]
    },
    {
      "cell_type": "markdown",
      "metadata": {
        "id": "ORwLHAQ4cHOm"
      },
      "source": [
        "Split data into a trainset and a testset (which we wish to forecast):"
      ]
    },
    {
      "cell_type": "code",
      "execution_count": 55,
      "metadata": {
        "colab": {
          "base_uri": "https://localhost:8080/"
        },
        "id": "XyYG3EPTcHOr",
        "outputId": "19a3ff73-35f8-477d-c26d-a9ef7ed52c29"
      },
      "outputs": [
        {
          "output_type": "stream",
          "name": "stdout",
          "text": [
            "Number of observations: 50371\n",
            "Number of training observations: 45334\n",
            "Number of test observations: 5037\n"
          ]
        }
      ],
      "source": [
        "# define constants\n",
        "n, p = X_E.shape\n",
        "\n",
        "# start, train end, test end\n",
        "T0 = 0\n",
        "T1 = n - n//10 # 10 % test data\n",
        "T2 = n\n",
        "\n",
        "\n",
        "y = Y.values\n",
        "x_train = torch.from_numpy(np.concatenate([X_W[T0:T1].values, X_E[T0:T1].values], axis=1)).float()\n",
        "x_test = torch.from_numpy(np.concatenate([X_W[T1:T2].values, X_E[T1:T2].values], axis=1)).float()\n",
        "y_train = torch.from_numpy(y[T0:T1]).float().unsqueeze(-1)\n",
        "y_test = torch.from_numpy(y[T1:T2]).float().unsqueeze(-1)\n",
        "\n",
        "print(\"Number of observations:\", n)\n",
        "print(\"Number of training observations:\", T1 - T0)\n",
        "print(\"Number of test observations:\", T2 - T1)"
      ]
    },
    {
      "cell_type": "code",
      "execution_count": null,
      "metadata": {
        "id": "Ti0Lw_xYwLlm"
      },
      "outputs": [],
      "source": [
        "def f(carry, noise_t):\n",
        "  h_prev1, X_W, X_E, betas, R, f_h = carry\n",
        "  z_t = numpyro.sample(\"z\", dist.Categorical(logits=X_W @ betas))\n",
        "  h_t = numpyro.sample(\"h\", dist.Normal(f_h(h_prev1, torch.cat(X_W, X_E, dim=1)), R[z_t]))\n",
        "  h_prev1 = h_t\n",
        "  return (h_prev1, X_W, betas), h_t"
      ]
    },
    {
      "cell_type": "markdown",
      "metadata": {
        "id": "rmk5CBIGyU8w"
      },
      "source": [
        "Can you put all of this together and define the Pyro Model for the AR(2) model?"
      ]
    },
    {
      "cell_type": "code",
      "execution_count": null,
      "metadata": {
        "id": "TBjLzZfnuOjt"
      },
      "outputs": [],
      "source": [
        "from torch._C import ByteStorageBase\n",
        "\n",
        "def model(X_E, X_W, M, T, T_forecast, obs=None):\n",
        "    \"\"\" \n",
        "      \n",
        "    \"\"\"\n",
        "    betas = numpyro.sample(\"beta\", dist.Normal(torch.zeros(M), torch.ones(M)))\n",
        "    \n",
        "    \"\"\" Propagate the dynamics forward using jax.lax.scan\n",
        "    \"\"\"\n",
        "    carry = (h0, X_W, X_E, betas, R, f_h)\n",
        "    h_collection = [h0]\n",
        "    carry, hs_exp = lax.scan(f, carry, None, T+T_forecast-1)\n",
        "    h_collection = jnp.concatenate((jnp.array(h_collection), hs_exp), axis=0)\n",
        "    \n",
        "    \"\"\" Sample the observed_y (y_obs) and predicted_y (y_pred) \n",
        "    \"\"\"\n",
        "    numpyro.sample(name=\"y_obs\", fn=dist.Normal(loc=z_collection[:T], scale=sigma), obs=obs[:T])\n",
        "    numpyro.sample(name=\"y_pred\", fn=dist.Normal(loc=z_collection[T:], scale=sigma), obs=None)\n",
        "    return z_collection"
      ]
    },
    {
      "cell_type": "markdown",
      "metadata": {
        "id": "MbhvBmky30vr"
      },
      "source": [
        "Run inference using MCMC:"
      ]
    },
    {
      "cell_type": "code",
      "execution_count": null,
      "metadata": {
        "id": "vx3a32JF31vq"
      },
      "outputs": [],
      "source": [
        "t0 = time.time()\n",
        "\n",
        "rng_key = random.PRNGKey(0)\n",
        "rng_key, rng_key_ = random.split(rng_key)\n",
        "\n",
        "nuts_kernel = NUTS(model=model, max_tree_depth=8, step_size=5e-3, adapt_step_size=False)\n",
        "mcmc = MCMC(nuts_kernel, num_samples=3000, num_warmup=1000, num_chains=1)\n",
        "mcmc.run(rng_key_, T=N_train, T_forecast=N_test, obs=y_train[:,0])\n",
        "\n",
        "t_fin = time.time()\n",
        "\n",
        "print(\"Total time: {0:.3f}m\".format((t_fin - t0)/60))"
      ]
    },
    {
      "cell_type": "code",
      "execution_count": null,
      "metadata": {
        "id": "eFs4EwQ14cmV"
      },
      "outputs": [],
      "source": [
        "mcmc.print_summary()"
      ]
    },
    {
      "cell_type": "markdown",
      "metadata": {
        "id": "pFqsSTU44AoW"
      },
      "source": [
        "Extract samples and visualize posterior over beta, tau and sigma:"
      ]
    },
    {
      "cell_type": "code",
      "execution_count": null,
      "metadata": {
        "id": "0Pz_Zf024BZQ"
      },
      "outputs": [],
      "source": [
        "hmc_samples = {k: v for k, v in mcmc.get_samples().items()}"
      ]
    },
    {
      "cell_type": "code",
      "execution_count": null,
      "metadata": {
        "id": "VmCJ4z586H6E"
      },
      "outputs": [],
      "source": [
        "nodes = [\"beta_1\", \"beta_2\", \"tau\", \"sigma\"]\n",
        "for node in nodes:\n",
        "  plt.figure(figsize=(4,3))\n",
        "  sns.distplot(hmc_samples[node], label=node)\n",
        "  plt.legend()\n",
        "  plt.show()"
      ]
    },
    {
      "cell_type": "code",
      "execution_count": null,
      "metadata": {
        "id": "cXSsFVbKLAJB"
      },
      "outputs": [],
      "source": [
        "q = hmc_samples[\"y_pred\"]\n",
        "q_mean = q.mean(axis=0).reshape(-1,)\n",
        "q_std = q.std(axis=0).reshape(-1,)\n",
        "y_pred_025 = q_mean - 1.96*q_std\n",
        "y_pred_975 = q_mean + 1.96*q_std\n",
        "y_pred_mean = q_mean"
      ]
    },
    {
      "cell_type": "code",
      "execution_count": null,
      "metadata": {
        "id": "s-6UIHROLAJE",
        "scrolled": false
      },
      "outputs": [],
      "source": [
        "plt.plot(ix_train[-20:], y_train[-20:, 0], \"b-\")\n",
        "plt.plot(ix_test, y_test[:, 0], \"bx\")\n",
        "plt.plot(ix_test, y_pred_mean, \"r-\")\n",
        "plt.plot(ix_test, y_pred_025, \"r--\")\n",
        "plt.plot(ix_test, y_pred_975, \"r--\")\n",
        "plt.fill_between(ix_test, y_pred_025, y_pred_975, alpha=0.3)\n",
        "plt.legend([\"true (train)\",\"true (test)\",\"forecast\",\"forecast + stddev\",\"forecast - stddev\"])\n",
        "plt.show()"
      ]
    },
    {
      "cell_type": "markdown",
      "metadata": {
        "id": "cpo7C9Vy4E-u"
      },
      "source": [
        "Did you get reasonable predictions? We should not expect amazing results, since your model is still quite simplistic...\n",
        "\n",
        "Also, notice that in general, the uncertainty on the model's predictions increases as we move away from T. This ability to quantify the uncertainty in the predictions is a major advantage of full Bayesian approaches :-)"
      ]
    },
    {
      "cell_type": "code",
      "execution_count": null,
      "metadata": {
        "id": "qSBiByOa972a"
      },
      "outputs": [],
      "source": [
        ""
      ]
    }
  ],
  "metadata": {
    "colab": {
      "collapsed_sections": [],
      "name": "07 - Temporal models - Part 2 - NumPyro - solutions.ipynb",
      "provenance": []
    },
    "interpreter": {
      "hash": "6b08ee7c8bef440294a481a216bb9033591189c3d4602fc7078f5e8234b3f721"
    },
    "kernelspec": {
      "display_name": "Python 3.10.4 ('new_mbml')",
      "language": "python",
      "name": "python3"
    },
    "language_info": {
      "name": "python",
      "version": "3.10.4"
    }
  },
  "nbformat": 4,
  "nbformat_minor": 0
}