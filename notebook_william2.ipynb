{
  "cells": [
    {
      "cell_type": "markdown",
      "metadata": {
        "id": "cSM-NcSxWPG3"
      },
      "source": [
        "# Pyro AR2 Example"
      ]
    },
    {
      "cell_type": "code",
      "source": [
        "!pip install numpyro==0.9.2"
      ],
      "metadata": {
        "id": "79ekh4T0ZV-s",
        "outputId": "a8d8e0ab-a998-4296-a189-dc684c1650b5",
        "colab": {
          "base_uri": "https://localhost:8080/"
        }
      },
      "execution_count": 1,
      "outputs": [
        {
          "output_type": "stream",
          "name": "stdout",
          "text": [
            "Looking in indexes: https://pypi.org/simple, https://us-python.pkg.dev/colab-wheels/public/simple/\n",
            "Requirement already satisfied: numpyro==0.9.2 in /usr/local/lib/python3.7/dist-packages (0.9.2)\n",
            "Requirement already satisfied: multipledispatch in /usr/local/lib/python3.7/dist-packages (from numpyro==0.9.2) (0.6.0)\n",
            "Requirement already satisfied: numpy in /usr/local/lib/python3.7/dist-packages (from numpyro==0.9.2) (1.21.6)\n",
            "Requirement already satisfied: jaxlib>=0.1.65 in /usr/local/lib/python3.7/dist-packages (from numpyro==0.9.2) (0.3.7+cuda11.cudnn805)\n",
            "Requirement already satisfied: jax>=0.2.13 in /usr/local/lib/python3.7/dist-packages (from numpyro==0.9.2) (0.3.8)\n",
            "Requirement already satisfied: tqdm in /usr/local/lib/python3.7/dist-packages (from numpyro==0.9.2) (4.64.0)\n",
            "Requirement already satisfied: scipy>=1.2.1 in /usr/local/lib/python3.7/dist-packages (from jax>=0.2.13->numpyro==0.9.2) (1.4.1)\n",
            "Requirement already satisfied: absl-py in /usr/local/lib/python3.7/dist-packages (from jax>=0.2.13->numpyro==0.9.2) (1.0.0)\n",
            "Requirement already satisfied: typing-extensions in /usr/local/lib/python3.7/dist-packages (from jax>=0.2.13->numpyro==0.9.2) (4.2.0)\n",
            "Requirement already satisfied: opt-einsum in /usr/local/lib/python3.7/dist-packages (from jax>=0.2.13->numpyro==0.9.2) (3.3.0)\n",
            "Requirement already satisfied: flatbuffers<3.0,>=1.12 in /usr/local/lib/python3.7/dist-packages (from jaxlib>=0.1.65->numpyro==0.9.2) (2.0)\n",
            "Requirement already satisfied: six in /usr/local/lib/python3.7/dist-packages (from absl-py->jax>=0.2.13->numpyro==0.9.2) (1.15.0)\n"
          ]
        }
      ]
    },
    {
      "cell_type": "code",
      "source": [
        "!pip install pyro-ppl"
      ],
      "metadata": {
        "id": "rtpqDi3cePsy",
        "outputId": "10a05d00-d712-44ae-ea90-7c276f26e733",
        "colab": {
          "base_uri": "https://localhost:8080/"
        }
      },
      "execution_count": 6,
      "outputs": [
        {
          "output_type": "stream",
          "name": "stdout",
          "text": [
            "Looking in indexes: https://pypi.org/simple, https://us-python.pkg.dev/colab-wheels/public/simple/\n",
            "Requirement already satisfied: pyro-ppl in /usr/local/lib/python3.7/dist-packages (1.8.1)\n",
            "Requirement already satisfied: pyro-api>=0.1.1 in /usr/local/lib/python3.7/dist-packages (from pyro-ppl) (0.1.2)\n",
            "Requirement already satisfied: torch>=1.11.0 in /usr/local/lib/python3.7/dist-packages (from pyro-ppl) (1.11.0+cu113)\n",
            "Requirement already satisfied: numpy>=1.7 in /usr/local/lib/python3.7/dist-packages (from pyro-ppl) (1.21.6)\n",
            "Requirement already satisfied: opt-einsum>=2.3.2 in /usr/local/lib/python3.7/dist-packages (from pyro-ppl) (3.3.0)\n",
            "Requirement already satisfied: tqdm>=4.36 in /usr/local/lib/python3.7/dist-packages (from pyro-ppl) (4.64.0)\n",
            "Requirement already satisfied: typing-extensions in /usr/local/lib/python3.7/dist-packages (from torch>=1.11.0->pyro-ppl) (4.2.0)\n"
          ]
        }
      ]
    },
    {
      "cell_type": "code",
      "source": [
        "import argparse\n",
        "import os\n",
        "import time\n",
        "\n",
        "import jax\n",
        "from jax import lax\n",
        "from jax import random\n",
        "import jax.numpy as jnp\n",
        "\n",
        "import numpy as np\n",
        "import numpyro\n",
        "from numpyro.contrib.control_flow import scan\n",
        "import numpyro.distributions as dist\n",
        "from pyro.ops.stats import quantile\n",
        "from numpyro.infer import MCMC, NUTS, Predictive\n",
        "from numpyro.diagnostics import autocorrelation, hpdi\n",
        "from numpyro.handlers import mask\n",
        "\n",
        "\n",
        "import torch\n",
        "import pandas as pd\n",
        "import matplotlib.pyplot as plt\n",
        "from sklearn.preprocessing import StandardScaler\n",
        "\n",
        "numpyro.set_platform(\"cpu\")\n",
        "numpyro.set_host_device_count(\"4\")\n",
        "# fix MCMCndom generator seed (for reproducibility of results)\n",
        "np.random.seed(42)\n",
        "\n",
        "# matplotlib style options\n",
        "plt.style.use('ggplot')\n",
        "%matplotlib inline\n",
        "plt.rcParams['figure.figsize'] = (16, 10)"
      ],
      "metadata": {
        "id": "dzcujBEGWSIE"
      },
      "execution_count": 1,
      "outputs": []
    },
    {
      "cell_type": "markdown",
      "source": [
        "## Data"
      ],
      "metadata": {
        "id": "ouADZGIZWn-x"
      }
    },
    {
      "cell_type": "code",
      "source": [
        "def get_weather_data(df):\n",
        "    \"\"\"Extract the columns that are the weather data we would like to use\"\"\"\n",
        "    return df[['temp', 'temp_min','temp_max','pressure','humidity','wind_speed','wind_deg','rain_1h','rain_3h','snow_3h']].copy()\n",
        "\n",
        "def get_energy_data(df):\n",
        "    \"\"\"Extract the columns that are the energy data we would like to use\"\"\"\n",
        "    return  df[['generation biomass','generation fossil', 'generation hydro', 'generation nuclear', 'generation other', 'generation other renewable', 'generation solar',\n",
        "        'generation total', 'generation waste', 'generation wind onshore']].copy()"
      ],
      "metadata": {
        "id": "oBhvBunuWtES"
      },
      "execution_count": 3,
      "outputs": []
    },
    {
      "cell_type": "code",
      "source": [
        "# set variables describing how much data to use\n",
        "T = None # number of time steps to include, if None all data is used\n",
        "test_frac = 0.1 # fraction of data to use for testing\n",
        "aggregation_level = \"D\" # aggregation level of the data, D = daily, W = weekly, M = monthly\n",
        "\n",
        "# read the data that has previously (in last assignment, see data notebook) been preprocessed\n",
        "df = pd.read_csv(\"preprocessed_data/df.csv\")\n",
        "df[\"time_str\"] = [d.split(\"+\")[0] for d in df[\"time_str\"]]\n",
        "df[\"time_str\"] = pd.to_datetime(df[\"time_str\"], infer_datetime_format=True)\n",
        "\n",
        "# group by date and take the mean as we have multiple measurements per day due to having data from 5 different cities in Spain\n",
        "df = df.groupby(\"time_str\").mean()\n",
        "df = df.reset_index().set_index('time_str')\n",
        "df.index.name = None\n",
        "\n",
        "# aggregate data, can be commented out to use all data\n",
        "# df = df.asfreq(aggregation_level) \n",
        "df = df.resample(aggregation_level).mean()\n",
        "# df = df.groupby(df.index.date).mean().reset_index()\n",
        "\n",
        "# extract the columns that we would like to use\n",
        "dfW = get_weather_data(df)\n",
        "dfE = get_energy_data(df)\n",
        "\n",
        "# define start, train end, test end\n",
        "n = len(df) if T is None else T\n",
        "T0 = 0\n",
        "T1 = n - int(test_frac*n) # 10 % test data\n",
        "T2 = n\n",
        "print(\"Number of observations:\", n)\n",
        "print(\"Number of training observations:\", T1 - T0)\n",
        "print(\"Number of test observations:\", T2 - T1)\n",
        "\n",
        "\n",
        "# standardize data\n",
        "df_standardized = dfE.merge(dfW, left_index=True, right_index=True)\n",
        "df_standardized[\"price_ actual\"] = df[\"price actual\"]\n",
        "scaler = StandardScaler().fit(df_standardized[:T1])\n",
        "df_standardized = scaler.transform(df_standardized)\n",
        "df_standardized = pd.DataFrame(df_standardized, columns=list(dfE.columns) + list(dfW.columns) + [\"price_actual\"], index = df.index)\n",
        "\n",
        "# create tensors\n",
        "X_W = torch.from_numpy(df_standardized[dfW.columns].values).float()\n",
        "X_E = torch.from_numpy(df_standardized[dfE.columns].values).float()\n",
        "obs = torch.from_numpy(df_standardized[\"price_actual\"].values).float()\n",
        "\n",
        "# translate to pyro forecasting language\n",
        "y = obs.unsqueeze(-1) if T is None else obs[-T:].unsqueeze(-1)\n",
        "covariates = torch.hstack((X_E, X_W)) if T is None else torch.hstack((X_E, X_W))[-T:]\n",
        "\n",
        "# define constants\n",
        "n, p = covariates.shape\n",
        "dates = df.index[-n:] # used for plotting"
      ],
      "metadata": {
        "id": "6YrQ19vJWooD",
        "outputId": "4799dd6b-9380-426a-f2ae-de387996f392",
        "colab": {
          "base_uri": "https://localhost:8080/"
        }
      },
      "execution_count": 4,
      "outputs": [
        {
          "output_type": "stream",
          "name": "stdout",
          "text": [
            "Number of observations: 1462\n",
            "Number of training observations: 1316\n",
            "Number of test observations: 146\n"
          ]
        }
      ]
    },
    {
      "cell_type": "markdown",
      "source": [
        "## Model"
      ],
      "metadata": {
        "id": "OVJNOYuXWv39"
      }
    },
    {
      "cell_type": "code",
      "source": [
        "def AR_model(obs, order, T_forecast=0):\n",
        "    # Initialization of ys for the carry according to the given order of the AR\n",
        "    y0 = numpyro.sample(\"y0\", dist.Normal(1, 0), sample_shape=(order, 1)) \n",
        "    timesteps = jnp.arange(len(y0), obs.shape[0] + T_forecast)\n",
        "\n",
        "    beta = numpyro.sample(\"beta\", dist.Normal(0., 1.), sample_shape=(len(y0),))\n",
        "    sigma = numpyro.sample(\"sigma\", dist.HalfCauchy(1.))\n",
        "\n",
        "    def transition(carry, t):\n",
        "        ys = carry\n",
        "        m_t = beta@ys\n",
        "        y_t = numpyro.sample(\"y\", dist.Normal(m_t, sigma))\n",
        "        carry = jnp.concatenate([jnp.array([y_t]), ys[:-1]])\n",
        "        return carry, y_t\n",
        "\n",
        "    with numpyro.handlers.condition(data={\"y\": obs[len(y0):]}):\n",
        "        _, ys = scan(transition, y0 , timesteps)\n",
        "    if T_forecast > 0:\n",
        "        numpyro.deterministic(\"y_pred\", ys[-T_forecast:])"
      ],
      "metadata": {
        "id": "nw4KxRq1Wwtj"
      },
      "execution_count": 47,
      "outputs": []
    },
    {
      "cell_type": "code",
      "source": [
        "def AR_input_model(y, X, order, T_forecast=0):\n",
        "    # Initialization of ys for the carry according to the given order of the AR\n",
        "    init = y[jnp.arange(order-1, -1, -1)]\n",
        "    timesteps = jnp.arange(len(init), y.shape[0] + T_forecast)\n",
        "\n",
        "\n",
        "    alpha = numpyro.sample(\"alpha\", dist.Normal(0., 1.), sample_shape=(len(init),))\n",
        "    beta = numpyro.sample(\"beta\", dist.Normal(0., 1.), sample_shape=(X.shape[1],1))\n",
        "    const = numpyro.sample(\"const\", dist.Normal(0., 1.))\n",
        "    sigma = numpyro.sample(\"sigma\", dist.HalfCauchy(1.))\n",
        "    noises = numpyro.sample(\"noises\", fn=dist.Normal(0., 1.), sample_shape=(y.shape[0]+T_forecast-len(init),))\n",
        "    tau = numpyro.sample(name=\"tau\", fn=dist.HalfCauchy(scale=.1))\n",
        "\n",
        "    def transition(carry, t):\n",
        "        ys = carry\n",
        "        m_t = alpha@ys + X[t]@beta + tau*noises[t]\n",
        "        y_t = numpyro.sample(\"y\", dist.Normal(m_t, sigma))\n",
        "        carry = jnp.concatenate([jnp.array([y_t]), ys[:-1]])\n",
        "        return carry, y_t\n",
        "\n",
        "    with numpyro.handlers.condition(data={\"y\": y[len(init):]}):\n",
        "        _, ys = scan(transition, init, timesteps)\n",
        "        \n",
        "    if T_forecast > 0:\n",
        "        numpyro.deterministic(\"y_pred\", ys[-T_forecast:])"
      ],
      "metadata": {
        "id": "TlRl4_kr28lB"
      },
      "execution_count": 20,
      "outputs": []
    },
    {
      "cell_type": "markdown",
      "source": [
        "## Inference"
      ],
      "metadata": {
        "id": "VNmHbsDkWxbb"
      }
    },
    {
      "cell_type": "code",
      "source": [
        "start = time.time()\n",
        "sampler = numpyro.infer.NUTS(AR_model)\n",
        "mcmc = numpyro.infer.MCMC(\n",
        "    sampler,\n",
        "    num_warmup=1000,\n",
        "    num_samples=5000,\n",
        "    num_chains=4,\n",
        "    progress_bar=False if \"NUMPYRO_SPHINXBUILD\" in os.environ else True,\n",
        ")\n",
        "\n",
        "x_train = jnp.array(covariates[:T1])\n",
        "y_train = jnp.array(y[:T1])\n",
        "mcmc.run(jax.random.PRNGKey(0), obs=y_train, order=1)\n",
        "mcmc.print_summary()\n",
        "print(\"\\nMCMC elapsed time:\", time.time() - start)\n",
        "\n",
        "posterior_samples = mcmc.get_samples()"
      ],
      "metadata": {
        "id": "GE4yO0CkWyjX",
        "outputId": "0e6f15ec-def5-4c21-9af1-f5cf649b65b6",
        "colab": {
          "base_uri": "https://localhost:8080/",
          "height": 301,
          "referenced_widgets": [
            "c568aa4a79c84ba19d6a5fd207390095",
            "1e830339a3654504a65a4b0598d029c0",
            "c77f13678c6c4e0d8a18797e8a0a10f6",
            "19e3b84507564d2e871953b505d5894c",
            "d95fff706aa04fed9183a68214d79b17",
            "73e380cb9f334a0794005c8925bc0908",
            "37b7083599234cc593d309f9ea019b98",
            "8653ae54bd6a4224bbcbcf261f7057cd",
            "d882d4b884d641529ca3da99219fdd8d",
            "562096f401414a16a7bf520cd6307ba3",
            "94f1550a6e514c6185a6d6c457dc0f89",
            "4284a39ae718417db207c12a70c76002",
            "20c0c70b185c42e888dfc6d1ebd08cc5",
            "7b13093b7a8448be9cd44449ff368387",
            "1bc165aaf1c14c0b96a0101a02f28658",
            "94172802f3594c7a8c557e0ae70f2be6",
            "21abea51ad314d0580000d9817baf972",
            "178b3b99b00b41caaebef20672f6b17c",
            "cd93b0472f2f432e8061d87c0e841030",
            "0e43b5c1d5544ae89cd38077a5e87f72",
            "6fe49b915874496eb9318f1362bdecf9",
            "8a3294a47b9149169f6fe87430c91ae1",
            "e0d69c01282148d4ae35cab5b7c4241f",
            "6d9a4282b1bb4febb4d1d497eaada70e",
            "7f7f30375c8247e1a1e8e36a1d344d7b",
            "0d43e97c315f450e98c52099ca2b55f1",
            "69a8659fa0b44dac90f706bbc84dfa9d",
            "8760dbf4012b4110af94f251862033c7",
            "9abb94c9ee8e4d78b5a0efbce388a81a",
            "af797d0c767e49a38f1931099f7514c0",
            "6767236358134760956522a64a966c04",
            "67604f02dc1e46b793e5096f070a9744",
            "445143ac893f4ff29110e1812d04eda5",
            "1aea7ead10864e0ea0ffaf9522b4efe9",
            "03ece6c825304b589c393e6b7615f634",
            "0b47a6629dc4421c8def4ea2e846a5c7",
            "89a733a15e204711bddf9760a397b328",
            "e3c9c76c945040a3a83a23713bd286e7",
            "8d07351a5a534692aeafcdbf4eaaf7b0",
            "28661207ded04114adfc59fe77717549",
            "f18f04e063004b2ab6c4761160d7b280",
            "f7cfa1f727514ce0bc3a28f40960894a",
            "bb396ca5ac2b4595911ea1d3bd92d3d4",
            "6e8c00f2969e4ca5b05004522f8feb91"
          ]
        }
      },
      "execution_count": 73,
      "outputs": [
        {
          "output_type": "display_data",
          "data": {
            "text/plain": [
              "  0%|          | 0/6000 [00:00<?, ?it/s]"
            ],
            "application/vnd.jupyter.widget-view+json": {
              "version_major": 2,
              "version_minor": 0,
              "model_id": "c568aa4a79c84ba19d6a5fd207390095"
            }
          },
          "metadata": {}
        },
        {
          "output_type": "display_data",
          "data": {
            "text/plain": [
              "  0%|          | 0/6000 [00:00<?, ?it/s]"
            ],
            "application/vnd.jupyter.widget-view+json": {
              "version_major": 2,
              "version_minor": 0,
              "model_id": "4284a39ae718417db207c12a70c76002"
            }
          },
          "metadata": {}
        },
        {
          "output_type": "display_data",
          "data": {
            "text/plain": [
              "  0%|          | 0/6000 [00:00<?, ?it/s]"
            ],
            "application/vnd.jupyter.widget-view+json": {
              "version_major": 2,
              "version_minor": 0,
              "model_id": "e0d69c01282148d4ae35cab5b7c4241f"
            }
          },
          "metadata": {}
        },
        {
          "output_type": "display_data",
          "data": {
            "text/plain": [
              "  0%|          | 0/6000 [00:00<?, ?it/s]"
            ],
            "application/vnd.jupyter.widget-view+json": {
              "version_major": 2,
              "version_minor": 0,
              "model_id": "1aea7ead10864e0ea0ffaf9522b4efe9"
            }
          },
          "metadata": {}
        },
        {
          "output_type": "stream",
          "name": "stdout",
          "text": [
            "\n",
            "                mean       std    median      5.0%     95.0%     n_eff     r_hat\n",
            "   beta[0]     -0.38      1.38     -0.53     -1.85      1.37       nan 12407331.00\n",
            "     sigma      0.80      0.47      0.85      0.16      1.35       nan 7506218.93\n",
            "   y0[0,0]      0.19      1.19     -0.03     -1.08      1.88      2.00 13518850.00\n",
            "\n",
            "Number of divergences: 20000\n",
            "\n",
            "MCMC elapsed time: 13.036958694458008\n"
          ]
        }
      ]
    },
    {
      "cell_type": "code",
      "source": [
        "forecast_N = 4\n",
        "predictive = Predictive(AR_model, posterior_samples, return_sites=[\"y_pred\"])\n",
        "forecast_marginal = predictive(random.PRNGKey(1), obs=y_train, order=1, T_forecast=forecast_N)[\n",
        "    \"y_pred\"\n",
        "]"
      ],
      "metadata": {
        "id": "rydTnu1DcBX-"
      },
      "execution_count": 84,
      "outputs": []
    },
    {
      "cell_type": "code",
      "source": [
        "y_test = jnp.array(y[T1:T1+forecast_N])\n",
        "y_pred = jnp.mean(forecast_marginal, axis=0)\n",
        "sMAPE = jnp.mean(jnp.abs(y_pred - y_test) / (y_pred + y_test)) * 200\n",
        "msqrt = jnp.sqrt(jnp.mean((y_pred - y_test) ** 2))\n",
        "print(\"sMAPE: {:.2f}, rmse: {:.2f}\".format(sMAPE, msqrt))"
      ],
      "metadata": {
        "colab": {
          "base_uri": "https://localhost:8080/"
        },
        "id": "FUzlDVY6cT_g",
        "outputId": "c7fffe8c-3a01-4650-c7f3-2a7e96a256a0"
      },
      "execution_count": 85,
      "outputs": [
        {
          "output_type": "stream",
          "name": "stdout",
          "text": [
            "sMAPE: 33.48, rmse: 3.39\n"
          ]
        }
      ]
    },
    {
      "cell_type": "code",
      "source": [
        "plt.figure(figsize=(15, 10))\n",
        "plt.plot(dates[T1:T1+forecast_N], y[T1:T1+forecast_N].numpy().flatten(), 'deepskyblue')\n",
        "t_future = dates[T1:T1+forecast_N]\n",
        "hpd_low, hpd_high = hpdi(forecast_marginal)\n",
        "plt.plot(t_future, y_pred, lw=2, color='darkgreen')\n",
        "plt.fill_between(t_future, hpd_low.flatten(), hpd_high.flatten(), alpha=0.7, color='lightgreen')\n",
        "plt.title(\"Forecasting energy price dataset with model (90% HPDI)\")\n",
        "plt.show()"
      ],
      "metadata": {
        "colab": {
          "base_uri": "https://localhost:8080/",
          "height": 609
        },
        "id": "W2P1VRqjcgSg",
        "outputId": "43ce8c52-fb2d-432e-ea0b-0eba14a6a81d"
      },
      "execution_count": 89,
      "outputs": [
        {
          "output_type": "display_data",
          "data": {
            "text/plain": [
              "<Figure size 1080x720 with 1 Axes>"
            ],
            "image/png": "[encoded data removed]"
          },
          "metadata": {
            "needs_background": "light"
          }
        }
      ]
    },
    {
      "cell_type": "code",
      "source": [
        "def compute_error(trues, predicted):\n",
        "    corr = np.corrcoef(predicted.flatten(), trues.flatten())[0,1]\n",
        "    mae = np.mean(np.abs(predicted - trues))\n",
        "    rae = np.sum(np.abs(predicted - trues)) / np.sum(np.abs(trues - np.mean(trues)))\n",
        "    rmse = np.sqrt(np.mean((predicted - trues)**2))\n",
        "    r2 = max(0, 1 - np.sum((trues-predicted)**2) / np.sum((trues - np.mean(trues))**2))\n",
        "    return corr, mae, rae, rmse, r2"
      ],
      "metadata": {
        "id": "o-L5xd-j219P"
      },
      "execution_count": 53,
      "outputs": []
    },
    {
      "cell_type": "code",
      "source": [
        "corr, mae, rae, rmse, r2 = compute_error(y_test, y_pred)\n",
        "print(\"CorrCoef: %.3f\\nMAE: %.5f\\nRMSE: %.5f\\nR2: %.3f\" % (corr, mae, rmse, r2))"
      ],
      "metadata": {
        "colab": {
          "base_uri": "https://localhost:8080/"
        },
        "id": "CjX1-KwTnH1R",
        "outputId": "3b424c22-2bb9-4c15-ed27-feb243c4b232"
      },
      "execution_count": 54,
      "outputs": [
        {
          "output_type": "stream",
          "name": "stdout",
          "text": [
            "CorrCoef: -0.106\n",
            "MAE: 978469726220903207504082632704.00000\n",
            "RMSE: inf\n",
            "R2: 0.000\n"
          ]
        }
      ]
    },
    {
      "cell_type": "code",
      "source": [
        ""
      ],
      "metadata": {
        "id": "aqc-YumroH1q"
      },
      "execution_count": null,
      "outputs": []
    }
  ],
  "metadata": {
    "language_info": {
      "name": "python"
    },
    "orig_nbformat": 4,
    "colab": {
      "name": "notebook_william2.ipynb",
      "provenance": []
    },
    "kernelspec": {
      "name": "python3",
      "display_name": "Python 3"
    },
    "widgets": {
      "application/vnd.jupyter.widget-state+json": {
        "c568aa4a79c84ba19d6a5fd207390095": {
          "model_module": "@jupyter-widgets/controls",
          "model_name": "HBoxModel",
          "model_module_version": "1.5.0",
          "state": {
            "_dom_classes": [],
            "_model_module": "@jupyter-widgets/controls",
            "_model_module_version": "1.5.0",
            "_model_name": "HBoxModel",
            "_view_count": null,
            "_view_module": "@jupyter-widgets/controls",
            "_view_module_version": "1.5.0",
            "_view_name": "HBoxView",
            "box_style": "",
            "children": [
              "IPY_MODEL_1e830339a3654504a65a4b0598d029c0",
              "IPY_MODEL_c77f13678c6c4e0d8a18797e8a0a10f6",
              "IPY_MODEL_19e3b84507564d2e871953b505d5894c"
            ],
            "layout": "IPY_MODEL_d95fff706aa04fed9183a68214d79b17"
          }
        },
        "1e830339a3654504a65a4b0598d029c0": {
          "model_module": "@jupyter-widgets/controls",
          "model_name": "HTMLModel",
          "model_module_version": "1.5.0",
          "state": {
            "_dom_classes": [],
            "_model_module": "@jupyter-widgets/controls",
            "_model_module_version": "1.5.0",
            "_model_name": "HTMLModel",
            "_view_count": null,
            "_view_module": "@jupyter-widgets/controls",
            "_view_module_version": "1.5.0",
            "_view_name": "HTMLView",
            "description": "",
            "description_tooltip": null,
            "layout": "IPY_MODEL_73e380cb9f334a0794005c8925bc0908",
            "placeholder": "​",
            "style": "IPY_MODEL_37b7083599234cc593d309f9ea019b98",
            "value": "Running chain 0: 100%"
          }
        },
        "c77f13678c6c4e0d8a18797e8a0a10f6": {
          "model_module": "@jupyter-widgets/controls",
          "model_name": "FloatProgressModel",
          "model_module_version": "1.5.0",
          "state": {
            "_dom_classes": [],
            "_model_module": "@jupyter-widgets/controls",
            "_model_module_version": "1.5.0",
            "_model_name": "FloatProgressModel",
            "_view_count": null,
            "_view_module": "@jupyter-widgets/controls",
            "_view_module_version": "1.5.0",
            "_view_name": "ProgressView",
            "bar_style": "success",
            "description": "",
            "description_tooltip": null,
            "layout": "IPY_MODEL_8653ae54bd6a4224bbcbcf261f7057cd",
            "max": 6000,
            "min": 0,
            "orientation": "horizontal",
            "style": "IPY_MODEL_d882d4b884d641529ca3da99219fdd8d",
            "value": 6000
          }
        },
        "19e3b84507564d2e871953b505d5894c": {
          "model_module": "@jupyter-widgets/controls",
          "model_name": "HTMLModel",
          "model_module_version": "1.5.0",
          "state": {
            "_dom_classes": [],
            "_model_module": "@jupyter-widgets/controls",
            "_model_module_version": "1.5.0",
            "_model_name": "HTMLModel",
            "_view_count": null,
            "_view_module": "@jupyter-widgets/controls",
            "_view_module_version": "1.5.0",
            "_view_name": "HTMLView",
            "description": "",
            "description_tooltip": null,
            "layout": "IPY_MODEL_562096f401414a16a7bf520cd6307ba3",
            "placeholder": "​",
            "style": "IPY_MODEL_94f1550a6e514c6185a6d6c457dc0f89",
            "value": " 6000/6000 [00:12&lt;00:00, 6813.44it/s]"
          }
        },
        "d95fff706aa04fed9183a68214d79b17": {
          "model_module": "@jupyter-widgets/base",
          "model_name": "LayoutModel",
          "model_module_version": "1.2.0",
          "state": {
            "_model_module": "@jupyter-widgets/base",
            "_model_module_version": "1.2.0",
            "_model_name": "LayoutModel",
            "_view_count": null,
            "_view_module": "@jupyter-widgets/base",
            "_view_module_version": "1.2.0",
            "_view_name": "LayoutView",
            "align_content": null,
            "align_items": null,
            "align_self": null,
            "border": null,
            "bottom": null,
            "display": null,
            "flex": null,
            "flex_flow": null,
            "grid_area": null,
            "grid_auto_columns": null,
            "grid_auto_flow": null,
            "grid_auto_rows": null,
            "grid_column": null,
            "grid_gap": null,
            "grid_row": null,
            "grid_template_areas": null,
            "grid_template_columns": null,
            "grid_template_rows": null,
            "height": null,
            "justify_content": null,
            "justify_items": null,
            "left": null,
            "margin": null,
            "max_height": null,
            "max_width": null,
            "min_height": null,
            "min_width": null,
            "object_fit": null,
            "object_position": null,
            "order": null,
            "overflow": null,
            "overflow_x": null,
            "overflow_y": null,
            "padding": null,
            "right": null,
            "top": null,
            "visibility": null,
            "width": null
          }
        },
        "73e380cb9f334a0794005c8925bc0908": {
          "model_module": "@jupyter-widgets/base",
          "model_name": "LayoutModel",
          "model_module_version": "1.2.0",
          "state": {
            "_model_module": "@jupyter-widgets/base",
            "_model_module_version": "1.2.0",
            "_model_name": "LayoutModel",
            "_view_count": null,
            "_view_module": "@jupyter-widgets/base",
            "_view_module_version": "1.2.0",
            "_view_name": "LayoutView",
            "align_content": null,
            "align_items": null,
            "align_self": null,
            "border": null,
            "bottom": null,
            "display": null,
            "flex": null,
            "flex_flow": null,
            "grid_area": null,
            "grid_auto_columns": null,
            "grid_auto_flow": null,
            "grid_auto_rows": null,
            "grid_column": null,
            "grid_gap": null,
            "grid_row": null,
            "grid_template_areas": null,
            "grid_template_columns": null,
            "grid_template_rows": null,
            "height": null,
            "justify_content": null,
            "justify_items": null,
            "left": null,
            "margin": null,
            "max_height": null,
            "max_width": null,
            "min_height": null,
            "min_width": null,
            "object_fit": null,
            "object_position": null,
            "order": null,
            "overflow": null,
            "overflow_x": null,
            "overflow_y": null,
            "padding": null,
            "right": null,
            "top": null,
            "visibility": null,
            "width": null
          }
        },
        "37b7083599234cc593d309f9ea019b98": {
          "model_module": "@jupyter-widgets/controls",
          "model_name": "DescriptionStyleModel",
          "model_module_version": "1.5.0",
          "state": {
            "_model_module": "@jupyter-widgets/controls",
            "_model_module_version": "1.5.0",
            "_model_name": "DescriptionStyleModel",
            "_view_count": null,
            "_view_module": "@jupyter-widgets/base",
            "_view_module_version": "1.2.0",
            "_view_name": "StyleView",
            "description_width": ""
          }
        },
        "8653ae54bd6a4224bbcbcf261f7057cd": {
          "model_module": "@jupyter-widgets/base",
          "model_name": "LayoutModel",
          "model_module_version": "1.2.0",
          "state": {
            "_model_module": "@jupyter-widgets/base",
            "_model_module_version": "1.2.0",
            "_model_name": "LayoutModel",
            "_view_count": null,
            "_view_module": "@jupyter-widgets/base",
            "_view_module_version": "1.2.0",
            "_view_name": "LayoutView",
            "align_content": null,
            "align_items": null,
            "align_self": null,
            "border": null,
            "bottom": null,
            "display": null,
            "flex": null,
            "flex_flow": null,
            "grid_area": null,
            "grid_auto_columns": null,
            "grid_auto_flow": null,
            "grid_auto_rows": null,
            "grid_column": null,
            "grid_gap": null,
            "grid_row": null,
            "grid_template_areas": null,
            "grid_template_columns": null,
            "grid_template_rows": null,
            "height": null,
            "justify_content": null,
            "justify_items": null,
            "left": null,
            "margin": null,
            "max_height": null,
            "max_width": null,
            "min_height": null,
            "min_width": null,
            "object_fit": null,
            "object_position": null,
            "order": null,
            "overflow": null,
            "overflow_x": null,
            "overflow_y": null,
            "padding": null,
            "right": null,
            "top": null,
            "visibility": null,
            "width": null
          }
        },
        "d882d4b884d641529ca3da99219fdd8d": {
          "model_module": "@jupyter-widgets/controls",
          "model_name": "ProgressStyleModel",
          "model_module_version": "1.5.0",
          "state": {
            "_model_module": "@jupyter-widgets/controls",
            "_model_module_version": "1.5.0",
            "_model_name": "ProgressStyleModel",
            "_view_count": null,
            "_view_module": "@jupyter-widgets/base",
            "_view_module_version": "1.2.0",
            "_view_name": "StyleView",
            "bar_color": null,
            "description_width": ""
          }
        },
        "562096f401414a16a7bf520cd6307ba3": {
          "model_module": "@jupyter-widgets/base",
          "model_name": "LayoutModel",
          "model_module_version": "1.2.0",
          "state": {
            "_model_module": "@jupyter-widgets/base",
            "_model_module_version": "1.2.0",
            "_model_name": "LayoutModel",
            "_view_count": null,
            "_view_module": "@jupyter-widgets/base",
            "_view_module_version": "1.2.0",
            "_view_name": "LayoutView",
            "align_content": null,
            "align_items": null,
            "align_self": null,
            "border": null,
            "bottom": null,
            "display": null,
            "flex": null,
            "flex_flow": null,
            "grid_area": null,
            "grid_auto_columns": null,
            "grid_auto_flow": null,
            "grid_auto_rows": null,
            "grid_column": null,
            "grid_gap": null,
            "grid_row": null,
            "grid_template_areas": null,
            "grid_template_columns": null,
            "grid_template_rows": null,
            "height": null,
            "justify_content": null,
            "justify_items": null,
            "left": null,
            "margin": null,
            "max_height": null,
            "max_width": null,
            "min_height": null,
            "min_width": null,
            "object_fit": null,
            "object_position": null,
            "order": null,
            "overflow": null,
            "overflow_x": null,
            "overflow_y": null,
            "padding": null,
            "right": null,
            "top": null,
            "visibility": null,
            "width": null
          }
        },
        "94f1550a6e514c6185a6d6c457dc0f89": {
          "model_module": "@jupyter-widgets/controls",
          "model_name": "DescriptionStyleModel",
          "model_module_version": "1.5.0",
          "state": {
            "_model_module": "@jupyter-widgets/controls",
            "_model_module_version": "1.5.0",
            "_model_name": "DescriptionStyleModel",
            "_view_count": null,
            "_view_module": "@jupyter-widgets/base",
            "_view_module_version": "1.2.0",
            "_view_name": "StyleView",
            "description_width": ""
          }
        },
        "4284a39ae718417db207c12a70c76002": {
          "model_module": "@jupyter-widgets/controls",
          "model_name": "HBoxModel",
          "model_module_version": "1.5.0",
          "state": {
            "_dom_classes": [],
            "_model_module": "@jupyter-widgets/controls",
            "_model_module_version": "1.5.0",
            "_model_name": "HBoxModel",
            "_view_count": null,
            "_view_module": "@jupyter-widgets/controls",
            "_view_module_version": "1.5.0",
            "_view_name": "HBoxView",
            "box_style": "",
            "children": [
              "IPY_MODEL_20c0c70b185c42e888dfc6d1ebd08cc5",
              "IPY_MODEL_7b13093b7a8448be9cd44449ff368387",
              "IPY_MODEL_1bc165aaf1c14c0b96a0101a02f28658"
            ],
            "layout": "IPY_MODEL_94172802f3594c7a8c557e0ae70f2be6"
          }
        },
        "20c0c70b185c42e888dfc6d1ebd08cc5": {
          "model_module": "@jupyter-widgets/controls",
          "model_name": "HTMLModel",
          "model_module_version": "1.5.0",
          "state": {
            "_dom_classes": [],
            "_model_module": "@jupyter-widgets/controls",
            "_model_module_version": "1.5.0",
            "_model_name": "HTMLModel",
            "_view_count": null,
            "_view_module": "@jupyter-widgets/controls",
            "_view_module_version": "1.5.0",
            "_view_name": "HTMLView",
            "description": "",
            "description_tooltip": null,
            "layout": "IPY_MODEL_21abea51ad314d0580000d9817baf972",
            "placeholder": "​",
            "style": "IPY_MODEL_178b3b99b00b41caaebef20672f6b17c",
            "value": "Running chain 1: 100%"
          }
        },
        "7b13093b7a8448be9cd44449ff368387": {
          "model_module": "@jupyter-widgets/controls",
          "model_name": "FloatProgressModel",
          "model_module_version": "1.5.0",
          "state": {
            "_dom_classes": [],
            "_model_module": "@jupyter-widgets/controls",
            "_model_module_version": "1.5.0",
            "_model_name": "FloatProgressModel",
            "_view_count": null,
            "_view_module": "@jupyter-widgets/controls",
            "_view_module_version": "1.5.0",
            "_view_name": "ProgressView",
            "bar_style": "success",
            "description": "",
            "description_tooltip": null,
            "layout": "IPY_MODEL_cd93b0472f2f432e8061d87c0e841030",
            "max": 6000,
            "min": 0,
            "orientation": "horizontal",
            "style": "IPY_MODEL_0e43b5c1d5544ae89cd38077a5e87f72",
            "value": 6000
          }
        },
        "1bc165aaf1c14c0b96a0101a02f28658": {
          "model_module": "@jupyter-widgets/controls",
          "model_name": "HTMLModel",
          "model_module_version": "1.5.0",
          "state": {
            "_dom_classes": [],
            "_model_module": "@jupyter-widgets/controls",
            "_model_module_version": "1.5.0",
            "_model_name": "HTMLModel",
            "_view_count": null,
            "_view_module": "@jupyter-widgets/controls",
            "_view_module_version": "1.5.0",
            "_view_name": "HTMLView",
            "description": "",
            "description_tooltip": null,
            "layout": "IPY_MODEL_6fe49b915874496eb9318f1362bdecf9",
            "placeholder": "​",
            "style": "IPY_MODEL_8a3294a47b9149169f6fe87430c91ae1",
            "value": " 6000/6000 [00:12&lt;00:00, 6297.48it/s]"
          }
        },
        "94172802f3594c7a8c557e0ae70f2be6": {
          "model_module": "@jupyter-widgets/base",
          "model_name": "LayoutModel",
          "model_module_version": "1.2.0",
          "state": {
            "_model_module": "@jupyter-widgets/base",
            "_model_module_version": "1.2.0",
            "_model_name": "LayoutModel",
            "_view_count": null,
            "_view_module": "@jupyter-widgets/base",
            "_view_module_version": "1.2.0",
            "_view_name": "LayoutView",
            "align_content": null,
            "align_items": null,
            "align_self": null,
            "border": null,
            "bottom": null,
            "display": null,
            "flex": null,
            "flex_flow": null,
            "grid_area": null,
            "grid_auto_columns": null,
            "grid_auto_flow": null,
            "grid_auto_rows": null,
            "grid_column": null,
            "grid_gap": null,
            "grid_row": null,
            "grid_template_areas": null,
            "grid_template_columns": null,
            "grid_template_rows": null,
            "height": null,
            "justify_content": null,
            "justify_items": null,
            "left": null,
            "margin": null,
            "max_height": null,
            "max_width": null,
            "min_height": null,
            "min_width": null,
            "object_fit": null,
            "object_position": null,
            "order": null,
            "overflow": null,
            "overflow_x": null,
            "overflow_y": null,
            "padding": null,
            "right": null,
            "top": null,
            "visibility": null,
            "width": null
          }
        },
        "21abea51ad314d0580000d9817baf972": {
          "model_module": "@jupyter-widgets/base",
          "model_name": "LayoutModel",
          "model_module_version": "1.2.0",
          "state": {
            "_model_module": "@jupyter-widgets/base",
            "_model_module_version": "1.2.0",
            "_model_name": "LayoutModel",
            "_view_count": null,
            "_view_module": "@jupyter-widgets/base",
            "_view_module_version": "1.2.0",
            "_view_name": "LayoutView",
            "align_content": null,
            "align_items": null,
            "align_self": null,
            "border": null,
            "bottom": null,
            "display": null,
            "flex": null,
            "flex_flow": null,
            "grid_area": null,
            "grid_auto_columns": null,
            "grid_auto_flow": null,
            "grid_auto_rows": null,
            "grid_column": null,
            "grid_gap": null,
            "grid_row": null,
            "grid_template_areas": null,
            "grid_template_columns": null,
            "grid_template_rows": null,
            "height": null,
            "justify_content": null,
            "justify_items": null,
            "left": null,
            "margin": null,
            "max_height": null,
            "max_width": null,
            "min_height": null,
            "min_width": null,
            "object_fit": null,
            "object_position": null,
            "order": null,
            "overflow": null,
            "overflow_x": null,
            "overflow_y": null,
            "padding": null,
            "right": null,
            "top": null,
            "visibility": null,
            "width": null
          }
        },
        "178b3b99b00b41caaebef20672f6b17c": {
          "model_module": "@jupyter-widgets/controls",
          "model_name": "DescriptionStyleModel",
          "model_module_version": "1.5.0",
          "state": {
            "_model_module": "@jupyter-widgets/controls",
            "_model_module_version": "1.5.0",
            "_model_name": "DescriptionStyleModel",
            "_view_count": null,
            "_view_module": "@jupyter-widgets/base",
            "_view_module_version": "1.2.0",
            "_view_name": "StyleView",
            "description_width": ""
          }
        },
        "cd93b0472f2f432e8061d87c0e841030": {
          "model_module": "@jupyter-widgets/base",
          "model_name": "LayoutModel",
          "model_module_version": "1.2.0",
          "state": {
            "_model_module": "@jupyter-widgets/base",
            "_model_module_version": "1.2.0",
            "_model_name": "LayoutModel",
            "_view_count": null,
            "_view_module": "@jupyter-widgets/base",
            "_view_module_version": "1.2.0",
            "_view_name": "LayoutView",
            "align_content": null,
            "align_items": null,
            "align_self": null,
            "border": null,
            "bottom": null,
            "display": null,
            "flex": null,
            "flex_flow": null,
            "grid_area": null,
            "grid_auto_columns": null,
            "grid_auto_flow": null,
            "grid_auto_rows": null,
            "grid_column": null,
            "grid_gap": null,
            "grid_row": null,
            "grid_template_areas": null,
            "grid_template_columns": null,
            "grid_template_rows": null,
            "height": null,
            "justify_content": null,
            "justify_items": null,
            "left": null,
            "margin": null,
            "max_height": null,
            "max_width": null,
            "min_height": null,
            "min_width": null,
            "object_fit": null,
            "object_position": null,
            "order": null,
            "overflow": null,
            "overflow_x": null,
            "overflow_y": null,
            "padding": null,
            "right": null,
            "top": null,
            "visibility": null,
            "width": null
          }
        },
        "0e43b5c1d5544ae89cd38077a5e87f72": {
          "model_module": "@jupyter-widgets/controls",
          "model_name": "ProgressStyleModel",
          "model_module_version": "1.5.0",
          "state": {
            "_model_module": "@jupyter-widgets/controls",
            "_model_module_version": "1.5.0",
            "_model_name": "ProgressStyleModel",
            "_view_count": null,
            "_view_module": "@jupyter-widgets/base",
            "_view_module_version": "1.2.0",
            "_view_name": "StyleView",
            "bar_color": null,
            "description_width": ""
          }
        },
        "6fe49b915874496eb9318f1362bdecf9": {
          "model_module": "@jupyter-widgets/base",
          "model_name": "LayoutModel",
          "model_module_version": "1.2.0",
          "state": {
            "_model_module": "@jupyter-widgets/base",
            "_model_module_version": "1.2.0",
            "_model_name": "LayoutModel",
            "_view_count": null,
            "_view_module": "@jupyter-widgets/base",
            "_view_module_version": "1.2.0",
            "_view_name": "LayoutView",
            "align_content": null,
            "align_items": null,
            "align_self": null,
            "border": null,
            "bottom": null,
            "display": null,
            "flex": null,
            "flex_flow": null,
            "grid_area": null,
            "grid_auto_columns": null,
            "grid_auto_flow": null,
            "grid_auto_rows": null,
            "grid_column": null,
            "grid_gap": null,
            "grid_row": null,
            "grid_template_areas": null,
            "grid_template_columns": null,
            "grid_template_rows": null,
            "height": null,
            "justify_content": null,
            "justify_items": null,
            "left": null,
            "margin": null,
            "max_height": null,
            "max_width": null,
            "min_height": null,
            "min_width": null,
            "object_fit": null,
            "object_position": null,
            "order": null,
            "overflow": null,
            "overflow_x": null,
            "overflow_y": null,
            "padding": null,
            "right": null,
            "top": null,
            "visibility": null,
            "width": null
          }
        },
        "8a3294a47b9149169f6fe87430c91ae1": {
          "model_module": "@jupyter-widgets/controls",
          "model_name": "DescriptionStyleModel",
          "model_module_version": "1.5.0",
          "state": {
            "_model_module": "@jupyter-widgets/controls",
            "_model_module_version": "1.5.0",
            "_model_name": "DescriptionStyleModel",
            "_view_count": null,
            "_view_module": "@jupyter-widgets/base",
            "_view_module_version": "1.2.0",
            "_view_name": "StyleView",
            "description_width": ""
          }
        },
        "e0d69c01282148d4ae35cab5b7c4241f": {
          "model_module": "@jupyter-widgets/controls",
          "model_name": "HBoxModel",
          "model_module_version": "1.5.0",
          "state": {
            "_dom_classes": [],
            "_model_module": "@jupyter-widgets/controls",
            "_model_module_version": "1.5.0",
            "_model_name": "HBoxModel",
            "_view_count": null,
            "_view_module": "@jupyter-widgets/controls",
            "_view_module_version": "1.5.0",
            "_view_name": "HBoxView",
            "box_style": "",
            "children": [
              "IPY_MODEL_6d9a4282b1bb4febb4d1d497eaada70e",
              "IPY_MODEL_7f7f30375c8247e1a1e8e36a1d344d7b",
              "IPY_MODEL_0d43e97c315f450e98c52099ca2b55f1"
            ],
            "layout": "IPY_MODEL_69a8659fa0b44dac90f706bbc84dfa9d"
          }
        },
        "6d9a4282b1bb4febb4d1d497eaada70e": {
          "model_module": "@jupyter-widgets/controls",
          "model_name": "HTMLModel",
          "model_module_version": "1.5.0",
          "state": {
            "_dom_classes": [],
            "_model_module": "@jupyter-widgets/controls",
            "_model_module_version": "1.5.0",
            "_model_name": "HTMLModel",
            "_view_count": null,
            "_view_module": "@jupyter-widgets/controls",
            "_view_module_version": "1.5.0",
            "_view_name": "HTMLView",
            "description": "",
            "description_tooltip": null,
            "layout": "IPY_MODEL_8760dbf4012b4110af94f251862033c7",
            "placeholder": "​",
            "style": "IPY_MODEL_9abb94c9ee8e4d78b5a0efbce388a81a",
            "value": "Running chain 2: 100%"
          }
        },
        "7f7f30375c8247e1a1e8e36a1d344d7b": {
          "model_module": "@jupyter-widgets/controls",
          "model_name": "FloatProgressModel",
          "model_module_version": "1.5.0",
          "state": {
            "_dom_classes": [],
            "_model_module": "@jupyter-widgets/controls",
            "_model_module_version": "1.5.0",
            "_model_name": "FloatProgressModel",
            "_view_count": null,
            "_view_module": "@jupyter-widgets/controls",
            "_view_module_version": "1.5.0",
            "_view_name": "ProgressView",
            "bar_style": "success",
            "description": "",
            "description_tooltip": null,
            "layout": "IPY_MODEL_af797d0c767e49a38f1931099f7514c0",
            "max": 6000,
            "min": 0,
            "orientation": "horizontal",
            "style": "IPY_MODEL_6767236358134760956522a64a966c04",
            "value": 6000
          }
        },
        "0d43e97c315f450e98c52099ca2b55f1": {
          "model_module": "@jupyter-widgets/controls",
          "model_name": "HTMLModel",
          "model_module_version": "1.5.0",
          "state": {
            "_dom_classes": [],
            "_model_module": "@jupyter-widgets/controls",
            "_model_module_version": "1.5.0",
            "_model_name": "HTMLModel",
            "_view_count": null,
            "_view_module": "@jupyter-widgets/controls",
            "_view_module_version": "1.5.0",
            "_view_name": "HTMLView",
            "description": "",
            "description_tooltip": null,
            "layout": "IPY_MODEL_67604f02dc1e46b793e5096f070a9744",
            "placeholder": "​",
            "style": "IPY_MODEL_445143ac893f4ff29110e1812d04eda5",
            "value": " 6000/6000 [00:12&lt;00:00, 7059.88it/s]"
          }
        },
        "69a8659fa0b44dac90f706bbc84dfa9d": {
          "model_module": "@jupyter-widgets/base",
          "model_name": "LayoutModel",
          "model_module_version": "1.2.0",
          "state": {
            "_model_module": "@jupyter-widgets/base",
            "_model_module_version": "1.2.0",
            "_model_name": "LayoutModel",
            "_view_count": null,
            "_view_module": "@jupyter-widgets/base",
            "_view_module_version": "1.2.0",
            "_view_name": "LayoutView",
            "align_content": null,
            "align_items": null,
            "align_self": null,
            "border": null,
            "bottom": null,
            "display": null,
            "flex": null,
            "flex_flow": null,
            "grid_area": null,
            "grid_auto_columns": null,
            "grid_auto_flow": null,
            "grid_auto_rows": null,
            "grid_column": null,
            "grid_gap": null,
            "grid_row": null,
            "grid_template_areas": null,
            "grid_template_columns": null,
            "grid_template_rows": null,
            "height": null,
            "justify_content": null,
            "justify_items": null,
            "left": null,
            "margin": null,
            "max_height": null,
            "max_width": null,
            "min_height": null,
            "min_width": null,
            "object_fit": null,
            "object_position": null,
            "order": null,
            "overflow": null,
            "overflow_x": null,
            "overflow_y": null,
            "padding": null,
            "right": null,
            "top": null,
            "visibility": null,
            "width": null
          }
        },
        "8760dbf4012b4110af94f251862033c7": {
          "model_module": "@jupyter-widgets/base",
          "model_name": "LayoutModel",
          "model_module_version": "1.2.0",
          "state": {
            "_model_module": "@jupyter-widgets/base",
            "_model_module_version": "1.2.0",
            "_model_name": "LayoutModel",
            "_view_count": null,
            "_view_module": "@jupyter-widgets/base",
            "_view_module_version": "1.2.0",
            "_view_name": "LayoutView",
            "align_content": null,
            "align_items": null,
            "align_self": null,
            "border": null,
            "bottom": null,
            "display": null,
            "flex": null,
            "flex_flow": null,
            "grid_area": null,
            "grid_auto_columns": null,
            "grid_auto_flow": null,
            "grid_auto_rows": null,
            "grid_column": null,
            "grid_gap": null,
            "grid_row": null,
            "grid_template_areas": null,
            "grid_template_columns": null,
            "grid_template_rows": null,
            "height": null,
            "justify_content": null,
            "justify_items": null,
            "left": null,
            "margin": null,
            "max_height": null,
            "max_width": null,
            "min_height": null,
            "min_width": null,
            "object_fit": null,
            "object_position": null,
            "order": null,
            "overflow": null,
            "overflow_x": null,
            "overflow_y": null,
            "padding": null,
            "right": null,
            "top": null,
            "visibility": null,
            "width": null
          }
        },
        "9abb94c9ee8e4d78b5a0efbce388a81a": {
          "model_module": "@jupyter-widgets/controls",
          "model_name": "DescriptionStyleModel",
          "model_module_version": "1.5.0",
          "state": {
            "_model_module": "@jupyter-widgets/controls",
            "_model_module_version": "1.5.0",
            "_model_name": "DescriptionStyleModel",
            "_view_count": null,
            "_view_module": "@jupyter-widgets/base",
            "_view_module_version": "1.2.0",
            "_view_name": "StyleView",
            "description_width": ""
          }
        },
        "af797d0c767e49a38f1931099f7514c0": {
          "model_module": "@jupyter-widgets/base",
          "model_name": "LayoutModel",
          "model_module_version": "1.2.0",
          "state": {
            "_model_module": "@jupyter-widgets/base",
            "_model_module_version": "1.2.0",
            "_model_name": "LayoutModel",
            "_view_count": null,
            "_view_module": "@jupyter-widgets/base",
            "_view_module_version": "1.2.0",
            "_view_name": "LayoutView",
            "align_content": null,
            "align_items": null,
            "align_self": null,
            "border": null,
            "bottom": null,
            "display": null,
            "flex": null,
            "flex_flow": null,
            "grid_area": null,
            "grid_auto_columns": null,
            "grid_auto_flow": null,
            "grid_auto_rows": null,
            "grid_column": null,
            "grid_gap": null,
            "grid_row": null,
            "grid_template_areas": null,
            "grid_template_columns": null,
            "grid_template_rows": null,
            "height": null,
            "justify_content": null,
            "justify_items": null,
            "left": null,
            "margin": null,
            "max_height": null,
            "max_width": null,
            "min_height": null,
            "min_width": null,
            "object_fit": null,
            "object_position": null,
            "order": null,
            "overflow": null,
            "overflow_x": null,
            "overflow_y": null,
            "padding": null,
            "right": null,
            "top": null,
            "visibility": null,
            "width": null
          }
        },
        "6767236358134760956522a64a966c04": {
          "model_module": "@jupyter-widgets/controls",
          "model_name": "ProgressStyleModel",
          "model_module_version": "1.5.0",
          "state": {
            "_model_module": "@jupyter-widgets/controls",
            "_model_module_version": "1.5.0",
            "_model_name": "ProgressStyleModel",
            "_view_count": null,
            "_view_module": "@jupyter-widgets/base",
            "_view_module_version": "1.2.0",
            "_view_name": "StyleView",
            "bar_color": null,
            "description_width": ""
          }
        },
        "67604f02dc1e46b793e5096f070a9744": {
          "model_module": "@jupyter-widgets/base",
          "model_name": "LayoutModel",
          "model_module_version": "1.2.0",
          "state": {
            "_model_module": "@jupyter-widgets/base",
            "_model_module_version": "1.2.0",
            "_model_name": "LayoutModel",
            "_view_count": null,
            "_view_module": "@jupyter-widgets/base",
            "_view_module_version": "1.2.0",
            "_view_name": "LayoutView",
            "align_content": null,
            "align_items": null,
            "align_self": null,
            "border": null,
            "bottom": null,
            "display": null,
            "flex": null,
            "flex_flow": null,
            "grid_area": null,
            "grid_auto_columns": null,
            "grid_auto_flow": null,
            "grid_auto_rows": null,
            "grid_column": null,
            "grid_gap": null,
            "grid_row": null,
            "grid_template_areas": null,
            "grid_template_columns": null,
            "grid_template_rows": null,
            "height": null,
            "justify_content": null,
            "justify_items": null,
            "left": null,
            "margin": null,
            "max_height": null,
            "max_width": null,
            "min_height": null,
            "min_width": null,
            "object_fit": null,
            "object_position": null,
            "order": null,
            "overflow": null,
            "overflow_x": null,
            "overflow_y": null,
            "padding": null,
            "right": null,
            "top": null,
            "visibility": null,
            "width": null
          }
        },
        "445143ac893f4ff29110e1812d04eda5": {
          "model_module": "@jupyter-widgets/controls",
          "model_name": "DescriptionStyleModel",
          "model_module_version": "1.5.0",
          "state": {
            "_model_module": "@jupyter-widgets/controls",
            "_model_module_version": "1.5.0",
            "_model_name": "DescriptionStyleModel",
            "_view_count": null,
            "_view_module": "@jupyter-widgets/base",
            "_view_module_version": "1.2.0",
            "_view_name": "StyleView",
            "description_width": ""
          }
        },
        "1aea7ead10864e0ea0ffaf9522b4efe9": {
          "model_module": "@jupyter-widgets/controls",
          "model_name": "HBoxModel",
          "model_module_version": "1.5.0",
          "state": {
            "_dom_classes": [],
            "_model_module": "@jupyter-widgets/controls",
            "_model_module_version": "1.5.0",
            "_model_name": "HBoxModel",
            "_view_count": null,
            "_view_module": "@jupyter-widgets/controls",
            "_view_module_version": "1.5.0",
            "_view_name": "HBoxView",
            "box_style": "",
            "children": [
              "IPY_MODEL_03ece6c825304b589c393e6b7615f634",
              "IPY_MODEL_0b47a6629dc4421c8def4ea2e846a5c7",
              "IPY_MODEL_89a733a15e204711bddf9760a397b328"
            ],
            "layout": "IPY_MODEL_e3c9c76c945040a3a83a23713bd286e7"
          }
        },
        "03ece6c825304b589c393e6b7615f634": {
          "model_module": "@jupyter-widgets/controls",
          "model_name": "HTMLModel",
          "model_module_version": "1.5.0",
          "state": {
            "_dom_classes": [],
            "_model_module": "@jupyter-widgets/controls",
            "_model_module_version": "1.5.0",
            "_model_name": "HTMLModel",
            "_view_count": null,
            "_view_module": "@jupyter-widgets/controls",
            "_view_module_version": "1.5.0",
            "_view_name": "HTMLView",
            "description": "",
            "description_tooltip": null,
            "layout": "IPY_MODEL_8d07351a5a534692aeafcdbf4eaaf7b0",
            "placeholder": "​",
            "style": "IPY_MODEL_28661207ded04114adfc59fe77717549",
            "value": "Running chain 3: 100%"
          }
        },
        "0b47a6629dc4421c8def4ea2e846a5c7": {
          "model_module": "@jupyter-widgets/controls",
          "model_name": "FloatProgressModel",
          "model_module_version": "1.5.0",
          "state": {
            "_dom_classes": [],
            "_model_module": "@jupyter-widgets/controls",
            "_model_module_version": "1.5.0",
            "_model_name": "FloatProgressModel",
            "_view_count": null,
            "_view_module": "@jupyter-widgets/controls",
            "_view_module_version": "1.5.0",
            "_view_name": "ProgressView",
            "bar_style": "success",
            "description": "",
            "description_tooltip": null,
            "layout": "IPY_MODEL_f18f04e063004b2ab6c4761160d7b280",
            "max": 6000,
            "min": 0,
            "orientation": "horizontal",
            "style": "IPY_MODEL_f7cfa1f727514ce0bc3a28f40960894a",
            "value": 6000
          }
        },
        "89a733a15e204711bddf9760a397b328": {
          "model_module": "@jupyter-widgets/controls",
          "model_name": "HTMLModel",
          "model_module_version": "1.5.0",
          "state": {
            "_dom_classes": [],
            "_model_module": "@jupyter-widgets/controls",
            "_model_module_version": "1.5.0",
            "_model_name": "HTMLModel",
            "_view_count": null,
            "_view_module": "@jupyter-widgets/controls",
            "_view_module_version": "1.5.0",
            "_view_name": "HTMLView",
            "description": "",
            "description_tooltip": null,
            "layout": "IPY_MODEL_bb396ca5ac2b4595911ea1d3bd92d3d4",
            "placeholder": "​",
            "style": "IPY_MODEL_6e8c00f2969e4ca5b05004522f8feb91",
            "value": " 6000/6000 [00:12&lt;00:00, 7275.95it/s]"
          }
        },
        "e3c9c76c945040a3a83a23713bd286e7": {
          "model_module": "@jupyter-widgets/base",
          "model_name": "LayoutModel",
          "model_module_version": "1.2.0",
          "state": {
            "_model_module": "@jupyter-widgets/base",
            "_model_module_version": "1.2.0",
            "_model_name": "LayoutModel",
            "_view_count": null,
            "_view_module": "@jupyter-widgets/base",
            "_view_module_version": "1.2.0",
            "_view_name": "LayoutView",
            "align_content": null,
            "align_items": null,
            "align_self": null,
            "border": null,
            "bottom": null,
            "display": null,
            "flex": null,
            "flex_flow": null,
            "grid_area": null,
            "grid_auto_columns": null,
            "grid_auto_flow": null,
            "grid_auto_rows": null,
            "grid_column": null,
            "grid_gap": null,
            "grid_row": null,
            "grid_template_areas": null,
            "grid_template_columns": null,
            "grid_template_rows": null,
            "height": null,
            "justify_content": null,
            "justify_items": null,
            "left": null,
            "margin": null,
            "max_height": null,
            "max_width": null,
            "min_height": null,
            "min_width": null,
            "object_fit": null,
            "object_position": null,
            "order": null,
            "overflow": null,
            "overflow_x": null,
            "overflow_y": null,
            "padding": null,
            "right": null,
            "top": null,
            "visibility": null,
            "width": null
          }
        },
        "8d07351a5a534692aeafcdbf4eaaf7b0": {
          "model_module": "@jupyter-widgets/base",
          "model_name": "LayoutModel",
          "model_module_version": "1.2.0",
          "state": {
            "_model_module": "@jupyter-widgets/base",
            "_model_module_version": "1.2.0",
            "_model_name": "LayoutModel",
            "_view_count": null,
            "_view_module": "@jupyter-widgets/base",
            "_view_module_version": "1.2.0",
            "_view_name": "LayoutView",
            "align_content": null,
            "align_items": null,
            "align_self": null,
            "border": null,
            "bottom": null,
            "display": null,
            "flex": null,
            "flex_flow": null,
            "grid_area": null,
            "grid_auto_columns": null,
            "grid_auto_flow": null,
            "grid_auto_rows": null,
            "grid_column": null,
            "grid_gap": null,
            "grid_row": null,
            "grid_template_areas": null,
            "grid_template_columns": null,
            "grid_template_rows": null,
            "height": null,
            "justify_content": null,
            "justify_items": null,
            "left": null,
            "margin": null,
            "max_height": null,
            "max_width": null,
            "min_height": null,
            "min_width": null,
            "object_fit": null,
            "object_position": null,
            "order": null,
            "overflow": null,
            "overflow_x": null,
            "overflow_y": null,
            "padding": null,
            "right": null,
            "top": null,
            "visibility": null,
            "width": null
          }
        },
        "28661207ded04114adfc59fe77717549": {
          "model_module": "@jupyter-widgets/controls",
          "model_name": "DescriptionStyleModel",
          "model_module_version": "1.5.0",
          "state": {
            "_model_module": "@jupyter-widgets/controls",
            "_model_module_version": "1.5.0",
            "_model_name": "DescriptionStyleModel",
            "_view_count": null,
            "_view_module": "@jupyter-widgets/base",
            "_view_module_version": "1.2.0",
            "_view_name": "StyleView",
            "description_width": ""
          }
        },
        "f18f04e063004b2ab6c4761160d7b280": {
          "model_module": "@jupyter-widgets/base",
          "model_name": "LayoutModel",
          "model_module_version": "1.2.0",
          "state": {
            "_model_module": "@jupyter-widgets/base",
            "_model_module_version": "1.2.0",
            "_model_name": "LayoutModel",
            "_view_count": null,
            "_view_module": "@jupyter-widgets/base",
            "_view_module_version": "1.2.0",
            "_view_name": "LayoutView",
            "align_content": null,
            "align_items": null,
            "align_self": null,
            "border": null,
            "bottom": null,
            "display": null,
            "flex": null,
            "flex_flow": null,
            "grid_area": null,
            "grid_auto_columns": null,
            "grid_auto_flow": null,
            "grid_auto_rows": null,
            "grid_column": null,
            "grid_gap": null,
            "grid_row": null,
            "grid_template_areas": null,
            "grid_template_columns": null,
            "grid_template_rows": null,
            "height": null,
            "justify_content": null,
            "justify_items": null,
            "left": null,
            "margin": null,
            "max_height": null,
            "max_width": null,
            "min_height": null,
            "min_width": null,
            "object_fit": null,
            "object_position": null,
            "order": null,
            "overflow": null,
            "overflow_x": null,
            "overflow_y": null,
            "padding": null,
            "right": null,
            "top": null,
            "visibility": null,
            "width": null
          }
        },
        "f7cfa1f727514ce0bc3a28f40960894a": {
          "model_module": "@jupyter-widgets/controls",
          "model_name": "ProgressStyleModel",
          "model_module_version": "1.5.0",
          "state": {
            "_model_module": "@jupyter-widgets/controls",
            "_model_module_version": "1.5.0",
            "_model_name": "ProgressStyleModel",
            "_view_count": null,
            "_view_module": "@jupyter-widgets/base",
            "_view_module_version": "1.2.0",
            "_view_name": "StyleView",
            "bar_color": null,
            "description_width": ""
          }
        },
        "bb396ca5ac2b4595911ea1d3bd92d3d4": {
          "model_module": "@jupyter-widgets/base",
          "model_name": "LayoutModel",
          "model_module_version": "1.2.0",
          "state": {
            "_model_module": "@jupyter-widgets/base",
            "_model_module_version": "1.2.0",
            "_model_name": "LayoutModel",
            "_view_count": null,
            "_view_module": "@jupyter-widgets/base",
            "_view_module_version": "1.2.0",
            "_view_name": "LayoutView",
            "align_content": null,
            "align_items": null,
            "align_self": null,
            "border": null,
            "bottom": null,
            "display": null,
            "flex": null,
            "flex_flow": null,
            "grid_area": null,
            "grid_auto_columns": null,
            "grid_auto_flow": null,
            "grid_auto_rows": null,
            "grid_column": null,
            "grid_gap": null,
            "grid_row": null,
            "grid_template_areas": null,
            "grid_template_columns": null,
            "grid_template_rows": null,
            "height": null,
            "justify_content": null,
            "justify_items": null,
            "left": null,
            "margin": null,
            "max_height": null,
            "max_width": null,
            "min_height": null,
            "min_width": null,
            "object_fit": null,
            "object_position": null,
            "order": null,
            "overflow": null,
            "overflow_x": null,
            "overflow_y": null,
            "padding": null,
            "right": null,
            "top": null,
            "visibility": null,
            "width": null
          }
        },
        "6e8c00f2969e4ca5b05004522f8feb91": {
          "model_module": "@jupyter-widgets/controls",
          "model_name": "DescriptionStyleModel",
          "model_module_version": "1.5.0",
          "state": {
            "_model_module": "@jupyter-widgets/controls",
            "_model_module_version": "1.5.0",
            "_model_name": "DescriptionStyleModel",
            "_view_count": null,
            "_view_module": "@jupyter-widgets/base",
            "_view_module_version": "1.2.0",
            "_view_name": "StyleView",
            "description_width": ""
          }
        }
      }
    }
  },
  "nbformat": 4,
  "nbformat_minor": 0
}